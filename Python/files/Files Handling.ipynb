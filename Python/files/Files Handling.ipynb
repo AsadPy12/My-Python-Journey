{
 "cells": [
  {
   "cell_type": "markdown",
   "id": "45b12cda",
   "metadata": {},
   "source": [
    "#### txt files (write, read, append mode)"
   ]
  },
  {
   "cell_type": "code",
   "execution_count": 2,
   "id": "88fbbdd3",
   "metadata": {},
   "outputs": [],
   "source": [
    "with open('file_handling.txt', 'w') as file:\n",
    "    file.write(\"Hello Python world I'm learning my first File Handling experience in Python.\")"
   ]
  },
  {
   "cell_type": "code",
   "execution_count": 5,
   "id": "9d565e90",
   "metadata": {},
   "outputs": [],
   "source": [
    "with open('file_handling.txt', 'a') as file:\n",
    "    file.write('\\nThis experience gives me vibes as a basic programmer.')"
   ]
  },
  {
   "cell_type": "code",
   "execution_count": 6,
   "id": "a258b3f6",
   "metadata": {},
   "outputs": [
    {
     "name": "stdout",
     "output_type": "stream",
     "text": [
      "Hello Python world I'm learning my first File Handling experience in Python.This experience gives me vibes as a basic programmer.\n",
      "This experience gives me vibes as a basic programmer.\n"
     ]
    }
   ],
   "source": [
    "with open('file_handling.txt', 'r') as file:\n",
    "    content = file.read()\n",
    "    print(content)"
   ]
  },
  {
   "cell_type": "markdown",
   "id": "ecffdd8b",
   "metadata": {},
   "source": [
    "#### Module"
   ]
  },
  {
   "cell_type": "code",
   "execution_count": 6,
   "id": "7faa9d9e",
   "metadata": {},
   "outputs": [
    {
     "ename": "ModuleNotFoundError",
     "evalue": "No module named 'calculations'",
     "output_type": "error",
     "traceback": [
      "\u001b[1;31m---------------------------------------------------------------------------\u001b[0m",
      "\u001b[1;31mModuleNotFoundError\u001b[0m                       Traceback (most recent call last)",
      "Cell \u001b[1;32mIn[6], line 1\u001b[0m\n\u001b[1;32m----> 1\u001b[0m \u001b[38;5;28;01mimport\u001b[39;00m \u001b[38;5;21;01mcalculations\u001b[39;00m\n",
      "\u001b[1;31mModuleNotFoundError\u001b[0m: No module named 'calculations'"
     ]
    }
   ],
   "source": [
    "import calculations"
   ]
  },
  {
   "cell_type": "code",
   "execution_count": null,
   "id": "d391cc5a",
   "metadata": {},
   "outputs": [],
   "source": []
  }
 ],
 "metadata": {
  "kernelspec": {
   "display_name": "Python 3 (ipykernel)",
   "language": "python",
   "name": "python3"
  },
  "language_info": {
   "codemirror_mode": {
    "name": "ipython",
    "version": 3
   },
   "file_extension": ".py",
   "mimetype": "text/x-python",
   "name": "python",
   "nbconvert_exporter": "python",
   "pygments_lexer": "ipython3",
   "version": "3.11.5"
  }
 },
 "nbformat": 4,
 "nbformat_minor": 5
}
