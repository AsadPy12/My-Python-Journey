{
 "cells": [
  {
   "cell_type": "markdown",
   "id": "45b12cda",
   "metadata": {},
   "source": [
    "#### txt files (write, read, append mode)"
   ]
  },
  {
   "cell_type": "code",
   "execution_count": 2,
   "id": "88fbbdd3",
   "metadata": {},
   "outputs": [],
   "source": [
    "with open('file_handling.txt', 'w') as file:\n",
    "    file.write(\"Hello Python world I'm learning my first File Handling experience in Python.\")"
   ]
  },
  {
   "cell_type": "code",
   "execution_count": 5,
   "id": "9d565e90",
   "metadata": {},
   "outputs": [],
   "source": [
    "with open('file_handling.txt', 'a') as file:\n",
    "    file.write('\\nThis experience gives me vibes as a basic programmer.')"
   ]
  },
  {
   "cell_type": "code",
   "execution_count": 6,
   "id": "a258b3f6",
   "metadata": {},
   "outputs": [
    {
     "name": "stdout",
     "output_type": "stream",
     "text": [
      "Hello Python world I'm learning my first File Handling experience in Python.This experience gives me vibes as a basic programmer.\n",
      "This experience gives me vibes as a basic programmer.\n"
     ]
    }
   ],
   "source": [
    "with open('file_handling.txt', 'r') as file:\n",
    "    content = file.read()\n",
    "    print(content)"
   ]
  },
  {
   "cell_type": "markdown",
   "id": "5930e12c",
   "metadata": {},
   "source": [
    "#### CSV File:"
   ]
  },
  {
   "cell_type": "code",
   "execution_count": 1,
   "id": "2436af68",
   "metadata": {},
   "outputs": [],
   "source": [
    "import csv"
   ]
  },
  {
   "cell_type": "code",
   "execution_count": 8,
   "id": "4b0a9b0c",
   "metadata": {},
   "outputs": [],
   "source": [
    "# for writing data in csv files:\n",
    "with open(\"data.csv\", 'w', newline = '') as file:\n",
    "    csv_write = csv.writer(file, delimiter = ',')\n",
    "    csv_write.writerow(['Name', 'Age', 'Country']) # this is Header\n",
    "    csv_write.writerow(['John', '25', 'USA'])\n",
    "    csv_write.writerow(['Emily', '30', 'Canada'])"
   ]
  },
  {
   "cell_type": "code",
   "execution_count": 9,
   "id": "fb99ffee",
   "metadata": {},
   "outputs": [],
   "source": [
    "# for appending data in csv files:\n",
    "with open('data.csv', 'a', newline = '') as file:\n",
    "    csv_write = csv.writer(file, delimiter = ',')\n",
    "    csv_write.writerow(['Michael', '2', 'UK'])\n",
    "    csv_write.writerow(['Sophia', '28', 'Australia'])\n",
    "    csv_write.writerow(['Daniel', '35', 'Germany'])"
   ]
  },
  {
   "cell_type": "code",
   "execution_count": 10,
   "id": "c62ffcd0",
   "metadata": {},
   "outputs": [],
   "source": [
    "# for reading the data in csv file:\n",
    "# Method 1\n",
    "with open('data.csv', 'r') as file:\n",
    "    csv_reader = csv.reader(file, delimiter = ',')\n",
    "    csv_list = []\n",
    "    for record in csv_reader:\n",
    "        csv_list += record"
   ]
  },
  {
   "cell_type": "code",
   "execution_count": 11,
   "id": "107c430e",
   "metadata": {},
   "outputs": [
    {
     "name": "stdout",
     "output_type": "stream",
     "text": [
      "['Name', 'Age', 'Country', 'John', '25', 'USA', 'Emily', '30', 'Canada', 'Michael', '2', 'UK', 'Sophia', '28', 'Australia', 'Daniel', '35', 'Germany']\n"
     ]
    }
   ],
   "source": [
    "print(csv_list)"
   ]
  },
  {
   "cell_type": "code",
   "execution_count": 12,
   "id": "03049f76",
   "metadata": {},
   "outputs": [
    {
     "name": "stdout",
     "output_type": "stream",
     "text": [
      "[['Name', 'Age', 'Country'], ['John', '25', 'USA'], ['Emily', '30', 'Canada'], ['Michael', '2', 'UK'], ['Sophia', '28', 'Australia'], ['Daniel', '35', 'Germany']]\n"
     ]
    }
   ],
   "source": [
    "# Method 2\n",
    "with open('data.csv', 'r') as file:\n",
    "    csv_reader = csv.reader(file, delimiter = ',')\n",
    "    print(list(csv_reader))"
   ]
  },
  {
   "cell_type": "code",
   "execution_count": 13,
   "id": "d10014ee",
   "metadata": {},
   "outputs": [],
   "source": [
    "import csv"
   ]
  },
  {
   "cell_type": "code",
   "execution_count": 14,
   "id": "838bc12d",
   "metadata": {},
   "outputs": [
    {
     "name": "stdout",
     "output_type": "stream",
     "text": [
      "[['YEAR', 'SEASON_NUMBER', 'WINNER'], ['2016', '1', 'Islamabad United'], ['2017', '2', 'Peshawar Zalmi'], ['2018', '3', 'Islamabad United'], ['2019', '4', 'Quetta Gladiators'], ['2020', '5', 'Karachi Kings'], ['2021', '6', 'Multan Sultans']]\n"
     ]
    }
   ],
   "source": [
    "with open('psl_details.csv', 'r') as file:\n",
    "    csv_reader = csv.reader(file)\n",
    "    print(list(csv_reader))"
   ]
  },
  {
   "cell_type": "code",
   "execution_count": 15,
   "id": "22610a13",
   "metadata": {},
   "outputs": [],
   "source": [
    "with open('psl_details.csv', 'r') as file:\n",
    "    psl_reader = csv.reader(file)\n",
    "    psl_list = []\n",
    "    for details in psl_reader:\n",
    "        psl_list += details"
   ]
  },
  {
   "cell_type": "code",
   "execution_count": 16,
   "id": "4f21eaf2",
   "metadata": {},
   "outputs": [
    {
     "name": "stdout",
     "output_type": "stream",
     "text": [
      "['YEAR', 'SEASON_NUMBER', 'WINNER', '2016', '1', 'Islamabad United', '2017', '2', 'Peshawar Zalmi', '2018', '3', 'Islamabad United', '2019', '4', 'Quetta Gladiators', '2020', '5', 'Karachi Kings', '2021', '6', 'Multan Sultans']\n"
     ]
    }
   ],
   "source": [
    "print(psl_list)"
   ]
  },
  {
   "cell_type": "code",
   "execution_count": 17,
   "id": "88e90118",
   "metadata": {},
   "outputs": [
    {
     "name": "stdout",
     "output_type": "stream",
     "text": [
      "2016\n"
     ]
    }
   ],
   "source": [
    "print(psl_list[3])"
   ]
  },
  {
   "cell_type": "code",
   "execution_count": 18,
   "id": "f0ffb260",
   "metadata": {},
   "outputs": [
    {
     "name": "stdout",
     "output_type": "stream",
     "text": [
      "2017\n"
     ]
    }
   ],
   "source": [
    "print(psl_list[6])"
   ]
  },
  {
   "cell_type": "code",
   "execution_count": 20,
   "id": "bb8e4415",
   "metadata": {},
   "outputs": [
    {
     "name": "stdout",
     "output_type": "stream",
     "text": [
      "0\n"
     ]
    }
   ],
   "source": [
    "print(psl_list[3][1])"
   ]
  },
  {
   "cell_type": "code",
   "execution_count": 35,
   "id": "42e2ec12",
   "metadata": {},
   "outputs": [
    {
     "name": "stdout",
     "output_type": "stream",
     "text": [
      " Za\n"
     ]
    }
   ],
   "source": [
    "print(psl_list[8][-6:-3])"
   ]
  },
  {
   "cell_type": "code",
   "execution_count": 40,
   "id": "1cb3c641",
   "metadata": {},
   "outputs": [],
   "source": [
    "index = psl_list.index('Quetta Gladiators')"
   ]
  },
  {
   "cell_type": "code",
   "execution_count": 41,
   "id": "9de653ba",
   "metadata": {},
   "outputs": [
    {
     "data": {
      "text/plain": [
       "14"
      ]
     },
     "execution_count": 41,
     "metadata": {},
     "output_type": "execute_result"
    }
   ],
   "source": [
    "index"
   ]
  },
  {
   "cell_type": "code",
   "execution_count": 43,
   "id": "98f2cae5",
   "metadata": {},
   "outputs": [
    {
     "data": {
      "text/plain": [
       "'Gladiators'"
      ]
     },
     "execution_count": 43,
     "metadata": {},
     "output_type": "execute_result"
    }
   ],
   "source": [
    "psl_list[14][7:]"
   ]
  },
  {
   "cell_type": "code",
   "execution_count": 45,
   "id": "5032d9f9",
   "metadata": {},
   "outputs": [
    {
     "name": "stdout",
     "output_type": "stream",
     "text": [
      "Enter the season No: 5\n",
      "The winner of season 5 was Karachi Kings\n"
     ]
    }
   ],
   "source": [
    "target = input('Enter the season No: ')\n",
    "index_number = psl_list.index(target)\n",
    "index_winner = index_number + 1\n",
    "winner = psl_list[index_winner]\n",
    "print(f'The winner of season {target} was {winner}')"
   ]
  },
  {
   "cell_type": "markdown",
   "id": "75362be8",
   "metadata": {},
   "source": [
    "#### JSON File handling:"
   ]
  },
  {
   "cell_type": "code",
   "execution_count": 1,
   "id": "72e87c1d",
   "metadata": {},
   "outputs": [],
   "source": [
    "import json"
   ]
  },
  {
   "cell_type": "code",
   "execution_count": 2,
   "id": "6628cb2f",
   "metadata": {},
   "outputs": [],
   "source": [
    "# for write text in json files\n",
    "psl = ['KK','IU','QD','MS','LQ','PZ']\n",
    "with open('psl.json', 'w') as file:\n",
    "    json.dump(psl, file)"
   ]
  },
  {
   "cell_type": "code",
   "execution_count": 4,
   "id": "c50e4d11",
   "metadata": {},
   "outputs": [
    {
     "name": "stdout",
     "output_type": "stream",
     "text": [
      "['KK', 'IU', 'QD', 'MS', 'LQ', 'PZ']\n"
     ]
    }
   ],
   "source": [
    "# for read text in json files\n",
    "with open('psl.json', 'r') as file:\n",
    "    teams = json.load(file)\n",
    "    print(teams)"
   ]
  },
  {
   "cell_type": "code",
   "execution_count": 5,
   "id": "ee4e2da1",
   "metadata": {},
   "outputs": [],
   "source": [
    "customer_8849 = {\n",
    "    'first name': 'Muneeb',\n",
    "    'last name': 'Ullah',\n",
    "    'age': 21,\n",
    "    'address': '5th strt Wellsley tow.'\n",
    "}"
   ]
  },
  {
   "cell_type": "code",
   "execution_count": 7,
   "id": "fc2d5a74",
   "metadata": {},
   "outputs": [],
   "source": [
    "with open('customer_8849.json', 'w') as file:\n",
    "    json.dump(customer_8849, file)"
   ]
  },
  {
   "cell_type": "code",
   "execution_count": 9,
   "id": "897b4061",
   "metadata": {},
   "outputs": [
    {
     "name": "stdout",
     "output_type": "stream",
     "text": [
      "{'first name': 'Muneeb', 'last name': 'Ullah', 'age': 21, 'address': '5th strt Wellsley tow.'}\n"
     ]
    }
   ],
   "source": [
    "with open('customer_8849.json', 'r') as file:\n",
    "    customers = json.load(file)\n",
    "    print(customers)"
   ]
  },
  {
   "cell_type": "code",
   "execution_count": 10,
   "id": "9e556317",
   "metadata": {},
   "outputs": [
    {
     "data": {
      "text/plain": [
       "dict"
      ]
     },
     "execution_count": 10,
     "metadata": {},
     "output_type": "execute_result"
    }
   ],
   "source": [
    "type(customer_8849)"
   ]
  },
  {
   "cell_type": "code",
   "execution_count": 12,
   "id": "dbeaa2d7",
   "metadata": {},
   "outputs": [],
   "source": [
    "customer_8849['address'] = 'Mubina town'"
   ]
  },
  {
   "cell_type": "code",
   "execution_count": 13,
   "id": "dbe82ea6",
   "metadata": {},
   "outputs": [
    {
     "data": {
      "text/plain": [
       "'Mubina town'"
      ]
     },
     "execution_count": 13,
     "metadata": {},
     "output_type": "execute_result"
    }
   ],
   "source": [
    "customer_8849['address']"
   ]
  },
  {
   "cell_type": "code",
   "execution_count": 22,
   "id": "e7e31c40",
   "metadata": {},
   "outputs": [
    {
     "data": {
      "text/plain": [
       "'la'"
      ]
     },
     "execution_count": 22,
     "metadata": {},
     "output_type": "execute_result"
    }
   ],
   "source": [
    "customer_8849['last name'][2:4]"
   ]
  },
  {
   "cell_type": "code",
   "execution_count": 27,
   "id": "c3182ef8",
   "metadata": {},
   "outputs": [
    {
     "data": {
      "text/plain": [
       "'town'"
      ]
     },
     "execution_count": 27,
     "metadata": {},
     "output_type": "execute_result"
    }
   ],
   "source": [
    "customer_8849['address'][7:11]"
   ]
  },
  {
   "cell_type": "code",
   "execution_count": 34,
   "id": "e90335e6",
   "metadata": {},
   "outputs": [],
   "source": [
    "with open('Practice.txt','w') as file:\n",
    "    file.write(\"hello\")"
   ]
  },
  {
   "cell_type": "code",
   "execution_count": 35,
   "id": "a98bd340",
   "metadata": {},
   "outputs": [
    {
     "name": "stdout",
     "output_type": "stream",
     "text": [
      "{\n",
      "  \"name\": \"John Doe\",\n",
      "  \"age\": 30,\n",
      "  \"email\": \"john.doe@example.com\",\n",
      "  \"address\": {\n",
      "    \"street\": \"123 Main St\",\n",
      "    \"city\": \"Anytown\",\n",
      "    \"state\": \"CA\",\n",
      "    \"zip\": \"12345\"\n",
      "  },\n",
      "  \"interests\": [\"coding\", \"reading\", \"traveling\"]\n",
      "}\n",
      "\n"
     ]
    }
   ],
   "source": [
    "with open('Practice.txt', 'r') as file:\n",
    "    reader = file.read()\n",
    "    print(reader)"
   ]
  },
  {
   "cell_type": "code",
   "execution_count": 38,
   "id": "f535fd4d",
   "metadata": {},
   "outputs": [
    {
     "name": "stdout",
     "output_type": "stream",
     "text": [
      "{'name': 'John Doe', 'age': 30, 'email': 'john.doe@example.com', 'address': {'street': '123 Main St', 'city': 'Anytown', 'state': 'CA', 'zip': '12345'}, 'interests': ['coding', 'reading', 'traveling']}\n"
     ]
    }
   ],
   "source": [
    "with open('Practice.json', 'r') as file:\n",
    "    reader = json.load(file)\n",
    "    print(reader)"
   ]
  },
  {
   "cell_type": "code",
   "execution_count": 47,
   "id": "b4694a4c",
   "metadata": {},
   "outputs": [
    {
     "data": {
      "text/plain": [
       "'com'"
      ]
     },
     "execution_count": 47,
     "metadata": {},
     "output_type": "execute_result"
    }
   ],
   "source": [
    "reader['email'][17:]"
   ]
  },
  {
   "cell_type": "code",
   "execution_count": 71,
   "id": "22e0e5b2",
   "metadata": {},
   "outputs": [
    {
     "data": {
      "text/plain": [
       "'cod'"
      ]
     },
     "execution_count": 71,
     "metadata": {},
     "output_type": "execute_result"
    }
   ],
   "source": [
    "reader['interests'][0][:3]"
   ]
  },
  {
   "cell_type": "code",
   "execution_count": 72,
   "id": "0629ab87",
   "metadata": {},
   "outputs": [
    {
     "data": {
      "text/plain": [
       "'read'"
      ]
     },
     "execution_count": 72,
     "metadata": {},
     "output_type": "execute_result"
    }
   ],
   "source": [
    "reader['interests'][1][:4]"
   ]
  },
  {
   "cell_type": "code",
   "execution_count": 81,
   "id": "bf881280",
   "metadata": {},
   "outputs": [],
   "source": [
    "hobby = reader['interests'][2][:6]"
   ]
  },
  {
   "cell_type": "code",
   "execution_count": 82,
   "id": "3110872d",
   "metadata": {},
   "outputs": [
    {
     "data": {
      "text/plain": [
       "'travel'"
      ]
     },
     "execution_count": 82,
     "metadata": {},
     "output_type": "execute_result"
    }
   ],
   "source": [
    "hobby"
   ]
  },
  {
   "cell_type": "code",
   "execution_count": 75,
   "id": "fc932d68",
   "metadata": {},
   "outputs": [
    {
     "data": {
      "text/plain": [
       "'CA'"
      ]
     },
     "execution_count": 75,
     "metadata": {},
     "output_type": "execute_result"
    }
   ],
   "source": [
    "reader['address']['state']"
   ]
  },
  {
   "cell_type": "code",
   "execution_count": 75,
   "id": "365de1dc",
   "metadata": {},
   "outputs": [
    {
     "data": {
      "text/plain": [
       "'CA'"
      ]
     },
     "execution_count": 75,
     "metadata": {},
     "output_type": "execute_result"
    }
   ],
   "source": [
    "reader['address']['state']"
   ]
  },
  {
   "cell_type": "code",
   "execution_count": 77,
   "id": "e135b340",
   "metadata": {},
   "outputs": [
    {
     "data": {
      "text/plain": [
       "'123'"
      ]
     },
     "execution_count": 77,
     "metadata": {},
     "output_type": "execute_result"
    }
   ],
   "source": [
    "reader['address']['zip'][:3]"
   ]
  },
  {
   "cell_type": "code",
   "execution_count": 79,
   "id": "7566131c",
   "metadata": {},
   "outputs": [],
   "source": [
    "city= reader['address']['city'][3:]"
   ]
  },
  {
   "cell_type": "code",
   "execution_count": 80,
   "id": "1f56982c",
   "metadata": {},
   "outputs": [
    {
     "data": {
      "text/plain": [
       "'town'"
      ]
     },
     "execution_count": 80,
     "metadata": {},
     "output_type": "execute_result"
    }
   ],
   "source": [
    "city"
   ]
  },
  {
   "cell_type": "code",
   "execution_count": 94,
   "id": "907707c9",
   "metadata": {},
   "outputs": [],
   "source": [
    "mix = hobby +' '+ 'to'+\" \"+ city"
   ]
  },
  {
   "cell_type": "code",
   "execution_count": 95,
   "id": "e33ce959",
   "metadata": {},
   "outputs": [
    {
     "data": {
      "text/plain": [
       "'travel to town'"
      ]
     },
     "execution_count": 95,
     "metadata": {},
     "output_type": "execute_result"
    }
   ],
   "source": [
    "mix"
   ]
  },
  {
   "cell_type": "code",
   "execution_count": null,
   "id": "fc0e9977",
   "metadata": {},
   "outputs": [],
   "source": []
  },
  {
   "cell_type": "raw",
   "id": "6f2c1419",
   "metadata": {},
   "source": [
    "TASK:\n",
    "    \n",
    "1- create a CSV file with delimiter \"|\"\n",
    "2- add 2 records in file using write mode\n",
    "3- add 3 records in file using append mode\n",
    "4- read the content from the file\n",
    "5- Perform operations like Slicing, Indexing on it."
   ]
  },
  {
   "cell_type": "code",
   "execution_count": null,
   "id": "6d87b169",
   "metadata": {},
   "outputs": [],
   "source": []
  }
 ],
 "metadata": {
  "kernelspec": {
   "display_name": "Python 3 (ipykernel)",
   "language": "python",
   "name": "python3"
  },
  "language_info": {
   "codemirror_mode": {
    "name": "ipython",
    "version": 3
   },
   "file_extension": ".py",
   "mimetype": "text/x-python",
   "name": "python",
   "nbconvert_exporter": "python",
   "pygments_lexer": "ipython3",
   "version": "3.11.5"
  }
 },
 "nbformat": 4,
 "nbformat_minor": 5
}
