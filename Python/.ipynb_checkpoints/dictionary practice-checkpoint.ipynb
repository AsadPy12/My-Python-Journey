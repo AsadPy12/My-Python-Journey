{
 "cells": [
  {
   "cell_type": "markdown",
   "id": "87b96610",
   "metadata": {},
   "source": [
    "#### Dictionary Python"
   ]
  },
  {
   "cell_type": "code",
   "execution_count": 2,
   "id": "19470459",
   "metadata": {},
   "outputs": [],
   "source": [
    "dict_items = { 'First_name': 'Asad',\n",
    "               'Last_name': 'Ullah',\n",
    "               'phone_no': '030000000',\n",
    "               'age': 18,\n",
    "               'weight': 64\n",
    "             }"
   ]
  },
  {
   "cell_type": "code",
   "execution_count": 3,
   "id": "26e2795f",
   "metadata": {},
   "outputs": [
    {
     "data": {
      "text/plain": [
       "{'First_name': 'Asad',\n",
       " 'Last_name': 'Ullah',\n",
       " 'phone_no': '030000000',\n",
       " 'age': 18,\n",
       " 'weight': 64}"
      ]
     },
     "execution_count": 3,
     "metadata": {},
     "output_type": "execute_result"
    }
   ],
   "source": [
    "dict_items"
   ]
  },
  {
   "cell_type": "code",
   "execution_count": 4,
   "id": "592f515e",
   "metadata": {},
   "outputs": [],
   "source": [
    "# to update in dictionary\n",
    "dict_items['phone_no'] = '0313430031'"
   ]
  },
  {
   "cell_type": "code",
   "execution_count": 5,
   "id": "2509181e",
   "metadata": {},
   "outputs": [
    {
     "data": {
      "text/plain": [
       "{'First_name': 'Asad',\n",
       " 'Last_name': 'Ullah',\n",
       " 'phone_no': '0313430031',\n",
       " 'age': 18,\n",
       " 'weight': 64}"
      ]
     },
     "execution_count": 5,
     "metadata": {},
     "output_type": "execute_result"
    }
   ],
   "source": [
    "dict_items"
   ]
  },
  {
   "cell_type": "code",
   "execution_count": 6,
   "id": "f2da3719",
   "metadata": {},
   "outputs": [],
   "source": [
    "# to delete any thing in dictionary\n",
    "del(dict_items['phone_no'])"
   ]
  },
  {
   "cell_type": "code",
   "execution_count": 7,
   "id": "78033a09",
   "metadata": {},
   "outputs": [
    {
     "data": {
      "text/plain": [
       "{'First_name': 'Asad', 'Last_name': 'Ullah', 'age': 18, 'weight': 64}"
      ]
     },
     "execution_count": 7,
     "metadata": {},
     "output_type": "execute_result"
    }
   ],
   "source": [
    "dict_items"
   ]
  },
  {
   "cell_type": "code",
   "execution_count": 8,
   "id": "1fd6a1bf",
   "metadata": {},
   "outputs": [],
   "source": [
    "# to copy dictionary in another dictionary\n",
    "new_dict = dict_items.copy()"
   ]
  },
  {
   "cell_type": "code",
   "execution_count": 9,
   "id": "5476eff7",
   "metadata": {},
   "outputs": [
    {
     "data": {
      "text/plain": [
       "{'First_name': 'Asad', 'Last_name': 'Ullah', 'age': 18, 'weight': 64}"
      ]
     },
     "execution_count": 9,
     "metadata": {},
     "output_type": "execute_result"
    }
   ],
   "source": [
    "new_dict"
   ]
  },
  {
   "cell_type": "code",
   "execution_count": 10,
   "id": "2b67a579",
   "metadata": {},
   "outputs": [
    {
     "data": {
      "text/plain": [
       "{'First_name': 'Asad', 'Last_name': 'Ullah', 'age': 18, 'weight': 64}"
      ]
     },
     "execution_count": 10,
     "metadata": {},
     "output_type": "execute_result"
    }
   ],
   "source": [
    "dict_items"
   ]
  },
  {
   "cell_type": "code",
   "execution_count": 11,
   "id": "dd13ff37",
   "metadata": {},
   "outputs": [],
   "source": [
    "# to add or update item in dict\n",
    "dict_items['phone_no'] = '03234523432'"
   ]
  },
  {
   "cell_type": "code",
   "execution_count": 12,
   "id": "48c0167f",
   "metadata": {},
   "outputs": [
    {
     "data": {
      "text/plain": [
       "{'First_name': 'Asad',\n",
       " 'Last_name': 'Ullah',\n",
       " 'age': 18,\n",
       " 'weight': 64,\n",
       " 'phone_no': '03234523432'}"
      ]
     },
     "execution_count": 12,
     "metadata": {},
     "output_type": "execute_result"
    }
   ],
   "source": [
    "dict_items"
   ]
  },
  {
   "cell_type": "code",
   "execution_count": 13,
   "id": "cb345273",
   "metadata": {},
   "outputs": [
    {
     "data": {
      "text/plain": [
       "{'First_name': 'Asad', 'Last_name': 'Ullah', 'age': 18, 'weight': 64}"
      ]
     },
     "execution_count": 13,
     "metadata": {},
     "output_type": "execute_result"
    }
   ],
   "source": [
    "new_dict"
   ]
  },
  {
   "cell_type": "code",
   "execution_count": 14,
   "id": "82e486fd",
   "metadata": {},
   "outputs": [],
   "source": [
    "# to remove all items from dict\n",
    "dict_items.clear()"
   ]
  },
  {
   "cell_type": "code",
   "execution_count": 15,
   "id": "da3b5b3c",
   "metadata": {},
   "outputs": [
    {
     "data": {
      "text/plain": [
       "{}"
      ]
     },
     "execution_count": 15,
     "metadata": {},
     "output_type": "execute_result"
    }
   ],
   "source": [
    "dict_items"
   ]
  },
  {
   "cell_type": "code",
   "execution_count": 16,
   "id": "4156de9e",
   "metadata": {},
   "outputs": [],
   "source": [
    "new_dict['phone_no'] = '03215216241'"
   ]
  },
  {
   "cell_type": "code",
   "execution_count": 17,
   "id": "6a8655ac",
   "metadata": {},
   "outputs": [
    {
     "data": {
      "text/plain": [
       "{'First_name': 'Asad',\n",
       " 'Last_name': 'Ullah',\n",
       " 'age': 18,\n",
       " 'weight': 64,\n",
       " 'phone_no': '03215216241'}"
      ]
     },
     "execution_count": 17,
     "metadata": {},
     "output_type": "execute_result"
    }
   ],
   "source": [
    "new_dict"
   ]
  },
  {
   "cell_type": "code",
   "execution_count": 22,
   "id": "cdcffc44",
   "metadata": {},
   "outputs": [
    {
     "data": {
      "text/plain": [
       "dict_items([('First_name', 'Asad'), ('Last_name', 'Ullah'), ('age', 18), ('weight', 64), ('phone_no', '03215216241')])"
      ]
     },
     "execution_count": 22,
     "metadata": {},
     "output_type": "execute_result"
    }
   ],
   "source": [
    "# convert dictionary to list of tuples\n",
    "new_dict.items()"
   ]
  },
  {
   "cell_type": "code",
   "execution_count": 23,
   "id": "cd356992",
   "metadata": {},
   "outputs": [
    {
     "name": "stdout",
     "output_type": "stream",
     "text": [
      "First_name --> Asad\n",
      "Last_name --> Ullah\n",
      "age --> 18\n",
      "weight --> 64\n",
      "phone_no --> 03215216241\n"
     ]
    }
   ],
   "source": [
    "for temp, temp1 in new_dict.items():\n",
    "    print(f'{temp} --> {temp1}')"
   ]
  },
  {
   "cell_type": "code",
   "execution_count": 25,
   "id": "c47b27a1",
   "metadata": {},
   "outputs": [
    {
     "name": "stdout",
     "output_type": "stream",
     "text": [
      "First_name\n",
      "Last_name\n",
      "age\n",
      "weight\n",
      "phone_no\n"
     ]
    }
   ],
   "source": [
    "for value in new_dict.items():\n",
    "    print(value[0])"
   ]
  },
  {
   "cell_type": "code",
   "execution_count": 26,
   "id": "b2cceadf",
   "metadata": {},
   "outputs": [
    {
     "name": "stdout",
     "output_type": "stream",
     "text": [
      "Asad\n",
      "Ullah\n",
      "18\n",
      "64\n",
      "03215216241\n"
     ]
    }
   ],
   "source": [
    "for keys in new_dict.items():\n",
    "    print(keys[1])"
   ]
  },
  {
   "cell_type": "code",
   "execution_count": 27,
   "id": "e7087c03",
   "metadata": {},
   "outputs": [
    {
     "data": {
      "text/plain": [
       "dict_keys(['First_name', 'Last_name', 'age', 'weight', 'phone_no'])"
      ]
     },
     "execution_count": 27,
     "metadata": {},
     "output_type": "execute_result"
    }
   ],
   "source": [
    "# to get keys from dict we use\n",
    "new_dict.keys()"
   ]
  },
  {
   "cell_type": "code",
   "execution_count": 28,
   "id": "3d9a0328",
   "metadata": {},
   "outputs": [
    {
     "name": "stdout",
     "output_type": "stream",
     "text": [
      "First_name\n",
      "Last_name\n",
      "age\n",
      "weight\n",
      "phone_no\n"
     ]
    }
   ],
   "source": [
    "for temps in new_dict.keys():\n",
    "    print(temps)"
   ]
  },
  {
   "cell_type": "code",
   "execution_count": 29,
   "id": "8409a7c0",
   "metadata": {},
   "outputs": [
    {
     "data": {
      "text/plain": [
       "dict_values(['Asad', 'Ullah', 18, 64, '03215216241'])"
      ]
     },
     "execution_count": 29,
     "metadata": {},
     "output_type": "execute_result"
    }
   ],
   "source": [
    "# to get values from dicts we use\n",
    "new_dict.values()"
   ]
  },
  {
   "cell_type": "code",
   "execution_count": 30,
   "id": "b4af6f6d",
   "metadata": {},
   "outputs": [
    {
     "name": "stdout",
     "output_type": "stream",
     "text": [
      "Asad\n",
      "Ullah\n",
      "18\n",
      "64\n",
      "03215216241\n"
     ]
    }
   ],
   "source": [
    "for temp in new_dict.values():\n",
    "    print(temp)"
   ]
  },
  {
   "cell_type": "code",
   "execution_count": 1,
   "id": "ed80fe7b",
   "metadata": {},
   "outputs": [],
   "source": [
    "new_dict = {'First_name': 'Asad',\n",
    "            'Last_name': 'Ullah',\n",
    "            'age': 18,\n",
    "            'weight': 64,\n",
    "            'phone_no': '03215216241'}"
   ]
  },
  {
   "cell_type": "code",
   "execution_count": 5,
   "id": "c0b50292",
   "metadata": {},
   "outputs": [],
   "source": [
    "dict_1 = {'a',\n",
    "         'b',\n",
    "         'c'}\n",
    "dict_2 = {'1',\n",
    "         '2',\n",
    "         '3'}"
   ]
  },
  {
   "cell_type": "code",
   "execution_count": 6,
   "id": "afbb0485",
   "metadata": {},
   "outputs": [
    {
     "data": {
      "text/plain": [
       "{'c': {'1', '2', '3'}, 'a': {'1', '2', '3'}, 'b': {'1', '2', '3'}}"
      ]
     },
     "execution_count": 6,
     "metadata": {},
     "output_type": "execute_result"
    }
   ],
   "source": [
    "new_dict.fromkeys(dict_1, dict_2)"
   ]
  },
  {
   "cell_type": "code",
   "execution_count": 8,
   "id": "6ba8e216",
   "metadata": {},
   "outputs": [],
   "source": [
    "dict_with_num_key = {1: 'Asad',\n",
    "                     2: 'Ullah',\n",
    "                     3: 18,\n",
    "                     4: 64,\n",
    "                     5: '03215216241'\n",
    "                    }"
   ]
  },
  {
   "cell_type": "code",
   "execution_count": 9,
   "id": "b5587e82",
   "metadata": {},
   "outputs": [
    {
     "data": {
      "text/plain": [
       "18"
      ]
     },
     "execution_count": 9,
     "metadata": {},
     "output_type": "execute_result"
    }
   ],
   "source": [
    "dict_with_num_key[3]"
   ]
  },
  {
   "cell_type": "code",
   "execution_count": 10,
   "id": "4722ba84",
   "metadata": {},
   "outputs": [
    {
     "data": {
      "text/plain": [
       "{1: 'Asad', 2: 'Ullah', 3: 18, 4: 64, 5: '03215216241'}"
      ]
     },
     "execution_count": 10,
     "metadata": {},
     "output_type": "execute_result"
    }
   ],
   "source": [
    "dict_with_num_key"
   ]
  },
  {
   "cell_type": "code",
   "execution_count": 11,
   "id": "f095a8d6",
   "metadata": {},
   "outputs": [],
   "source": [
    "dict_with_num_key[6] = 'Gulshan'"
   ]
  },
  {
   "cell_type": "code",
   "execution_count": 12,
   "id": "b45b34bf",
   "metadata": {},
   "outputs": [
    {
     "data": {
      "text/plain": [
       "{1: 'Asad', 2: 'Ullah', 3: 18, 4: 64, 5: '03215216241', 6: 'Gulshan'}"
      ]
     },
     "execution_count": 12,
     "metadata": {},
     "output_type": "execute_result"
    }
   ],
   "source": [
    "dict_with_num_key"
   ]
  },
  {
   "cell_type": "code",
   "execution_count": 13,
   "id": "e54b66eb",
   "metadata": {},
   "outputs": [],
   "source": [
    "# del value by using key\n",
    "del(dict_with_num_key[6])"
   ]
  },
  {
   "cell_type": "code",
   "execution_count": 14,
   "id": "eadaee81",
   "metadata": {},
   "outputs": [
    {
     "data": {
      "text/plain": [
       "{1: 'Asad', 2: 'Ullah', 3: 18, 4: 64, 5: '03215216241'}"
      ]
     },
     "execution_count": 14,
     "metadata": {},
     "output_type": "execute_result"
    }
   ],
   "source": [
    "dict_with_num_key"
   ]
  },
  {
   "cell_type": "code",
   "execution_count": 16,
   "id": "7a3f5aa8",
   "metadata": {},
   "outputs": [
    {
     "data": {
      "text/plain": [
       "{'First_name': 'Asad',\n",
       " 'Last_name': 'Ullah',\n",
       " 'age': 18,\n",
       " 'weight': 64,\n",
       " 'phone_no': '03215216241'}"
      ]
     },
     "execution_count": 16,
     "metadata": {},
     "output_type": "execute_result"
    }
   ],
   "source": [
    "new_dict"
   ]
  },
  {
   "cell_type": "code",
   "execution_count": 18,
   "id": "cb67151d",
   "metadata": {},
   "outputs": [
    {
     "data": {
      "text/plain": [
       "'Asad'"
      ]
     },
     "execution_count": 18,
     "metadata": {},
     "output_type": "execute_result"
    }
   ],
   "source": [
    "# to get value from dicts we use\n",
    "new_dict.get('First_name')"
   ]
  },
  {
   "cell_type": "markdown",
   "id": "afa198db",
   "metadata": {},
   "source": [
    "### Task:"
   ]
  },
  {
   "cell_type": "markdown",
   "id": "dd63342a",
   "metadata": {},
   "source": [
    "Create dictionary\n",
    "Adding values in dictionary\n",
    "Update values in dictionary\n",
    "Deleteing values in dictionary\n",
    "Get .get() in dictionary\n",
    ".item()\n",
    ".keys()\n",
    ".values()\n",
    ".fromkeys()"
   ]
  },
  {
   "cell_type": "code",
   "execution_count": 20,
   "id": "3b117bce",
   "metadata": {},
   "outputs": [],
   "source": [
    "#creating a dictionary\n",
    "custumer_1 = {'Id': 'Vip',\n",
    "              'Cnic': '42201-*******-1',\n",
    "              'Full_Name': 'Fahad Hassan',\n",
    "              'Age': 26,\n",
    "              'Marital_status': 'Single',\n",
    "              'Address': 'Stadium Road'}"
   ]
  },
  {
   "cell_type": "code",
   "execution_count": 22,
   "id": "dba1968f",
   "metadata": {},
   "outputs": [
    {
     "data": {
      "text/plain": [
       "{'Id': 'Vip',\n",
       " 'Cnic': '42201-*******-1',\n",
       " 'Full_Name': 'Fahad Hassan',\n",
       " 'Age': 26,\n",
       " 'Marital_status': 'Single',\n",
       " 'Address': 'Stadium Road',\n",
       " 'Weight': 78}"
      ]
     },
     "execution_count": 22,
     "metadata": {},
     "output_type": "execute_result"
    }
   ],
   "source": [
    "#Adding values in dictionary\n",
    "custumer_1['Weight'] = 78\n",
    "custumer_1"
   ]
  },
  {
   "cell_type": "code",
   "execution_count": 24,
   "id": "63843b5c",
   "metadata": {},
   "outputs": [
    {
     "data": {
      "text/plain": [
       "{'Id': 'Vip',\n",
       " 'Cnic': '42201-*******-1',\n",
       " 'Full_Name': 'Fahad Hassan',\n",
       " 'Age': 26,\n",
       " 'Marital_status': 'Single',\n",
       " 'Address': 'National Stadium Road Karachi',\n",
       " 'Weight': 78}"
      ]
     },
     "execution_count": 24,
     "metadata": {},
     "output_type": "execute_result"
    }
   ],
   "source": [
    "#Update values in dictionary\n",
    "custumer_1['Address'] = 'National Stadium Road Karachi'\n",
    "custumer_1"
   ]
  },
  {
   "cell_type": "code",
   "execution_count": 25,
   "id": "e1e5481e",
   "metadata": {},
   "outputs": [
    {
     "data": {
      "text/plain": [
       "{'Id': 'Vip',\n",
       " 'Cnic': '42201-*******-1',\n",
       " 'Full_Name': 'Fahad Hassan',\n",
       " 'Marital_status': 'Single',\n",
       " 'Address': 'National Stadium Road Karachi',\n",
       " 'Weight': 78}"
      ]
     },
     "execution_count": 25,
     "metadata": {},
     "output_type": "execute_result"
    }
   ],
   "source": [
    "#Deleteing values in dictionary\n",
    "del(custumer_1['Age'])\n",
    "custumer_1"
   ]
  },
  {
   "cell_type": "code",
   "execution_count": 27,
   "id": "449122e8",
   "metadata": {},
   "outputs": [
    {
     "data": {
      "text/plain": [
       "'Vip'"
      ]
     },
     "execution_count": 27,
     "metadata": {},
     "output_type": "execute_result"
    }
   ],
   "source": [
    "#Get .get() in dictionary\n",
    "custumer_1.get('Id')"
   ]
  },
  {
   "cell_type": "code",
   "execution_count": 30,
   "id": "facd41f3",
   "metadata": {},
   "outputs": [
    {
     "data": {
      "text/plain": [
       "dict_items([('Id', 'Vip'), ('Cnic', '42201-*******-1'), ('Full_Name', 'Fahad Hassan'), ('Marital_status', 'Single'), ('Address', 'National Stadium Road Karachi'), ('Weight', 78)])"
      ]
     },
     "execution_count": 30,
     "metadata": {},
     "output_type": "execute_result"
    }
   ],
   "source": [
    "#.items()\n",
    "custumer_1.items()"
   ]
  },
  {
   "cell_type": "code",
   "execution_count": 31,
   "id": "62f524b0",
   "metadata": {},
   "outputs": [
    {
     "data": {
      "text/plain": [
       "dict_keys(['Id', 'Cnic', 'Full_Name', 'Marital_status', 'Address', 'Weight'])"
      ]
     },
     "execution_count": 31,
     "metadata": {},
     "output_type": "execute_result"
    }
   ],
   "source": [
    "#.keys()\n",
    "custumer_1.keys()"
   ]
  },
  {
   "cell_type": "code",
   "execution_count": 32,
   "id": "546bf203",
   "metadata": {},
   "outputs": [
    {
     "data": {
      "text/plain": [
       "dict_values(['Vip', '42201-*******-1', 'Fahad Hassan', 'Single', 'National Stadium Road Karachi', 78])"
      ]
     },
     "execution_count": 32,
     "metadata": {},
     "output_type": "execute_result"
    }
   ],
   "source": [
    "#.values()\n",
    "custumer_1.values()"
   ]
  },
  {
   "cell_type": "code",
   "execution_count": 35,
   "id": "2e0eed20",
   "metadata": {},
   "outputs": [],
   "source": [
    "#.fromkeys\n",
    "students_marks = {'ahmed': 25, 'hassan': 35, 'mahnoor': 23}"
   ]
  },
  {
   "cell_type": "code",
   "execution_count": 37,
   "id": "47c33855",
   "metadata": {},
   "outputs": [
    {
     "data": {
      "text/plain": [
       "{'ahmed': 43, 'hassan': 43, 'mahnoor': 43}"
      ]
     },
     "execution_count": 37,
     "metadata": {},
     "output_type": "execute_result"
    }
   ],
   "source": [
    "new_marks = 43\n",
    "students_marks.fromkeys(students_marks, new_marks)"
   ]
  },
  {
   "cell_type": "code",
   "execution_count": 38,
   "id": "c6b02032",
   "metadata": {},
   "outputs": [],
   "source": [
    "del(students_marks['ahmed'])"
   ]
  },
  {
   "cell_type": "code",
   "execution_count": 39,
   "id": "6cbd505b",
   "metadata": {},
   "outputs": [
    {
     "data": {
      "text/plain": [
       "{'hassan': 35, 'mahnoor': 23}"
      ]
     },
     "execution_count": 39,
     "metadata": {},
     "output_type": "execute_result"
    }
   ],
   "source": [
    "students_marks"
   ]
  },
  {
   "cell_type": "code",
   "execution_count": 40,
   "id": "bc50bb84",
   "metadata": {},
   "outputs": [
    {
     "data": {
      "text/plain": [
       "{'hassan': 43, 'mahnoor': 43}"
      ]
     },
     "execution_count": 40,
     "metadata": {},
     "output_type": "execute_result"
    }
   ],
   "source": [
    "students_marks.fromkeys(students_marks, new_marks)"
   ]
  },
  {
   "cell_type": "code",
   "execution_count": 41,
   "id": "18ecaac6",
   "metadata": {},
   "outputs": [
    {
     "data": {
      "text/plain": [
       "dict_items([('Id', 'Vip'), ('Cnic', '42201-*******-1'), ('Full_Name', 'Fahad Hassan'), ('Marital_status', 'Single'), ('Address', 'National Stadium Road Karachi'), ('Weight', 78)])"
      ]
     },
     "execution_count": 41,
     "metadata": {},
     "output_type": "execute_result"
    }
   ],
   "source": [
    "custumer_1.items()"
   ]
  },
  {
   "cell_type": "code",
   "execution_count": 46,
   "id": "66a98094",
   "metadata": {},
   "outputs": [
    {
     "name": "stdout",
     "output_type": "stream",
     "text": [
      "The value of Id is Vip\n",
      "The value of Cnic is 42201-*******-1\n",
      "The value of Full_Name is Fahad Hassan\n",
      "The value of Marital_status is Single\n",
      "The value of Address is National Stadium Road Karachi\n",
      "The value of Weight is 78\n"
     ]
    }
   ],
   "source": [
    "for key, value in custumer_1.items():\n",
    "    print(f'The value of {key} is {value}')"
   ]
  },
  {
   "cell_type": "code",
   "execution_count": 48,
   "id": "521121a1",
   "metadata": {},
   "outputs": [
    {
     "name": "stdout",
     "output_type": "stream",
     "text": [
      "Vip is value\n",
      "42201-*******-1 is value\n",
      "Fahad Hassan is value\n",
      "Single is value\n",
      "National Stadium Road Karachi is value\n",
      "78 is value\n"
     ]
    }
   ],
   "source": [
    "for value in custumer_1.values():\n",
    "    print(f'{value} is value')"
   ]
  },
  {
   "cell_type": "code",
   "execution_count": 49,
   "id": "21078e3a",
   "metadata": {},
   "outputs": [
    {
     "name": "stdout",
     "output_type": "stream",
     "text": [
      "Id is key\n",
      "Cnic is key\n",
      "Full_Name is key\n",
      "Marital_status is key\n",
      "Address is key\n",
      "Weight is key\n"
     ]
    }
   ],
   "source": [
    "for key in custumer_1.keys():\n",
    "    print(f'{key} is key')"
   ]
  },
  {
   "cell_type": "markdown",
   "id": "84438b22",
   "metadata": {},
   "source": [
    "#### List of Dictionaries"
   ]
  },
  {
   "cell_type": "code",
   "execution_count": 1,
   "id": "a64264dc",
   "metadata": {},
   "outputs": [],
   "source": [
    "custumers = [{'custumer id': 0,\n",
    "              'full name': 'Muneeb',\n",
    "              'item purchase': 2,\n",
    "              'item name': 'Led-2, Fridge',\n",
    "              'item brand': 'Hisence, Dawlence',\n",
    "              'custumer review': 'Basic Good',\n",
    "              'Address': 'St. Maymar'},\n",
    "             {'custumer id': 1,\n",
    "              'full name': 'Ahmed',\n",
    "              'item purchase': 1,\n",
    "              'item name': 'Electric Fan',\n",
    "              'item brand': 'Pak Fan',\n",
    "              'custumer review': 'very Good',\n",
    "              'Address': 'Defence Phase 8 kha.'}\n",
    "            ]"
   ]
  },
  {
   "cell_type": "code",
   "execution_count": 2,
   "id": "7a43534f",
   "metadata": {},
   "outputs": [
    {
     "data": {
      "text/plain": [
       "{'custumer id': 1,\n",
       " 'full name': 'Ahmed',\n",
       " 'item purchase': 1,\n",
       " 'item name': 'Electric Fan',\n",
       " 'item brand': 'Pak Fan',\n",
       " 'custumer review': 'very Good',\n",
       " 'Address': 'Defence Phase 8 kha.'}"
      ]
     },
     "execution_count": 2,
     "metadata": {},
     "output_type": "execute_result"
    }
   ],
   "source": [
    "custumers[1]"
   ]
  },
  {
   "cell_type": "code",
   "execution_count": 3,
   "id": "90e29fa7",
   "metadata": {},
   "outputs": [
    {
     "data": {
      "text/plain": [
       "'Muneeb'"
      ]
     },
     "execution_count": 3,
     "metadata": {},
     "output_type": "execute_result"
    }
   ],
   "source": [
    "custumers[0]['full name']"
   ]
  },
  {
   "cell_type": "code",
   "execution_count": 4,
   "id": "c1580876",
   "metadata": {},
   "outputs": [
    {
     "data": {
      "text/plain": [
       "1"
      ]
     },
     "execution_count": 4,
     "metadata": {},
     "output_type": "execute_result"
    }
   ],
   "source": [
    "custumers[1]['item purchase']"
   ]
  },
  {
   "cell_type": "code",
   "execution_count": 5,
   "id": "44b45624",
   "metadata": {},
   "outputs": [],
   "source": [
    "custumers[0]['Address'] = 'St. Maymar 2'"
   ]
  },
  {
   "cell_type": "code",
   "execution_count": 6,
   "id": "d0faa0a3",
   "metadata": {},
   "outputs": [
    {
     "data": {
      "text/plain": [
       "'St. Maymar 2'"
      ]
     },
     "execution_count": 6,
     "metadata": {},
     "output_type": "execute_result"
    }
   ],
   "source": [
    "custumers[0]['Address']"
   ]
  },
  {
   "cell_type": "code",
   "execution_count": 7,
   "id": "96bdcb49",
   "metadata": {},
   "outputs": [],
   "source": [
    "custumers[1]['custumer review'] = 'excellent'"
   ]
  },
  {
   "cell_type": "code",
   "execution_count": 8,
   "id": "73a39de7",
   "metadata": {},
   "outputs": [
    {
     "data": {
      "text/plain": [
       "'excellent'"
      ]
     },
     "execution_count": 8,
     "metadata": {},
     "output_type": "execute_result"
    }
   ],
   "source": [
    "custumers[1]['custumer review']"
   ]
  },
  {
   "cell_type": "code",
   "execution_count": 9,
   "id": "af3c3f4b",
   "metadata": {},
   "outputs": [
    {
     "data": {
      "text/plain": [
       "dict_keys(['custumer id', 'full name', 'item purchase', 'item name', 'item brand', 'custumer review', 'Address'])"
      ]
     },
     "execution_count": 9,
     "metadata": {},
     "output_type": "execute_result"
    }
   ],
   "source": [
    "custumers[1].keys()"
   ]
  },
  {
   "cell_type": "code",
   "execution_count": 10,
   "id": "0a9fb60b",
   "metadata": {},
   "outputs": [
    {
     "data": {
      "text/plain": [
       "{'custumer id': 1,\n",
       " 'full name': 'Ahmed',\n",
       " 'item purchase': 1,\n",
       " 'item name': 'Electric Fan',\n",
       " 'item brand': 'Pak Fan',\n",
       " 'custumer review': 'excellent',\n",
       " 'Address': 'Defence Phase 8 kha.'}"
      ]
     },
     "execution_count": 10,
     "metadata": {},
     "output_type": "execute_result"
    }
   ],
   "source": [
    "custumers[1]"
   ]
  },
  {
   "cell_type": "code",
   "execution_count": 11,
   "id": "596c056e",
   "metadata": {},
   "outputs": [
    {
     "data": {
      "text/plain": [
       "'Basic Good'"
      ]
     },
     "execution_count": 11,
     "metadata": {},
     "output_type": "execute_result"
    }
   ],
   "source": [
    "custumers[0].pop('custumer review')"
   ]
  },
  {
   "cell_type": "code",
   "execution_count": 12,
   "id": "c03409b2",
   "metadata": {},
   "outputs": [
    {
     "data": {
      "text/plain": [
       "dict_values([0, 'Muneeb', 2, 'Led-2, Fridge', 'Hisence, Dawlence', 'St. Maymar 2'])"
      ]
     },
     "execution_count": 12,
     "metadata": {},
     "output_type": "execute_result"
    }
   ],
   "source": [
    "custumers[0].values()"
   ]
  },
  {
   "cell_type": "code",
   "execution_count": 13,
   "id": "3dd34a1e",
   "metadata": {},
   "outputs": [
    {
     "data": {
      "text/plain": [
       "{'custumer id': 1,\n",
       " 'full name': 'Ahmed',\n",
       " 'item purchase': 1,\n",
       " 'item name': 'Electric Fan',\n",
       " 'item brand': 'Pak Fan',\n",
       " 'custumer review': 'excellent',\n",
       " 'Address': 'Defence Phase 8 kha.'}"
      ]
     },
     "execution_count": 13,
     "metadata": {},
     "output_type": "execute_result"
    }
   ],
   "source": [
    "custumers[1]"
   ]
  },
  {
   "cell_type": "code",
   "execution_count": 14,
   "id": "c77187fc",
   "metadata": {},
   "outputs": [
    {
     "data": {
      "text/plain": [
       "{'custumer id': 0,\n",
       " 'full name': 'Muneeb',\n",
       " 'item purchase': 2,\n",
       " 'item name': 'Led-2, Fridge',\n",
       " 'item brand': 'Hisence, Dawlence',\n",
       " 'Address': 'St. Maymar 2'}"
      ]
     },
     "execution_count": 14,
     "metadata": {},
     "output_type": "execute_result"
    }
   ],
   "source": [
    "custumers[0]"
   ]
  },
  {
   "cell_type": "code",
   "execution_count": 15,
   "id": "3887d222",
   "metadata": {},
   "outputs": [
    {
     "data": {
      "text/plain": [
       "'excellent'"
      ]
     },
     "execution_count": 15,
     "metadata": {},
     "output_type": "execute_result"
    }
   ],
   "source": [
    "custumers[1].pop('custumer review')"
   ]
  },
  {
   "cell_type": "code",
   "execution_count": 18,
   "id": "50849f0b",
   "metadata": {},
   "outputs": [],
   "source": [
    "custumers[0].update({'Address': 'St. Gulshan e Maymar 2'}) "
   ]
  },
  {
   "cell_type": "code",
   "execution_count": 19,
   "id": "457a12f6",
   "metadata": {},
   "outputs": [
    {
     "data": {
      "text/plain": [
       "{'custumer id': 0,\n",
       " 'full name': 'Muneeb',\n",
       " 'item purchase': 2,\n",
       " 'item name': 'Led-2, Fridge',\n",
       " 'item brand': 'Hisence, Dawlence',\n",
       " 'Address': 'St. Gulshan e Maymar 2'}"
      ]
     },
     "execution_count": 19,
     "metadata": {},
     "output_type": "execute_result"
    }
   ],
   "source": [
    "custumers[0]"
   ]
  },
  {
   "cell_type": "code",
   "execution_count": 25,
   "id": "9572188b",
   "metadata": {},
   "outputs": [],
   "source": [
    "new_custumers = {'custumer id': 2,\n",
    "                 'full name': 'Abdul',\n",
    "                 'item purchase': 3,\n",
    "                 'item name': 'Led-2, Fridge, Ipad',\n",
    "                 'item brand': 'Hisence, Dawlence, Samsung',\n",
    "                 'Address': 'St. Maymar 3'\n",
    "                }"
   ]
  },
  {
   "cell_type": "code",
   "execution_count": 26,
   "id": "5eda1822",
   "metadata": {},
   "outputs": [],
   "source": [
    "custumers.append(new_custumers)"
   ]
  },
  {
   "cell_type": "code",
   "execution_count": 27,
   "id": "abdb67e7",
   "metadata": {},
   "outputs": [
    {
     "data": {
      "text/plain": [
       "[{'custumer id': 0,\n",
       "  'full name': 'Muneeb',\n",
       "  'item purchase': 2,\n",
       "  'item name': 'Led-2, Fridge',\n",
       "  'item brand': 'Hisence, Dawlence',\n",
       "  'Address': 'St. Gulshan e Maymar 2'},\n",
       " {'custumer id': 1,\n",
       "  'full name': 'Ahmed',\n",
       "  'item purchase': 1,\n",
       "  'item name': 'Electric Fan',\n",
       "  'item brand': 'Pak Fan',\n",
       "  'Address': 'Defence Phase 8 kha.'},\n",
       " {'custumer id': 0,\n",
       "  'full name': 'Muneeb',\n",
       "  'item purchase': 2,\n",
       "  'item name': 'Led-2, Fridge',\n",
       "  'item brand': 'Hisence, Dawlence',\n",
       "  'Address': 'St. Maymar 2'},\n",
       " {'custumer id': 2,\n",
       "  'full name': 'Abdul',\n",
       "  'item purchase': 3,\n",
       "  'item name': 'Led-2, Fridge, Ipad',\n",
       "  'item brand': 'Hisence, Dawlence, Samsung',\n",
       "  'Address': 'St. Maymar 3'}]"
      ]
     },
     "execution_count": 27,
     "metadata": {},
     "output_type": "execute_result"
    }
   ],
   "source": [
    "custumers"
   ]
  },
  {
   "cell_type": "code",
   "execution_count": 28,
   "id": "e7d2cc5f",
   "metadata": {},
   "outputs": [],
   "source": [
    "customer_index = custumers[1]"
   ]
  },
  {
   "cell_type": "code",
   "execution_count": 29,
   "id": "01db9673",
   "metadata": {},
   "outputs": [
    {
     "data": {
      "text/plain": [
       "{'custumer id': 1,\n",
       " 'full name': 'Ahmed',\n",
       " 'item purchase': 1,\n",
       " 'item name': 'Electric Fan',\n",
       " 'item brand': 'Pak Fan',\n",
       " 'Address': 'Defence Phase 8 kha.'}"
      ]
     },
     "execution_count": 29,
     "metadata": {},
     "output_type": "execute_result"
    }
   ],
   "source": [
    "customer_index"
   ]
  },
  {
   "cell_type": "code",
   "execution_count": 30,
   "id": "e6d22ec6",
   "metadata": {},
   "outputs": [
    {
     "data": {
      "text/plain": [
       "[{'custumer id': 0,\n",
       "  'full name': 'Muneeb',\n",
       "  'item purchase': 2,\n",
       "  'item name': 'Led-2, Fridge',\n",
       "  'item brand': 'Hisence, Dawlence',\n",
       "  'Address': 'St. Gulshan e Maymar 2'},\n",
       " {'custumer id': 1,\n",
       "  'full name': 'Ahmed',\n",
       "  'item purchase': 1,\n",
       "  'item name': 'Electric Fan',\n",
       "  'item brand': 'Pak Fan',\n",
       "  'Address': 'Defence Phase 8 kha.'},\n",
       " {'custumer id': 0,\n",
       "  'full name': 'Muneeb',\n",
       "  'item purchase': 2,\n",
       "  'item name': 'Led-2, Fridge',\n",
       "  'item brand': 'Hisence, Dawlence',\n",
       "  'Address': 'St. Maymar 2'},\n",
       " {'custumer id': 2,\n",
       "  'full name': 'Abdul',\n",
       "  'item purchase': 3,\n",
       "  'item name': 'Led-2, Fridge, Ipad',\n",
       "  'item brand': 'Hisence, Dawlence, Samsung',\n",
       "  'Address': 'St. Maymar 3'}]"
      ]
     },
     "execution_count": 30,
     "metadata": {},
     "output_type": "execute_result"
    }
   ],
   "source": [
    "custumers"
   ]
  },
  {
   "cell_type": "code",
   "execution_count": 32,
   "id": "54a1bbe0",
   "metadata": {},
   "outputs": [
    {
     "data": {
      "text/plain": [
       "'Defence Phase 8 kha.'"
      ]
     },
     "execution_count": 32,
     "metadata": {},
     "output_type": "execute_result"
    }
   ],
   "source": [
    "customer_index['Address']"
   ]
  },
  {
   "cell_type": "markdown",
   "id": "daed058d",
   "metadata": {},
   "source": [
    "#### Creating a dictionary that contains lists"
   ]
  },
  {
   "cell_type": "code",
   "execution_count": 1,
   "id": "da3f842b",
   "metadata": {},
   "outputs": [],
   "source": [
    "customers = [\n",
    "    {'customer id': '1',\n",
    "     'first name': 'John',\n",
    "     'last name': 'Smith',\n",
    "     'address': '301 Arbor Rd.',\n",
    "     'discounts':['standard', 'volume', 'loyalty']\n",
    "    },\n",
    "    {'customer id': '2',\n",
    "     'first name': 'Albert',\n",
    "     'last name': 'Coner',\n",
    "     'address': '3 Main St.',\n",
    "     'discounts':[]\n",
    "    },\n",
    "    {'customer id': '3',\n",
    "     'first name': 'Ann',\n",
    "     'last name': 'Satter',\n",
    "     'address': 'PO Box 1145',\n",
    "     'discounts':['Standard']\n",
    "    }\n",
    "]"
   ]
  },
  {
   "cell_type": "code",
   "execution_count": 2,
   "id": "eb3b324e",
   "metadata": {},
   "outputs": [
    {
     "data": {
      "text/plain": [
       "['standard', 'volume', 'loyalty']"
      ]
     },
     "execution_count": 2,
     "metadata": {},
     "output_type": "execute_result"
    }
   ],
   "source": [
    "customers[0]['discounts']"
   ]
  },
  {
   "cell_type": "code",
   "execution_count": 3,
   "id": "36d7dd87",
   "metadata": {},
   "outputs": [
    {
     "data": {
      "text/plain": [
       "[]"
      ]
     },
     "execution_count": 3,
     "metadata": {},
     "output_type": "execute_result"
    }
   ],
   "source": [
    "customers[1]['discounts']"
   ]
  },
  {
   "cell_type": "code",
   "execution_count": 4,
   "id": "6f4ee01e",
   "metadata": {},
   "outputs": [
    {
     "data": {
      "text/plain": [
       "['Standard']"
      ]
     },
     "execution_count": 4,
     "metadata": {},
     "output_type": "execute_result"
    }
   ],
   "source": [
    "customers[2]['discounts']"
   ]
  },
  {
   "cell_type": "code",
   "execution_count": 5,
   "id": "358f5377",
   "metadata": {},
   "outputs": [
    {
     "data": {
      "text/plain": [
       "3"
      ]
     },
     "execution_count": 5,
     "metadata": {},
     "output_type": "execute_result"
    }
   ],
   "source": [
    "len(customers)"
   ]
  },
  {
   "cell_type": "code",
   "execution_count": 6,
   "id": "4dce9c2d",
   "metadata": {},
   "outputs": [
    {
     "ename": "SyntaxError",
     "evalue": "f-string: unmatched '[' (2569434189.py, line 2)",
     "output_type": "error",
     "traceback": [
      "\u001b[1;36m  Cell \u001b[1;32mIn[6], line 2\u001b[1;36m\u001b[0m\n\u001b[1;33m    print(f'customer at index {iteration} have discount = {len(customers[iteration]['discounts'])}')\u001b[0m\n\u001b[1;37m                                                                                     ^\u001b[0m\n\u001b[1;31mSyntaxError\u001b[0m\u001b[1;31m:\u001b[0m f-string: unmatched '['\n"
     ]
    }
   ],
   "source": [
    "for iteration in range(len(customers)):\n",
    "    print(f'customer at index {iteration} have discount = {len(customers[iteration]['discounts'])}')"
   ]
  },
  {
   "cell_type": "code",
   "execution_count": 7,
   "id": "913da75d",
   "metadata": {},
   "outputs": [
    {
     "name": "stdout",
     "output_type": "stream",
     "text": [
      "customer at index 0 have discount = 3\n",
      "customer at index 1 have discount = 0\n",
      "customer at index 2 have discount = 1\n"
     ]
    }
   ],
   "source": [
    "for iterator in range(len(customers)):\n",
    "    print(f\"customer at index {iterator} have discount = {len(customers[iterator]['discounts'])}\")"
   ]
  },
  {
   "cell_type": "code",
   "execution_count": 12,
   "id": "1584ba58",
   "metadata": {},
   "outputs": [
    {
     "name": "stdout",
     "output_type": "stream",
     "text": [
      "[5, 15, 30]\n",
      "=====\n",
      "[]\n",
      "=====\n",
      "[30]\n",
      "=====\n"
     ]
    }
   ],
   "source": [
    "for customer in customers:\n",
    "    discounted_percents = []\n",
    "    if len(customer['discounts']) >=1:\n",
    "        for discount in customer['discounts']:\n",
    "            if discount == 'standard':\n",
    "                discounted_percent = 5\n",
    "            elif discount == 'volume':\n",
    "                discounted_percent = 15\n",
    "            elif discount == 'loyalty':\n",
    "                discounted_percent = 30\n",
    "            else:\n",
    "                discounter_percent = 'ERROR'\n",
    "            discounted_percents.append(discounted_percent)\n",
    "    print(discounted_percents)\n",
    "    customer.update({'discounted_percents': discounted_percent})\n",
    "    print('=====')"
   ]
  },
  {
   "cell_type": "markdown",
   "id": "bd39164a",
   "metadata": {},
   "source": [
    "#### Dict of Dict:"
   ]
  },
  {
   "cell_type": "code",
   "execution_count": 17,
   "id": "1bbfe743",
   "metadata": {},
   "outputs": [],
   "source": [
    " custumers = [               \n",
    "    {'custumer id': 0,\n",
    "     'custumer first name': 'Asad',\n",
    "     'custumer last name': 'Ullah',\n",
    "     'custumer address': 'Gulshan e iqbal'},\n",
    "    {'custumer id': 1,\n",
    "     'custumer first name': 'Muneeb',\n",
    "     'custumer last name': 'Khan',\n",
    "     'custumer address': 'Gulistan e johar'}\n",
    " ]"
   ]
  },
  {
   "cell_type": "code",
   "execution_count": 20,
   "id": "a55c7bc9",
   "metadata": {},
   "outputs": [],
   "source": [
    "dict_of_dict = {\n",
    "    'custumer_1' : {'custumer id': 0,\n",
    "                  'custumer first name': 'Asad',\n",
    "                  'custumer last name': 'Ullah',\n",
    "                  'custumer address': 'Gulshan e iqbal'},\n",
    "    'custumer_2' : {'custumer id': 1,\n",
    "                  'custumer first name': 'Muneeb',\n",
    "                  'custumer last name': 'Khan',\n",
    "                  'custumer address': 'Gulistan e johar'}\n",
    "}"
   ]
  },
  {
   "cell_type": "code",
   "execution_count": 21,
   "id": "87b8d14b",
   "metadata": {},
   "outputs": [
    {
     "data": {
      "text/plain": [
       "{'custumer id': 0,\n",
       " 'custumer first name': 'Asad',\n",
       " 'custumer last name': 'Ullah',\n",
       " 'custumer address': 'Gulshan e iqbal'}"
      ]
     },
     "execution_count": 21,
     "metadata": {},
     "output_type": "execute_result"
    }
   ],
   "source": [
    "dict_of_dict['custumer_1']"
   ]
  },
  {
   "cell_type": "code",
   "execution_count": 22,
   "id": "85d094a7",
   "metadata": {},
   "outputs": [
    {
     "data": {
      "text/plain": [
       "'Gulistan e johar'"
      ]
     },
     "execution_count": 22,
     "metadata": {},
     "output_type": "execute_result"
    }
   ],
   "source": [
    "dict_of_dict['custumer_2']['custumer address']"
   ]
  },
  {
   "cell_type": "code",
   "execution_count": 23,
   "id": "caf8811c",
   "metadata": {},
   "outputs": [
    {
     "ename": "TypeError",
     "evalue": "unhashable type: 'slice'",
     "output_type": "error",
     "traceback": [
      "\u001b[1;31m---------------------------------------------------------------------------\u001b[0m",
      "\u001b[1;31mTypeError\u001b[0m                                 Traceback (most recent call last)",
      "Cell \u001b[1;32mIn[23], line 1\u001b[0m\n\u001b[1;32m----> 1\u001b[0m dict_of_dict[\u001b[38;5;124m'\u001b[39m\u001b[38;5;124mcustumer_2\u001b[39m\u001b[38;5;124m'\u001b[39m][:]\n",
      "\u001b[1;31mTypeError\u001b[0m: unhashable type: 'slice'"
     ]
    }
   ],
   "source": [
    "dict_of_dict['custumer_2'][:]"
   ]
  },
  {
   "cell_type": "code",
   "execution_count": 29,
   "id": "d59f712a",
   "metadata": {},
   "outputs": [
    {
     "name": "stdout",
     "output_type": "stream",
     "text": [
      "0\n"
     ]
    },
    {
     "ename": "KeyError",
     "evalue": "'Muneeb'",
     "output_type": "error",
     "traceback": [
      "\u001b[1;31m---------------------------------------------------------------------------\u001b[0m",
      "\u001b[1;31mKeyError\u001b[0m                                  Traceback (most recent call last)",
      "Cell \u001b[1;32mIn[29], line 6\u001b[0m\n\u001b[0;32m      4\u001b[0m \u001b[38;5;28;01mfor\u001b[39;00m key \u001b[38;5;129;01min\u001b[39;00m dict_of_dict[\u001b[38;5;124m'\u001b[39m\u001b[38;5;124mcustumer_2\u001b[39m\u001b[38;5;124m'\u001b[39m]\u001b[38;5;241m.\u001b[39mvalues():\n\u001b[0;32m      5\u001b[0m     \u001b[38;5;28;01mif\u001b[39;00m key \u001b[38;5;241m==\u001b[39m \u001b[38;5;124m'\u001b[39m\u001b[38;5;124mMuneeb\u001b[39m\u001b[38;5;124m'\u001b[39m:\n\u001b[1;32m----> 6\u001b[0m         \u001b[38;5;28mprint\u001b[39m(dict_of_dict[\u001b[38;5;124m'\u001b[39m\u001b[38;5;124mcustumer_2\u001b[39m\u001b[38;5;124m'\u001b[39m][key])\n",
      "\u001b[1;31mKeyError\u001b[0m: 'Muneeb'"
     ]
    }
   ],
   "source": [
    "for value in dict_of_dict['custumer_1'].keys():\n",
    "    if value == \"custumer id\":\n",
    "        print(dict_of_dict['custumer_1'][value])\n",
    "        for key in dict_of_dict['custumer_2'].values():\n",
    "            if key == 'Muneeb':\n",
    "                print(dict_of_dict['custumer_2'][key])"
   ]
  },
  {
   "cell_type": "code",
   "execution_count": 33,
   "id": "e717960a",
   "metadata": {},
   "outputs": [
    {
     "data": {
      "text/plain": [
       "['Ullah', 'Gulshan e iqbal']"
      ]
     },
     "execution_count": 33,
     "metadata": {},
     "output_type": "execute_result"
    }
   ],
   "source": [
    "list(dict_of_dict['custumer_1'].values())[2:6]"
   ]
  },
  {
   "cell_type": "code",
   "execution_count": null,
   "id": "324c39b7",
   "metadata": {},
   "outputs": [],
   "source": []
  }
 ],
 "metadata": {
  "kernelspec": {
   "display_name": "Python 3 (ipykernel)",
   "language": "python",
   "name": "python3"
  },
  "language_info": {
   "codemirror_mode": {
    "name": "ipython",
    "version": 3
   },
   "file_extension": ".py",
   "mimetype": "text/x-python",
   "name": "python",
   "nbconvert_exporter": "python",
   "pygments_lexer": "ipython3",
   "version": "3.11.5"
  }
 },
 "nbformat": 4,
 "nbformat_minor": 5
}
