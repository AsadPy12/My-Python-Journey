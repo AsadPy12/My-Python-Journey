{
 "cells": [
  {
   "cell_type": "markdown",
   "id": "1ed62aa5",
   "metadata": {},
   "source": [
    "### Basic Tasks"
   ]
  },
  {
   "cell_type": "markdown",
   "id": "94090678",
   "metadata": {},
   "source": [
    "#### Task 1: Basic For Loop\n",
    "Create a list named numbers containing the integers from 1 to 10.\n",
    "Use a for loop to iterate over the elements of the list.\n",
    "Print each element within the loop."
   ]
  },
  {
   "cell_type": "code",
   "execution_count": 7,
   "id": "bd02ab70",
   "metadata": {},
   "outputs": [],
   "source": [
    "numbers = list(range(1, 11))"
   ]
  },
  {
   "cell_type": "code",
   "execution_count": 8,
   "id": "b1367fe3",
   "metadata": {},
   "outputs": [
    {
     "name": "stdout",
     "output_type": "stream",
     "text": [
      "1\n",
      "2\n",
      "3\n",
      "4\n",
      "5\n",
      "6\n",
      "7\n",
      "8\n",
      "9\n",
      "10\n"
     ]
    }
   ],
   "source": [
    "for iterate in numbers:\n",
    "    print(iterate)"
   ]
  },
  {
   "cell_type": "markdown",
   "id": "33b0297e",
   "metadata": {},
   "source": [
    "#### Task 2: List Manipulation\n",
    "Create a list named fruits with at least 5 different fruit names.\n",
    "Use a for loop to iterate over the elements of the list.\n",
    "Print a message for each fruit, such as \"I like to eat [fruit].\""
   ]
  },
  {
   "cell_type": "code",
   "execution_count": 9,
   "id": "312410d7",
   "metadata": {},
   "outputs": [
    {
     "name": "stdout",
     "output_type": "stream",
     "text": [
      "I like to eat Banana.\n",
      "I like to eat Mango.\n",
      "I like to eat Apple.\n",
      "I like to eat Grapes.\n",
      "I like to eat Watermelon.\n"
     ]
    }
   ],
   "source": [
    "fruits = ['Banana', 'Mango','Apple', 'Grapes', 'Watermelon']\n",
    "for fruit in fruits:\n",
    "    print(f'I like to eat {fruit}.')"
   ]
  },
  {
   "cell_type": "markdown",
   "id": "e55d1769",
   "metadata": {},
   "source": [
    "#### Task 3: Sum of Numbers\n",
    "Create a list of 10 random integers.\n",
    "Use a for loop to calculate and print the sum of all the elements in the list."
   ]
  },
  {
   "cell_type": "code",
   "execution_count": 21,
   "id": "01f1fefc",
   "metadata": {},
   "outputs": [
    {
     "name": "stdout",
     "output_type": "stream",
     "text": [
      "1\n",
      "3\n",
      "6\n",
      "11\n",
      "34\n",
      "36\n",
      "43\n",
      "64\n",
      "66\n",
      "75\n"
     ]
    }
   ],
   "source": [
    "# make a list of 10 random int\n",
    "random_number = [1, 2, 3, 5, 23, 2, 7, 21, 2, 9]\n",
    "# make up a variabel for putting the value of sum.\n",
    "add = 0\n",
    "# using for loop.\n",
    "# by adding the var num to integrate the numbers.\n",
    "for num in random_number:\n",
    "# we use add var to adding the random numbers with each other.\n",
    "    add += num\n",
    "# finally we call print command to print numbers which was adding by us.\n",
    "    print(add)\n"
   ]
  },
  {
   "cell_type": "markdown",
   "id": "1c495a8a",
   "metadata": {},
   "source": [
    "#### Task 4: Filtering Numbers\n",
    "Create a list named mixed_data containing a mix of integers and strings.\n",
    "Use a for loop to iterate over the elements of the list.\n",
    "Print only the elements that are integers."
   ]
  },
  {
   "cell_type": "code",
   "execution_count": 22,
   "id": "71e7f8c7",
   "metadata": {},
   "outputs": [],
   "source": [
    "mixed_data = [\"Asad\", \"ullah\", 18, 65]"
   ]
  },
  {
   "cell_type": "code",
   "execution_count": 28,
   "id": "398f37e1",
   "metadata": {},
   "outputs": [
    {
     "name": "stdout",
     "output_type": "stream",
     "text": [
      "18\n",
      "65\n"
     ]
    }
   ],
   "source": [
    "for data in mixed_data:\n",
    "    if isinstance(data, int) :\n",
    "        print(data)"
   ]
  },
  {
   "cell_type": "code",
   "execution_count": 29,
   "id": "980b0003",
   "metadata": {},
   "outputs": [],
   "source": [
    "# make a list of numbers.\n",
    "numbers = [1, 4 ,5, 6, 8, 12]"
   ]
  },
  {
   "cell_type": "code",
   "execution_count": 48,
   "id": "83bb82bf",
   "metadata": {},
   "outputs": [
    {
     "name": "stdout",
     "output_type": "stream",
     "text": [
      "1\n",
      "num: 1\n",
      "1 is a odd number.\n",
      "4\n",
      "num: 16\n",
      "4 is a even number.\n",
      "5\n",
      "num: 25\n",
      "5 is a odd number.\n",
      "6\n",
      "num: 36\n",
      "6 is a even number.\n",
      "8\n",
      "num: 64\n",
      "8 is a even number.\n",
      "12\n",
      "num: 144\n",
      "12 is a even number.\n",
      "total sum of numbers are 36\n"
     ]
    }
   ],
   "source": [
    "# using for loop to iterate through each number\n",
    "for num in numbers:\n",
    "    print(num)\n",
    "# square of the numbers.\n",
    "    print('num:', num ** 2)\n",
    "# print even numbers if in a list of numbers  \n",
    "    if num % 2 == 0:\n",
    "        print(f'{num} is a even number.')\n",
    "# print odd numbers if in a list of numbers    \n",
    "    else:\n",
    "        print(f'{num} is a odd number.')\n",
    "# total sum of numbers \n",
    "total_sum = sum(numbers)\n",
    "print(f'total sum of numbers are {total_sum}')"
   ]
  },
  {
   "cell_type": "markdown",
   "id": "373a8c5b",
   "metadata": {},
   "source": [
    "#### Task 5: Basic Looping and Conditions\n",
    "\n",
    "Create a program that prints even numbers from 1 to 10 using a for loop. Use an if statement to check if a number is even before printing it."
   ]
  },
  {
   "cell_type": "code",
   "execution_count": 10,
   "id": "a0b3bc06",
   "metadata": {},
   "outputs": [
    {
     "name": "stdout",
     "output_type": "stream",
     "text": [
      "1 is not an even number.\n",
      "2 is a even number.\n",
      "3 is not an even number.\n",
      "4 is a even number.\n",
      "5 is not an even number.\n",
      "6 is a even number.\n",
      "7 is not an even number.\n",
      "8 is a even number.\n",
      "9 is not an even number.\n",
      "10 is a even number.\n",
      "11 is not an even number.\n",
      "12 is a even number.\n",
      "13 is not an even number.\n",
      "14 is a even number.\n",
      "15 is not an even number.\n",
      "16 is a even number.\n",
      "17 is not an even number.\n",
      "18 is a even number.\n",
      "19 is not an even number.\n",
      "20 is a even number.\n",
      "21 is not an even number.\n",
      "22 is a even number.\n",
      "23 is not an even number.\n",
      "24 is a even number.\n",
      "25 is not an even number.\n",
      "26 is a even number.\n",
      "27 is not an even number.\n",
      "28 is a even number.\n",
      "29 is not an even number.\n",
      "30 is a even number.\n"
     ]
    }
   ],
   "source": [
    "for even in range(1, 31):\n",
    "    if even % 2 == 0:\n",
    "        print(f'{even} is a even number.')\n",
    "    else:\n",
    "        print(f'{even} is not an even number.')"
   ]
  },
  {
   "cell_type": "markdown",
   "id": "d80a37f1",
   "metadata": {},
   "source": [
    "#### Task 6: List Filtering\n",
    "\n",
    "Given a list of numbers, create a new list containing only even numbers using a for loop and if-else statements."
   ]
  },
  {
   "cell_type": "code",
   "execution_count": 18,
   "id": "cc04e022",
   "metadata": {},
   "outputs": [],
   "source": [
    "numbers = list(range(1, 31))\n",
    "even_num = []"
   ]
  },
  {
   "cell_type": "code",
   "execution_count": 21,
   "id": "609b5208",
   "metadata": {},
   "outputs": [
    {
     "name": "stdout",
     "output_type": "stream",
     "text": [
      "[2, 4, 6, 8, 10, 12, 14, 16, 18, 20, 22, 24, 26, 28, 30]\n"
     ]
    }
   ],
   "source": [
    "for nums in numbers:\n",
    "    if nums % 2 == 0:\n",
    "        even_num.append(nums)\n",
    "print(even_num)"
   ]
  },
  {
   "cell_type": "markdown",
   "id": "051a1bd2",
   "metadata": {},
   "source": [
    "#### Task 7: Grade Classifier\n",
    "\n",
    "Write a program that takes a list of student grades (numeric values) and classifies each grade into 'A,' 'B,' 'C,' or 'Fail' based on the following criteria:\n",
    "\n",
    "A: 90-100\n",
    "B: 80-89\n",
    "C: 70-79\n",
    "Fail: Below 70"
   ]
  },
  {
   "cell_type": "code",
   "execution_count": 31,
   "id": "350ae7a8",
   "metadata": {},
   "outputs": [],
   "source": [
    "grades = [85, 91, 71, 82, 69, 65.6, 69.7]"
   ]
  },
  {
   "cell_type": "code",
   "execution_count": 32,
   "id": "bd0bdd0d",
   "metadata": {},
   "outputs": [
    {
     "name": "stdout",
     "output_type": "stream",
     "text": [
      "Your grade is B and your number is 85\n",
      "Your grade is A and your number is 91\n",
      "Your grade is C and your number is 71\n",
      "Your grade is B and your number is 82\n",
      "You are fail and your number is 69\n",
      "You are fail and your number is 65.6\n",
      "You are fail and your number is 69.7\n"
     ]
    }
   ],
   "source": [
    "for grade in grades:\n",
    "    if grade >=90:\n",
    "        print(f'Your grade is A and your number is {grade}')\n",
    "    elif grade >=80:\n",
    "        print(f\"Your grade is B and your number is {grade}\")\n",
    "    elif grade >= 70:\n",
    "        print(f\"Your grade is C and your number is {grade}\")\n",
    "    else:\n",
    "        print(f\"You are fail and your number is {grade}\")"
   ]
  },
  {
   "cell_type": "markdown",
   "id": "42cf1572",
   "metadata": {},
   "source": [
    "#### Task 8: Palindrome Checker\n",
    "\n",
    "Create a program that checks whether each word in a list is a palindrome or not. Print the result for each word."
   ]
  },
  {
   "cell_type": "code",
   "execution_count": 35,
   "id": "1c27dcc4",
   "metadata": {},
   "outputs": [
    {
     "name": "stdout",
     "output_type": "stream",
     "text": [
      "level is a palindrome word\n",
      "python is not a palindrome word\n",
      "radar is a palindrome word\n",
      "hello is not a palindrome word\n",
      "madam is a palindrome word\n"
     ]
    }
   ],
   "source": [
    "'''palindrome word means: a word, phrase, or sequence that reads\n",
    "the same backwards as forwards, e.g. madam or nurses run.'''\n",
    "\n",
    "words = ['level', 'python', 'radar', 'hello', 'madam']\n",
    "for word in words:\n",
    "    if word == word[::-1]:\n",
    "        print(f'{word} is a palindrome word')\n",
    "    else:\n",
    "        print(f'{word} is not a palindrome word')"
   ]
  },
  {
   "cell_type": "markdown",
   "id": "f14cb45e",
   "metadata": {},
   "source": [
    "#### Task 9: Prime Number Checker\n",
    "\n",
    "Write a program that checks if each number in a list is a prime number or not. Print the result for each number."
   ]
  },
  {
   "cell_type": "code",
   "execution_count": 38,
   "id": "ab920655",
   "metadata": {},
   "outputs": [],
   "source": [
    "number = [1, 15, 17, 22, 14]"
   ]
  },
  {
   "cell_type": "code",
   "execution_count": 39,
   "id": "4db47266",
   "metadata": {},
   "outputs": [
    {
     "name": "stdout",
     "output_type": "stream",
     "text": [
      "1 is not a prime number.\n",
      "15 is not a prime number.\n",
      "15 is not a prime number.\n",
      "15 is a prime number.\n",
      "17 is a prime number.\n",
      "22 is not a prime number.\n",
      "22 is not a prime number.\n",
      "22 is a prime number.\n",
      "14 is not a prime number.\n",
      "14 is not a prime number.\n",
      "14 is a prime number.\n"
     ]
    }
   ],
   "source": [
    "# for understanding.\n",
    "'''for num in number:\n",
    "    if num > 1:\n",
    "        for i in range(2, num):\n",
    "            if(num % i) == 0:\n",
    "                print(f'{num} is not a prime number.')\n",
    "        else:\n",
    "            print(f'{num} is a prime number.')\n",
    "    else:\n",
    "        print(f'{num} is not a prime number.')'''"
   ]
  },
  {
   "cell_type": "markdown",
   "id": "7f4509f9",
   "metadata": {},
   "source": [
    "#### Task 10: Positive, Negative, or Zero\n",
    "\n",
    "Create a list of numbers.\n",
    "Use a for loop and if-else statements to print whether each number in the list is positive, negative, or zero."
   ]
  },
  {
   "cell_type": "code",
   "execution_count": 42,
   "id": "cc8a5aac",
   "metadata": {},
   "outputs": [],
   "source": [
    "numss = [1, 2, -1, -5, 0, 6, 13, -12, 0]"
   ]
  },
  {
   "cell_type": "code",
   "execution_count": 44,
   "id": "b46f85f4",
   "metadata": {},
   "outputs": [
    {
     "name": "stdout",
     "output_type": "stream",
     "text": [
      "1 is positive.\n",
      "2 is positive.\n",
      "-1 is negative.\n",
      "-5 is negative.\n",
      "0 is zero.\n",
      "6 is positive.\n",
      "13 is positive.\n",
      "-12 is negative.\n",
      "0 is zero.\n"
     ]
    }
   ],
   "source": [
    "for number in numss:\n",
    "    if number < 0:\n",
    "        print(f'{number} is negative.')\n",
    "    elif number > 0:\n",
    "        print(f'{number} is positive.')\n",
    "    else:\n",
    "        print(f'{number} is zero.')"
   ]
  },
  {
   "cell_type": "markdown",
   "id": "d1c30f03",
   "metadata": {},
   "source": [
    "#### Task 11: Counting Vowels\n",
    "\n",
    "Create a string.\n",
    "Use a for loop to iterate through the string and count the number of vowels (a, e, i, o, u).\n",
    "Print the count of each vowel."
   ]
  },
  {
   "cell_type": "code",
   "execution_count": 19,
   "id": "b022e882",
   "metadata": {},
   "outputs": [],
   "source": [
    "vowels = ['a', 'e', 'e', 'i', 'a', 'a', 'o', 'u', 'u']\n",
    "count_a = 0\n",
    "count_e = 0\n",
    "count_i = 0\n",
    "count_o = 0\n",
    "count_u = 0"
   ]
  },
  {
   "cell_type": "code",
   "execution_count": 20,
   "id": "671903fc",
   "metadata": {},
   "outputs": [
    {
     "name": "stdout",
     "output_type": "stream",
     "text": [
      "Count of 'a': 3\n",
      "Count of 'e': 2\n",
      "Count of 'i': 1\n",
      "Count of 'o': 1\n",
      "Count of 'u': 2\n"
     ]
    }
   ],
   "source": [
    "for vowel in vowels:\n",
    "    if vowel == 'a':\n",
    "        count_a += 1\n",
    "    elif vowel == 'e':\n",
    "        count_e += 1\n",
    "    elif vowel == 'i':\n",
    "        count_i += 1\n",
    "    elif vowel == 'o':\n",
    "        count_o += 1\n",
    "    elif vowel == 'u':\n",
    "        count_u +=1\n",
    "        \n",
    "print(f\"Count of 'a': {count_a}\")\n",
    "print(f\"Count of 'e': {count_e}\")\n",
    "print(f\"Count of 'i': {count_i}\")\n",
    "print(f\"Count of 'o': {count_o}\")\n",
    "print(f\"Count of 'u': {count_u}\")"
   ]
  },
  {
   "cell_type": "markdown",
   "id": "18e22790",
   "metadata": {},
   "source": [
    "#### Task 12: Sorting Numbers\n",
    "\n",
    "Create a list of numbers.\n",
    "Use a for loop and if-else statements to sort the numbers in ascending order.\n",
    "Print the sorted list."
   ]
  },
  {
   "cell_type": "code",
   "execution_count": 32,
   "id": "e0164078",
   "metadata": {},
   "outputs": [],
   "source": [
    "num = [0, 2, 3, 9, 5, 7, 6, 10, 16, 13, 12, 18]"
   ]
  },
  {
   "cell_type": "code",
   "execution_count": 37,
   "id": "cab9b7bb",
   "metadata": {},
   "outputs": [
    {
     "name": "stdout",
     "output_type": "stream",
     "text": [
      "[0, 2, 3, 5, 6, 7, 9, 10, 12, 13, 16, 18]\n"
     ]
    }
   ],
   "source": [
    "for i in range(len(num)):\n",
    "    for a in range(i+ 1, len(num)):\n",
    "        if num[i] > num[a]:\n",
    "            num[i], num[a] = num[a], num[i]\n",
    "print(num)"
   ]
  },
  {
   "cell_type": "markdown",
   "id": "f3434cd6",
   "metadata": {},
   "source": [
    "#### Task 13: Grade Calculator\n",
    "\n",
    "Take user inputs for the scores of a student in three subjects (Math, English, Science).\n",
    "Calculate the average score and use if-elif-else statements to determine and print the grade (A, B, C, D, or Fail).\n"
   ]
  },
  {
   "cell_type": "code",
   "execution_count": 7,
   "id": "db8967f3",
   "metadata": {},
   "outputs": [
    {
     "name": "stdout",
     "output_type": "stream",
     "text": [
      "Enter the Marks of Maths: 90\n",
      "Enter the Marks of English: 80\n",
      "Enter the Marks of Science: 76\n",
      "Your Grade is B\n",
      "Your Grade is C\n",
      "Your Grade is C\n"
     ]
    }
   ],
   "source": [
    "maths_score = int(input(\"Enter the Marks of Maths: \"))\n",
    "english_score = int(input(\"Enter the Marks of English: \"))\n",
    "science_score = int(input(\"Enter the Marks of Science: \"))\n",
    "\n",
    "maths = []\n",
    "english = []\n",
    "science = []\n",
    "maths.insert(1, maths_score)\n",
    "english.insert(1, english_score)\n",
    "science.insert(1, science_score)\n",
    "\n",
    "    \n",
    "for scores in maths:\n",
    "    if scores >90:\n",
    "        print('Your Grade is A')\n",
    "    elif scores > 80:\n",
    "        print(\"Your Grade is B\")\n",
    "    elif scores > 70:\n",
    "        print(\"Your Grade is C\")\n",
    "    elif scores > 60:\n",
    "        print(\"Your Grade is D\")\n",
    "    else:\n",
    "        print(\"You are Fail\")\n",
    "        \n",
    "for scores in english:\n",
    "    if scores >90:\n",
    "        print('Your Grade is A')\n",
    "    elif scores > 80:\n",
    "        print(\"Your Grade is B\")\n",
    "    elif scores > 70:\n",
    "        print(\"Your Grade is C\")\n",
    "    elif scores > 60:\n",
    "        print(\"Your Grade is D\")\n",
    "    else:\n",
    "        print(\"You are Fail\")\n",
    "        \n",
    "for scores in science:\n",
    "    if scores >90:\n",
    "        print('Your Grade is A')\n",
    "    elif scores > 80:\n",
    "        print(\"Your Grade is B\")\n",
    "    elif scores > 70:\n",
    "        print(\"Your Grade is C\")\n",
    "    elif scores > 60:\n",
    "        print(\"Your Grade is D\")\n",
    "    else:\n",
    "        print(\"You are Fail\")\n",
    "    #not complete yet"
   ]
  },
  {
   "cell_type": "markdown",
   "id": "0ede2dc6",
   "metadata": {},
   "source": [
    "### Advance Tasks"
   ]
  },
  {
   "cell_type": "markdown",
   "id": "e9661366",
   "metadata": {},
   "source": [
    "#### Task 1: Basic List Operations\n",
    "\n",
    "Create a list of numbers.\n",
    "Use a for loop to calculate the sum, average, maximum, and minimum values in the list.\n",
    "Print the results."
   ]
  },
  {
   "cell_type": "code",
   "execution_count": 17,
   "id": "204fe613",
   "metadata": {},
   "outputs": [
    {
     "name": "stdout",
     "output_type": "stream",
     "text": [
      "The sum of numbers are 75457885\n",
      "The maximum value in numbers are 35244323\n",
      "The minimum value in numbers are 112321\n"
     ]
    }
   ],
   "source": [
    "numbers = [112321, 2321314 ,21314323, 13241252, 35244323, 3224352]\n",
    "total = []\n",
    "for no in range(1):\n",
    "    no = sum(numbers)\n",
    "    print(f'The sum of numbers are {no}')\n",
    "    no = max(numbers)\n",
    "    print(f'The maximum value in numbers are {no}')\n",
    "    no = min(numbers)\n",
    "    print(f'The minimum value in numbers are {no}')"
   ]
  },
  {
   "cell_type": "markdown",
   "id": "be58e867",
   "metadata": {},
   "source": [
    "#### Task 2: Matrix Transpose\n",
    "\n",
    "Write a Python program that takes a matrix (list of lists) as input.\n",
    "Use a for loop and nested lists to transpose the matrix.\n",
    "Print the transposed matrix."
   ]
  },
  {
   "cell_type": "code",
   "execution_count": 6,
   "id": "92aa6545",
   "metadata": {},
   "outputs": [
    {
     "name": "stdout",
     "output_type": "stream",
     "text": [
      "Original Matrix: \n",
      "[1, 2, 3]\n",
      "[4, 5, 6]\n",
      "[7, 8, 9]\n",
      "Transposed Matrix: \n",
      "[1, 2, 3]\n",
      "[1, 2, 3]\n",
      "[1, 2, 3]\n",
      "[4, 5, 6]\n",
      "[4, 5, 6]\n",
      "[4, 5, 6]\n",
      "[7, 8, 9]\n",
      "[7, 8, 9]\n",
      "[7, 8, 9]\n"
     ]
    }
   ],
   "source": [
    "def transpose_matrix(matrix):\n",
    "    rows = len(matrix)\n",
    "    cols = len(matrix[0])\n",
    "    \n",
    "    transposed = []\n",
    "    for i in range(cols):\n",
    "        transposed_row = []\n",
    "        for j in range(rows):\n",
    "            transposed_row.append(matrix[i][j])\n",
    "            transposed.append(transposed_row)\n",
    "            \n",
    "    return transposed\n",
    "def print_matrix(matrix):\n",
    "    for row in matrix:\n",
    "        print(row)\n",
    "matrix = [\n",
    "    [1, 2, 3],\n",
    "    [4, 5, 6],\n",
    "    [7, 8, 9]\n",
    "]\n",
    "\n",
    "print(\"Original Matrix: \")\n",
    "print_matrix(matrix)\n",
    "\n",
    "print(\"Transposed Matrix: \")\n",
    "transpose_matrix = transpose_matrix(matrix)\n",
    "print_matrix(transpose_matrix)"
   ]
  },
  {
   "cell_type": "markdown",
   "id": "afc9c131",
   "metadata": {},
   "source": [
    "#### Task 3: Prime Numbers Checker\n",
    "\n",
    "Write a Python program that takes a list of numbers as input.\n",
    "Use a for loop and if statements to check if each number in the list is a prime number.\n",
    "Store the results in a dictionary with the numbers as keys and their prime status (True/False) as values.\n",
    "Print the dictionary."
   ]
  },
  {
   "cell_type": "code",
   "execution_count": 20,
   "id": "0afce01a",
   "metadata": {},
   "outputs": [
    {
     "name": "stdout",
     "output_type": "stream",
     "text": [
      "Prime Check Results: \n",
      "{0: False, 1: False, 2: True, 3: True, 4: False, 5: True, 6: False, 7: True, 8: False, 9: False, 10: False, 11: True, 12: False, 13: True, 14: False, 15: False}\n"
     ]
    }
   ],
   "source": [
    "def is_prime(num):\n",
    "    if num <= 1:\n",
    "        return False\n",
    "    for i in range(2, int(num**0.5) + 1):\n",
    "        if num % i ==0:\n",
    "            return False\n",
    "    return True\n",
    "\n",
    "def prime_check(numbers):\n",
    "    prime_dict = {}\n",
    "    for num in numbers:\n",
    "        prime_dict[num] = is_prime(num)\n",
    "    return prime_dict\n",
    "\n",
    "numbers_list = list(range(0, 16))\n",
    "prime_results = prime_check(numbers_list)\n",
    "print(\"Prime Check Results: \")\n",
    "print(prime_results)"
   ]
  },
  {
   "cell_type": "markdown",
   "id": "19946384",
   "metadata": {},
   "source": [
    "#### Task 4: Student Grade Calculator\n",
    "\n",
    "Write a Python program that takes a dictionary of students' scores as input (where keys are student names and values are lists of scores).\n",
    "Use a for loop and if-elif-else statements to calculate each student's average score and assign a grade based on certain criteria (e.g., A, B, C, D, F).\n",
    "Store the grades in a new dictionary and print it.\n",
    "These assignments cover a range of concepts and gradually increase in complexity, allowing students to practice their understanding of for loops, if-elif-else statements, dictionaries, and lists."
   ]
  },
  {
   "cell_type": "code",
   "execution_count": 41,
   "id": "e952cd77",
   "metadata": {},
   "outputs": [
    {
     "name": "stdout",
     "output_type": "stream",
     "text": [
      "Students Grades\n",
      "Asad : B\n",
      "Ahmed : C\n",
      "Muneeb : B\n",
      "Ayesha : B\n"
     ]
    }
   ],
   "source": [
    "# for single student without dict in dict\n",
    "students_scores = {'Asad': [43, 45, 49, 42],\n",
    "                  'Ahmed': [46, 32, 34, 45],\n",
    "                  'Muneeb': [44, 45, 39, 45],\n",
    "                  'Ayesha': [40, 43, 45, 41]\n",
    "                 }\n",
    "def calc_grade(average_score):\n",
    "    if average_score >= 50:\n",
    "        return 'A'\n",
    "    elif average_score >= 40:\n",
    "        return 'B'\n",
    "    elif average_score >= 30:\n",
    "        return 'C'\n",
    "    elif average_score >= 25:\n",
    "        return 'D'\n",
    "    elif average_score >= 20:\n",
    "        return 'E'\n",
    "    else:\n",
    "        return'F'\n",
    "\n",
    "def calc_stud_grad(students_scores):\n",
    "    students_grades = {}\n",
    "    for student, scores in students_scores.items():\n",
    "        average_score = sum(scores) / len(scores)\n",
    "        grade = calc_grade(average_score)\n",
    "        students_grades[student] = grade\n",
    "    return students_grades\n",
    "\n",
    "students_grades = calc_stud_grad(students_scores)\n",
    "print(\"Students Grades\")\n",
    "for student, grade in students_grades.items():\n",
    "    print(f'{student} : {grade}')\n",
    "        "
   ]
  },
  {
   "cell_type": "code",
   "execution_count": null,
   "id": "c90526a8",
   "metadata": {},
   "outputs": [],
   "source": []
  }
 ],
 "metadata": {
  "kernelspec": {
   "display_name": "Python 3 (ipykernel)",
   "language": "python",
   "name": "python3"
  },
  "language_info": {
   "codemirror_mode": {
    "name": "ipython",
    "version": 3
   },
   "file_extension": ".py",
   "mimetype": "text/x-python",
   "name": "python",
   "nbconvert_exporter": "python",
   "pygments_lexer": "ipython3",
   "version": "3.11.5"
  }
 },
 "nbformat": 4,
 "nbformat_minor": 5
}
