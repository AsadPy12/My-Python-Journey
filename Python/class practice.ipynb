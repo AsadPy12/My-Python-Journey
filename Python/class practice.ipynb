{
 "cells": [
  {
   "cell_type": "markdown",
   "id": "4e2eb92f",
   "metadata": {},
   "source": [
    "### Scenario 01: Employee Performance Evaluation\n",
    "\n",
    "In a large corporation, the HR department needs to evaluate the performance of employees based on their sales records and customer satisfaction ratings. They want to identify the top-performing employees based on a weighted score that combines sales performance and customer satisfaction.\n",
    "\n",
    "Hint: Use List comprehemsion & Lambda Functions\n",
    "\n",
    "#### Sample data: List of tuples containing employee names, sales figures, and customer satisfaction ratings\n",
    "\n",
    "employees = [\n",
    "    (\"John\", 50000, 4.5),\n",
    "    (\"Alice\", 60000, 4.7),\n",
    "    (\"Bob\", 45000, 4.2),\n",
    "    (\"Emma\", 55000, 4.6),\n",
    "    (\"James\", 48000, 4.4)\n",
    "]\n",
    "\n",
    "#### Define weights for sales performance and customer satisfaction ratings\n",
    "sales_weight = 0.6\n",
    "satisfaction_weight = 0.4"
   ]
  },
  {
   "cell_type": "code",
   "execution_count": 20,
   "id": "7f5b9917",
   "metadata": {},
   "outputs": [
    {
     "name": "stdout",
     "output_type": "stream",
     "text": [
      "Top_performing employees are:\n",
      " Alice: 36001.76\n",
      " Emma: 33001.76\n",
      " John: 30001.76\n",
      " James: 28801.76\n",
      " Bob: 27001.76\n"
     ]
    }
   ],
   "source": [
    "employees = [(\"John\", 50000, 4.5), \n",
    "             (\"Alice\", 60000, 4.7), \n",
    "             (\"Bob\", 45000, 4.2), \n",
    "             (\"Emma\", 55000, 4.6), \n",
    "             (\"James\", 48000, 4.4) ]\n",
    "\n",
    "sales_weight = 0.6\n",
    "satisfaction_weight = 0.4\n",
    "\n",
    "top_performers = []\n",
    "for employee in employees:\n",
    "    sales_score = employee[1] * sales_weight\n",
    "    satisfaction = employee[2] * satisfaction_weight\n",
    "    total_score = sales_score + satisfaction_score\n",
    "    top_performers.append((employee[0], total_score))\n",
    "    \n",
    "top_performers.sort(key= lambda x : x[1], reverse=True)\n",
    "\n",
    "print(\"Top_performing employees are:\")\n",
    "for i, (employee, score) in enumerate(top_performers, 1):\n",
    "    print(f' {employee}: {score}')"
   ]
  },
  {
   "cell_type": "markdown",
   "id": "3dff3d05",
   "metadata": {},
   "source": [
    "### Scenario 02: Calculating Square Roots of Even Numbers\n",
    "\n",
    "Imagine you're tasked with calculating the square roots of even numbers from 1 to 10 using list comprehension and lambda functions."
   ]
  },
  {
   "cell_type": "code",
   "execution_count": 41,
   "id": "8b786e7f",
   "metadata": {},
   "outputs": [
    {
     "name": "stdout",
     "output_type": "stream",
     "text": [
      "[2]\n",
      "[2, 4]\n",
      "[2, 4, 6]\n",
      "[2, 4, 6, 8]\n",
      "[2, 4, 6, 8, 10]\n"
     ]
    }
   ],
   "source": [
    "even_num = [2, 4, 6, 8, 10]\n",
    "square_root = []\n",
    "for num in even_num:\n",
    "    num ** 0.5 == 0\n",
    "    square_root.append(num)\n",
    "    print(square_root)"
   ]
  },
  {
   "cell_type": "code",
   "execution_count": null,
   "id": "6c350fff",
   "metadata": {},
   "outputs": [],
   "source": []
  }
 ],
 "metadata": {
  "kernelspec": {
   "display_name": "Python 3 (ipykernel)",
   "language": "python",
   "name": "python3"
  },
  "language_info": {
   "codemirror_mode": {
    "name": "ipython",
    "version": 3
   },
   "file_extension": ".py",
   "mimetype": "text/x-python",
   "name": "python",
   "nbconvert_exporter": "python",
   "pygments_lexer": "ipython3",
   "version": "3.11.5"
  }
 },
 "nbformat": 4,
 "nbformat_minor": 5
}
