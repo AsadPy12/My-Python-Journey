{
 "cells": [
  {
   "cell_type": "markdown",
   "id": "4e2eb92f",
   "metadata": {},
   "source": [
    "### Scenario 01: Employee Performance Evaluation\n",
    "\n",
    "In a large corporation, the HR department needs to evaluate the performance of employees based on their sales records and customer satisfaction ratings. They want to identify the top-performing employees based on a weighted score that combines sales performance and customer satisfaction.\n",
    "\n",
    "Hint: Use List comprehemsion & Lambda Functions\n",
    "\n",
    "#### Sample data: List of tuples containing employee names, sales figures, and customer satisfaction ratings\n",
    "\n",
    "employees = [\n",
    "    (\"John\", 50000, 4.5),\n",
    "    (\"Alice\", 60000, 4.7),\n",
    "    (\"Bob\", 45000, 4.2),\n",
    "    (\"Emma\", 55000, 4.6),\n",
    "    (\"James\", 48000, 4.4)\n",
    "]\n",
    "\n",
    "#### Define weights for sales performance and customer satisfaction ratings\n",
    "sales_weight = 0.6\n",
    "satisfaction_weight = 0.4"
   ]
  },
  {
   "cell_type": "code",
   "execution_count": 20,
   "id": "7f5b9917",
   "metadata": {},
   "outputs": [
    {
     "name": "stdout",
     "output_type": "stream",
     "text": [
      "Top_performing employees are:\n",
      " Alice: 36001.76\n",
      " Emma: 33001.76\n",
      " John: 30001.76\n",
      " James: 28801.76\n",
      " Bob: 27001.76\n"
     ]
    }
   ],
   "source": [
    "employees = [(\"John\", 50000, 4.5), \n",
    "             (\"Alice\", 60000, 4.7), \n",
    "             (\"Bob\", 45000, 4.2), \n",
    "             (\"Emma\", 55000, 4.6), \n",
    "             (\"James\", 48000, 4.4) ]\n",
    "\n",
    "sales_weight = 0.6\n",
    "satisfaction_weight = 0.4\n",
    "\n",
    "top_performers = []\n",
    "for employee in employees:\n",
    "    sales_score = employee[1] * sales_weight\n",
    "    satisfaction = employee[2] * satisfaction_weight\n",
    "    total_score = sales_score + satisfaction_score\n",
    "    top_performers.append((employee[0], total_score))\n",
    "    \n",
    "top_performers.sort(key= lambda x : x[1], reverse=True)\n",
    "\n",
    "print(\"Top_performing employees are:\")\n",
    "for i, (employee, score) in enumerate(top_performers, 1):\n",
    "    print(f' {employee}: {score}')"
   ]
  },
  {
   "cell_type": "markdown",
   "id": "3dff3d05",
   "metadata": {},
   "source": [
    "### Scenario 02: Calculating Square Roots of Even Numbers\n",
    "\n",
    "Imagine you're tasked with calculating the square roots of even numbers from 1 to 10 using list comprehension and lambda functions."
   ]
  },
  {
   "cell_type": "code",
   "execution_count": 1,
   "id": "8b786e7f",
   "metadata": {},
   "outputs": [
    {
     "name": "stdout",
     "output_type": "stream",
     "text": [
      "None\n"
     ]
    }
   ],
   "source": [
    "even_num = [2, 4, 6, 8, 10]\n",
    "square_root = []\n"
   ]
  },
  {
   "cell_type": "raw",
   "id": "a94feb14",
   "metadata": {},
   "source": [
    "Assignment: Employee Management System\n",
    "\n",
    "Background:\n",
    "You've been tasked with creating a simple Employee Management System to help a small business keep track of their employees' information.\n",
    "\n",
    "Requirements:\n",
    "\n",
    "1- Implement a function add_employee that takes employee details (name, age, position) as input and adds them to a dictionary called employees. Each employee should have a unique identifier (employee ID).\n",
    "\n",
    "2- Implement a function remove_employee that takes an employee ID as input and removes the corresponding employee from the employees dictionary.\n",
    "\n",
    "3- Implement a function update_employee that takes\n",
    "employee ID as input and allows the user to update the employee's details (name, age, position).\n",
    "\n",
    "4- Implement a function display_employee that takes an employee ID as input and displays the details of the corresponding employee.\n",
    "\n",
    "\n",
    "\n",
    "1. Implement a function display_all_employees that displays the details of all employees in the employees dictionary.\n",
    "\n",
    "2.Ensure that the employee IDs are automatically generated and assigned sequentially starting from 1.\n",
    "\n",
    "3.Handle edge cases gracefully, such as trying to remove or update an employee that does not exist."
   ]
  },
  {
   "cell_type": "code",
   "execution_count": 1,
   "id": "6c350fff",
   "metadata": {},
   "outputs": [],
   "source": [
    "employees = {}\n",
    "def add_employee(name, age, position):\n",
    "    employee_id =len(employees) + 1\n",
    "    employees[employee_id] = {'name': name,\n",
    "                              'age': age,\n",
    "                              'position': position}\n",
    "    print(f'Employee {name} with id {employee_id} is working in a positon {position} at the age of {age}.')\n",
    "    \n",
    "def remove_employee(employee_id): \n",
    "    if employee_id in employees:\n",
    "        del employees[employee_id]\n",
    "        print(f'{employee_id} is being removed from the the employees list.')\n",
    "    else:\n",
    "        print(f'{employee_id} is not found in the employees list.')\n",
    "        \n",
    "def update_employee(name, age, position):\n",
    "    if employee_id in employees:\n",
    "        name = input(\"Enter name here: \")\n",
    "        age = int(input(\"Enter age here: \"))\n",
    "        position = input(\"Enter position here: \")\n",
    "        employees[employee_id] = {'name': name, \n",
    "                                  'position': position,\n",
    "                                  'age': age}\n",
    "        print(f'{update_employee(name, age, position)} is updated successfully.')\n",
    "    else:\n",
    "        print(f'{update_employee(name, age, position)} is not found.')\n",
    "\n",
    "def display_employee(employee_id):\n",
    "    if employee_id in employees:\n",
    "        print(f\"Employee ID: {employee_id}\")\n",
    "        for key, value in employees[employee_id].items():\n",
    "            print(f\"{key.capitalize()}: {value}\")\n",
    "    else:\n",
    "        print(\"Employee not found\")\n",
    "        \n",
    "def display_all_employees():\n",
    "    print(\"All Employees: \")\n",
    "    for employee_id, employee_details in employees.items():\n",
    "        print(f'Employee Id: {employee_id}')\n",
    "    for key, value in employee_details.items():\n",
    "        print(f\"{key}: {value}\")"
   ]
  },
  {
   "cell_type": "code",
   "execution_count": 2,
   "id": "1dfe154e",
   "metadata": {},
   "outputs": [
    {
     "name": "stdout",
     "output_type": "stream",
     "text": [
      "Employee Ahmed with id 1 is working in a positon custom at the age of 24.\n"
     ]
    }
   ],
   "source": [
    "add_employee('Ahmed', 24, 'custom')"
   ]
  },
  {
   "cell_type": "code",
   "execution_count": 3,
   "id": "443f0e96",
   "metadata": {},
   "outputs": [
    {
     "name": "stdout",
     "output_type": "stream",
     "text": [
      "Employee Ali with id 2 is working in a positon Seller at the age of 35.\n"
     ]
    }
   ],
   "source": [
    "add_employee('Ali', 35, 'Seller')"
   ]
  },
  {
   "cell_type": "code",
   "execution_count": 4,
   "id": "8590c8a6",
   "metadata": {},
   "outputs": [
    {
     "name": "stdout",
     "output_type": "stream",
     "text": [
      "Employee Sohail with id 3 is working in a positon Mananger at the age of 26.\n"
     ]
    }
   ],
   "source": [
    "add_employee('Sohail', 26, 'Mananger')"
   ]
  },
  {
   "cell_type": "code",
   "execution_count": 5,
   "id": "f270fccd",
   "metadata": {},
   "outputs": [
    {
     "name": "stdout",
     "output_type": "stream",
     "text": [
      "Employee Muneeb with id 4 is working in a positon Assistant-Manager at the age of 29.\n"
     ]
    }
   ],
   "source": [
    "add_employee('Muneeb', 29, 'Assistant-Manager')"
   ]
  },
  {
   "cell_type": "code",
   "execution_count": null,
   "id": "995924f0",
   "metadata": {},
   "outputs": [],
   "source": []
  }
 ],
 "metadata": {
  "kernelspec": {
   "display_name": "Python 3 (ipykernel)",
   "language": "python",
   "name": "python3"
  },
  "language_info": {
   "codemirror_mode": {
    "name": "ipython",
    "version": 3
   },
   "file_extension": ".py",
   "mimetype": "text/x-python",
   "name": "python",
   "nbconvert_exporter": "python",
   "pygments_lexer": "ipython3",
   "version": "3.11.5"
  }
 },
 "nbformat": 4,
 "nbformat_minor": 5
}
