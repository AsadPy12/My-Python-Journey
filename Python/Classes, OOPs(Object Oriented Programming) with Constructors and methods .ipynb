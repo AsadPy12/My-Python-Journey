{
 "cells": [
  {
   "cell_type": "markdown",
   "id": "826b105a",
   "metadata": {},
   "source": [
    "#### Classes"
   ]
  },
  {
   "cell_type": "code",
   "execution_count": 1,
   "id": "48220f8d",
   "metadata": {},
   "outputs": [],
   "source": [
    "class school():\n",
    "    def __init__(self, school_name, school_address):\n",
    "        self.school_name = school_name\n",
    "        self.school_address = school_address"
   ]
  },
  {
   "cell_type": "code",
   "execution_count": 2,
   "id": "4b2d5743",
   "metadata": {},
   "outputs": [],
   "source": [
    "sch1 = school('Chiniot Islamia Public School', 'Main university Road')"
   ]
  },
  {
   "cell_type": "code",
   "execution_count": 3,
   "id": "276e8b39",
   "metadata": {},
   "outputs": [
    {
     "data": {
      "text/plain": [
       "'Chiniot Islamia Public School'"
      ]
     },
     "execution_count": 3,
     "metadata": {},
     "output_type": "execute_result"
    }
   ],
   "source": [
    "sch1.school_name"
   ]
  },
  {
   "cell_type": "code",
   "execution_count": 4,
   "id": "efca6ece",
   "metadata": {},
   "outputs": [
    {
     "data": {
      "text/plain": [
       "'Main university Road'"
      ]
     },
     "execution_count": 4,
     "metadata": {},
     "output_type": "execute_result"
    }
   ],
   "source": [
    "sch1.school_address"
   ]
  },
  {
   "cell_type": "markdown",
   "id": "242ba0af",
   "metadata": {},
   "source": [
    "#### Classes: Building Functions into them"
   ]
  },
  {
   "cell_type": "code",
   "execution_count": 54,
   "id": "632ab813",
   "metadata": {},
   "outputs": [],
   "source": [
    "#This code is simple without updation.\n",
    "class books():\n",
    "    def __init__(self, subject, cls):\n",
    "        self.subject = subject\n",
    "        self.cls = cls\n",
    "        \n",
    "    def secondary_lvl(self):\n",
    "        if self.cls <= 5:\n",
    "            print(f\"{self.subject} Book is primary level book whose class is {self.cls}.\")\n",
    "        else:\n",
    "            print(f'{self.subject} Book is secondary level book whose class is {self.cls}.')"
   ]
  },
  {
   "cell_type": "code",
   "execution_count": 55,
   "id": "08bacd91",
   "metadata": {},
   "outputs": [],
   "source": [
    "book1 = books('English', 6)"
   ]
  },
  {
   "cell_type": "code",
   "execution_count": 56,
   "id": "66668059",
   "metadata": {},
   "outputs": [
    {
     "data": {
      "text/plain": [
       "6"
      ]
     },
     "execution_count": 56,
     "metadata": {},
     "output_type": "execute_result"
    }
   ],
   "source": [
    "book1.cls"
   ]
  },
  {
   "cell_type": "code",
   "execution_count": 57,
   "id": "96681be3",
   "metadata": {},
   "outputs": [],
   "source": [
    "book2 = books('Maths', 4)"
   ]
  },
  {
   "cell_type": "code",
   "execution_count": 58,
   "id": "8d302354",
   "metadata": {},
   "outputs": [
    {
     "data": {
      "text/plain": [
       "4"
      ]
     },
     "execution_count": 58,
     "metadata": {},
     "output_type": "execute_result"
    }
   ],
   "source": [
    "book2.cls"
   ]
  },
  {
   "cell_type": "code",
   "execution_count": 59,
   "id": "cbb0a9e0",
   "metadata": {},
   "outputs": [
    {
     "name": "stdout",
     "output_type": "stream",
     "text": [
      "Maths Book is primary level book whose class is 4.\n"
     ]
    }
   ],
   "source": [
    "book2.secondary_lvl()"
   ]
  },
  {
   "cell_type": "code",
   "execution_count": 60,
   "id": "7c2b8456",
   "metadata": {},
   "outputs": [
    {
     "name": "stdout",
     "output_type": "stream",
     "text": [
      "English Book is secondary level book whose class is 6.\n"
     ]
    }
   ],
   "source": [
    "book1.secondary_lvl()"
   ]
  },
  {
   "cell_type": "code",
   "execution_count": 63,
   "id": "7239c6ac",
   "metadata": {},
   "outputs": [],
   "source": [
    "# this code is with update function\n",
    "class books():\n",
    "    def __init__(self, subject, cls):\n",
    "        self.subject = subject\n",
    "        self.cls = cls\n",
    "        \n",
    "    def secondary_lvl(self):\n",
    "        if self.cls <= 5:\n",
    "            print(f\"{self.subject} Book is primary level book whose class is {self.cls}.\")\n",
    "        else:\n",
    "            print(f'{self.subject} Book is secondary level book whose class is {self.cls}.')\n",
    "            \n",
    "    def update_subject(self, new_subject):\n",
    "        self.subject = new_subject"
   ]
  },
  {
   "cell_type": "code",
   "execution_count": 64,
   "id": "4c074f4c",
   "metadata": {},
   "outputs": [],
   "source": [
    "book1 = books('English', 5)"
   ]
  },
  {
   "cell_type": "code",
   "execution_count": 65,
   "id": "067752ab",
   "metadata": {},
   "outputs": [
    {
     "data": {
      "text/plain": [
       "'English'"
      ]
     },
     "execution_count": 65,
     "metadata": {},
     "output_type": "execute_result"
    }
   ],
   "source": [
    "book1.subject"
   ]
  },
  {
   "cell_type": "code",
   "execution_count": 66,
   "id": "d3470482",
   "metadata": {},
   "outputs": [
    {
     "data": {
      "text/plain": [
       "5"
      ]
     },
     "execution_count": 66,
     "metadata": {},
     "output_type": "execute_result"
    }
   ],
   "source": [
    "book1.cls"
   ]
  },
  {
   "cell_type": "code",
   "execution_count": 68,
   "id": "59a4c075",
   "metadata": {},
   "outputs": [
    {
     "name": "stdout",
     "output_type": "stream",
     "text": [
      "English Book is primary level book whose class is 5.\n"
     ]
    }
   ],
   "source": [
    "book1.secondary_lvl()"
   ]
  },
  {
   "cell_type": "code",
   "execution_count": 69,
   "id": "db24d4ef",
   "metadata": {},
   "outputs": [],
   "source": [
    "book1.update_subject('Maths')"
   ]
  },
  {
   "cell_type": "code",
   "execution_count": 70,
   "id": "3e26171f",
   "metadata": {},
   "outputs": [
    {
     "data": {
      "text/plain": [
       "'Maths'"
      ]
     },
     "execution_count": 70,
     "metadata": {},
     "output_type": "execute_result"
    }
   ],
   "source": [
    "book1.subject"
   ]
  },
  {
   "cell_type": "code",
   "execution_count": 124,
   "id": "e5e086ea",
   "metadata": {},
   "outputs": [],
   "source": [
    "class mobile_phone():\n",
    "    def __init__(self, brand, model, year):\n",
    "        self.brand = brand\n",
    "        self.model = model\n",
    "        self.year = year\n",
    "    \n",
    "    def features(self, screen, memory, battery):\n",
    "        self.screen == screen\n",
    "        self.memory = memory\n",
    "        self.battery = battery\n",
    "        "
   ]
  },
  {
   "cell_type": "code",
   "execution_count": 125,
   "id": "916364ce",
   "metadata": {},
   "outputs": [],
   "source": [
    "mobile = mobile_phone('Samsung', 'A51', 2021)"
   ]
  },
  {
   "cell_type": "code",
   "execution_count": 126,
   "id": "e777b078",
   "metadata": {},
   "outputs": [
    {
     "data": {
      "text/plain": [
       "'Samsung'"
      ]
     },
     "execution_count": 126,
     "metadata": {},
     "output_type": "execute_result"
    }
   ],
   "source": [
    "mobile.brand"
   ]
  },
  {
   "cell_type": "code",
   "execution_count": 127,
   "id": "5fef5baa",
   "metadata": {},
   "outputs": [
    {
     "data": {
      "text/plain": [
       "'A51'"
      ]
     },
     "execution_count": 127,
     "metadata": {},
     "output_type": "execute_result"
    }
   ],
   "source": [
    "mobile.model"
   ]
  },
  {
   "cell_type": "code",
   "execution_count": 128,
   "id": "020b588f",
   "metadata": {},
   "outputs": [
    {
     "data": {
      "text/plain": [
       "2021"
      ]
     },
     "execution_count": 128,
     "metadata": {},
     "output_type": "execute_result"
    }
   ],
   "source": [
    "mobile.year"
   ]
  },
  {
   "cell_type": "code",
   "execution_count": null,
   "id": "491ca951",
   "metadata": {},
   "outputs": [],
   "source": []
  }
 ],
 "metadata": {
  "kernelspec": {
   "display_name": "Python 3 (ipykernel)",
   "language": "python",
   "name": "python3"
  },
  "language_info": {
   "codemirror_mode": {
    "name": "ipython",
    "version": 3
   },
   "file_extension": ".py",
   "mimetype": "text/x-python",
   "name": "python",
   "nbconvert_exporter": "python",
   "pygments_lexer": "ipython3",
   "version": "3.11.5"
  }
 },
 "nbformat": 4,
 "nbformat_minor": 5
}
