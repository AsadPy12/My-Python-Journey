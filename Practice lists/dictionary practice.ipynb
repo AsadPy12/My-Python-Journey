{
 "cells": [
  {
   "cell_type": "markdown",
   "id": "87b96610",
   "metadata": {},
   "source": [
    "#### Dictionary Python"
   ]
  },
  {
   "cell_type": "code",
   "execution_count": 2,
   "id": "19470459",
   "metadata": {},
   "outputs": [],
   "source": [
    "dict_items = { 'First_name': 'Asad',\n",
    "               'Last_name': 'Ullah',\n",
    "               'phone_no': '030000000',\n",
    "               'age': 18,\n",
    "               'weight': 64\n",
    "             }"
   ]
  },
  {
   "cell_type": "code",
   "execution_count": 3,
   "id": "26e2795f",
   "metadata": {},
   "outputs": [
    {
     "data": {
      "text/plain": [
       "{'First_name': 'Asad',\n",
       " 'Last_name': 'Ullah',\n",
       " 'phone_no': '030000000',\n",
       " 'age': 18,\n",
       " 'weight': 64}"
      ]
     },
     "execution_count": 3,
     "metadata": {},
     "output_type": "execute_result"
    }
   ],
   "source": [
    "dict_items"
   ]
  },
  {
   "cell_type": "code",
   "execution_count": 4,
   "id": "592f515e",
   "metadata": {},
   "outputs": [],
   "source": [
    "# to update in dictionary\n",
    "dict_items['phone_no'] = '0313430031'"
   ]
  },
  {
   "cell_type": "code",
   "execution_count": 5,
   "id": "2509181e",
   "metadata": {},
   "outputs": [
    {
     "data": {
      "text/plain": [
       "{'First_name': 'Asad',\n",
       " 'Last_name': 'Ullah',\n",
       " 'phone_no': '0313430031',\n",
       " 'age': 18,\n",
       " 'weight': 64}"
      ]
     },
     "execution_count": 5,
     "metadata": {},
     "output_type": "execute_result"
    }
   ],
   "source": [
    "dict_items"
   ]
  },
  {
   "cell_type": "code",
   "execution_count": 6,
   "id": "f2da3719",
   "metadata": {},
   "outputs": [],
   "source": [
    "# to delete any thing in dictionary\n",
    "del(dict_items['phone_no'])"
   ]
  },
  {
   "cell_type": "code",
   "execution_count": 7,
   "id": "78033a09",
   "metadata": {},
   "outputs": [
    {
     "data": {
      "text/plain": [
       "{'First_name': 'Asad', 'Last_name': 'Ullah', 'age': 18, 'weight': 64}"
      ]
     },
     "execution_count": 7,
     "metadata": {},
     "output_type": "execute_result"
    }
   ],
   "source": [
    "dict_items"
   ]
  },
  {
   "cell_type": "code",
   "execution_count": 8,
   "id": "1fd6a1bf",
   "metadata": {},
   "outputs": [],
   "source": [
    "# to copy dictionary in another dictionary\n",
    "new_dict = dict_items.copy()"
   ]
  },
  {
   "cell_type": "code",
   "execution_count": 9,
   "id": "5476eff7",
   "metadata": {},
   "outputs": [
    {
     "data": {
      "text/plain": [
       "{'First_name': 'Asad', 'Last_name': 'Ullah', 'age': 18, 'weight': 64}"
      ]
     },
     "execution_count": 9,
     "metadata": {},
     "output_type": "execute_result"
    }
   ],
   "source": [
    "new_dict"
   ]
  },
  {
   "cell_type": "code",
   "execution_count": 10,
   "id": "2b67a579",
   "metadata": {},
   "outputs": [
    {
     "data": {
      "text/plain": [
       "{'First_name': 'Asad', 'Last_name': 'Ullah', 'age': 18, 'weight': 64}"
      ]
     },
     "execution_count": 10,
     "metadata": {},
     "output_type": "execute_result"
    }
   ],
   "source": [
    "dict_items"
   ]
  },
  {
   "cell_type": "code",
   "execution_count": 11,
   "id": "dd13ff37",
   "metadata": {},
   "outputs": [],
   "source": [
    "# to add or update item in dict\n",
    "dict_items['phone_no'] = '03234523432'"
   ]
  },
  {
   "cell_type": "code",
   "execution_count": 12,
   "id": "48c0167f",
   "metadata": {},
   "outputs": [
    {
     "data": {
      "text/plain": [
       "{'First_name': 'Asad',\n",
       " 'Last_name': 'Ullah',\n",
       " 'age': 18,\n",
       " 'weight': 64,\n",
       " 'phone_no': '03234523432'}"
      ]
     },
     "execution_count": 12,
     "metadata": {},
     "output_type": "execute_result"
    }
   ],
   "source": [
    "dict_items"
   ]
  },
  {
   "cell_type": "code",
   "execution_count": 13,
   "id": "cb345273",
   "metadata": {},
   "outputs": [
    {
     "data": {
      "text/plain": [
       "{'First_name': 'Asad', 'Last_name': 'Ullah', 'age': 18, 'weight': 64}"
      ]
     },
     "execution_count": 13,
     "metadata": {},
     "output_type": "execute_result"
    }
   ],
   "source": [
    "new_dict"
   ]
  },
  {
   "cell_type": "code",
   "execution_count": 14,
   "id": "82e486fd",
   "metadata": {},
   "outputs": [],
   "source": [
    "# to remove all items from dict\n",
    "dict_items.clear()"
   ]
  },
  {
   "cell_type": "code",
   "execution_count": 15,
   "id": "da3b5b3c",
   "metadata": {},
   "outputs": [
    {
     "data": {
      "text/plain": [
       "{}"
      ]
     },
     "execution_count": 15,
     "metadata": {},
     "output_type": "execute_result"
    }
   ],
   "source": [
    "dict_items"
   ]
  },
  {
   "cell_type": "code",
   "execution_count": 16,
   "id": "4156de9e",
   "metadata": {},
   "outputs": [],
   "source": [
    "new_dict['phone_no'] = '03215216241'"
   ]
  },
  {
   "cell_type": "code",
   "execution_count": 17,
   "id": "6a8655ac",
   "metadata": {},
   "outputs": [
    {
     "data": {
      "text/plain": [
       "{'First_name': 'Asad',\n",
       " 'Last_name': 'Ullah',\n",
       " 'age': 18,\n",
       " 'weight': 64,\n",
       " 'phone_no': '03215216241'}"
      ]
     },
     "execution_count": 17,
     "metadata": {},
     "output_type": "execute_result"
    }
   ],
   "source": [
    "new_dict"
   ]
  },
  {
   "cell_type": "code",
   "execution_count": 22,
   "id": "cdcffc44",
   "metadata": {},
   "outputs": [
    {
     "data": {
      "text/plain": [
       "dict_items([('First_name', 'Asad'), ('Last_name', 'Ullah'), ('age', 18), ('weight', 64), ('phone_no', '03215216241')])"
      ]
     },
     "execution_count": 22,
     "metadata": {},
     "output_type": "execute_result"
    }
   ],
   "source": [
    "# convert dictionary to list of tuples\n",
    "new_dict.items()"
   ]
  },
  {
   "cell_type": "code",
   "execution_count": 23,
   "id": "cd356992",
   "metadata": {},
   "outputs": [
    {
     "name": "stdout",
     "output_type": "stream",
     "text": [
      "First_name --> Asad\n",
      "Last_name --> Ullah\n",
      "age --> 18\n",
      "weight --> 64\n",
      "phone_no --> 03215216241\n"
     ]
    }
   ],
   "source": [
    "for temp, temp1 in new_dict.items():\n",
    "    print(f'{temp} --> {temp1}')"
   ]
  },
  {
   "cell_type": "code",
   "execution_count": 25,
   "id": "c47b27a1",
   "metadata": {},
   "outputs": [
    {
     "name": "stdout",
     "output_type": "stream",
     "text": [
      "First_name\n",
      "Last_name\n",
      "age\n",
      "weight\n",
      "phone_no\n"
     ]
    }
   ],
   "source": [
    "for value in new_dict.items():\n",
    "    print(value[0])"
   ]
  },
  {
   "cell_type": "code",
   "execution_count": 26,
   "id": "b2cceadf",
   "metadata": {},
   "outputs": [
    {
     "name": "stdout",
     "output_type": "stream",
     "text": [
      "Asad\n",
      "Ullah\n",
      "18\n",
      "64\n",
      "03215216241\n"
     ]
    }
   ],
   "source": [
    "for keys in new_dict.items():\n",
    "    print(keys[1])"
   ]
  },
  {
   "cell_type": "code",
   "execution_count": 27,
   "id": "e7087c03",
   "metadata": {},
   "outputs": [
    {
     "data": {
      "text/plain": [
       "dict_keys(['First_name', 'Last_name', 'age', 'weight', 'phone_no'])"
      ]
     },
     "execution_count": 27,
     "metadata": {},
     "output_type": "execute_result"
    }
   ],
   "source": [
    "# to get keys from dict we use\n",
    "new_dict.keys()"
   ]
  },
  {
   "cell_type": "code",
   "execution_count": 28,
   "id": "3d9a0328",
   "metadata": {},
   "outputs": [
    {
     "name": "stdout",
     "output_type": "stream",
     "text": [
      "First_name\n",
      "Last_name\n",
      "age\n",
      "weight\n",
      "phone_no\n"
     ]
    }
   ],
   "source": [
    "for temps in new_dict.keys():\n",
    "    print(temps)"
   ]
  },
  {
   "cell_type": "code",
   "execution_count": 29,
   "id": "8409a7c0",
   "metadata": {},
   "outputs": [
    {
     "data": {
      "text/plain": [
       "dict_values(['Asad', 'Ullah', 18, 64, '03215216241'])"
      ]
     },
     "execution_count": 29,
     "metadata": {},
     "output_type": "execute_result"
    }
   ],
   "source": [
    "# to get values from dicts we use\n",
    "new_dict.values()"
   ]
  },
  {
   "cell_type": "code",
   "execution_count": 30,
   "id": "b4af6f6d",
   "metadata": {},
   "outputs": [
    {
     "name": "stdout",
     "output_type": "stream",
     "text": [
      "Asad\n",
      "Ullah\n",
      "18\n",
      "64\n",
      "03215216241\n"
     ]
    }
   ],
   "source": [
    "for temp in new_dict.values():\n",
    "    print(temp)"
   ]
  },
  {
   "cell_type": "code",
   "execution_count": null,
   "id": "ed80fe7b",
   "metadata": {},
   "outputs": [],
   "source": []
  }
 ],
 "metadata": {
  "kernelspec": {
   "display_name": "Python 3 (ipykernel)",
   "language": "python",
   "name": "python3"
  },
  "language_info": {
   "codemirror_mode": {
    "name": "ipython",
    "version": 3
   },
   "file_extension": ".py",
   "mimetype": "text/x-python",
   "name": "python",
   "nbconvert_exporter": "python",
   "pygments_lexer": "ipython3",
   "version": "3.11.5"
  }
 },
 "nbformat": 4,
 "nbformat_minor": 5
}
