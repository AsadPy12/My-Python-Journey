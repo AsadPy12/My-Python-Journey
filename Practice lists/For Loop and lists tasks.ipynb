{
 "cells": [
  {
   "cell_type": "markdown",
   "id": "94090678",
   "metadata": {},
   "source": [
    "#### Task 1: Basic For Loop\n",
    "Create a list named numbers containing the integers from 1 to 10.\n",
    "Use a for loop to iterate over the elements of the list.\n",
    "Print each element within the loop."
   ]
  },
  {
   "cell_type": "code",
   "execution_count": 7,
   "id": "bd02ab70",
   "metadata": {},
   "outputs": [],
   "source": [
    "numbers = list(range(1, 11))"
   ]
  },
  {
   "cell_type": "code",
   "execution_count": 8,
   "id": "b1367fe3",
   "metadata": {},
   "outputs": [
    {
     "name": "stdout",
     "output_type": "stream",
     "text": [
      "1\n",
      "2\n",
      "3\n",
      "4\n",
      "5\n",
      "6\n",
      "7\n",
      "8\n",
      "9\n",
      "10\n"
     ]
    }
   ],
   "source": [
    "for iterate in numbers:\n",
    "    print(iterate)"
   ]
  },
  {
   "cell_type": "markdown",
   "id": "33b0297e",
   "metadata": {},
   "source": [
    "#### Task 2: List Manipulation\n",
    "Create a list named fruits with at least 5 different fruit names.\n",
    "Use a for loop to iterate over the elements of the list.\n",
    "Print a message for each fruit, such as \"I like to eat [fruit].\""
   ]
  },
  {
   "cell_type": "code",
   "execution_count": 9,
   "id": "312410d7",
   "metadata": {},
   "outputs": [
    {
     "name": "stdout",
     "output_type": "stream",
     "text": [
      "I like to eat Banana.\n",
      "I like to eat Mango.\n",
      "I like to eat Apple.\n",
      "I like to eat Grapes.\n",
      "I like to eat Watermelon.\n"
     ]
    }
   ],
   "source": [
    "fruits = ['Banana', 'Mango','Apple', 'Grapes', 'Watermelon']\n",
    "for fruit in fruits:\n",
    "    print(f'I like to eat {fruit}.')"
   ]
  },
  {
   "cell_type": "markdown",
   "id": "e55d1769",
   "metadata": {},
   "source": [
    "#### Task 3: Sum of Numbers\n",
    "Create a list of 10 random integers.\n",
    "Use a for loop to calculate and print the sum of all the elements in the list."
   ]
  },
  {
   "cell_type": "code",
   "execution_count": 21,
   "id": "01f1fefc",
   "metadata": {},
   "outputs": [
    {
     "name": "stdout",
     "output_type": "stream",
     "text": [
      "1\n",
      "3\n",
      "6\n",
      "11\n",
      "34\n",
      "36\n",
      "43\n",
      "64\n",
      "66\n",
      "75\n"
     ]
    }
   ],
   "source": [
    "# make a list of 10 random int\n",
    "random_number = [1, 2, 3, 5, 23, 2, 7, 21, 2, 9]\n",
    "# make up a variabel for putting the value of sum.\n",
    "add = 0\n",
    "# using for loop.\n",
    "# by adding the var num to integrate the numbers.\n",
    "for num in random_number:\n",
    "# we use add var to adding the random numbers with each other.\n",
    "    add += num\n",
    "# finally we call print command to print numbers which was adding by us.\n",
    "    print(add)\n"
   ]
  },
  {
   "cell_type": "markdown",
   "id": "1c495a8a",
   "metadata": {},
   "source": [
    "#### Task 4: Filtering Numbers\n",
    "Create a list named mixed_data containing a mix of integers and strings.\n",
    "Use a for loop to iterate over the elements of the list.\n",
    "Print only the elements that are integers."
   ]
  },
  {
   "cell_type": "code",
   "execution_count": 22,
   "id": "71e7f8c7",
   "metadata": {},
   "outputs": [],
   "source": [
    "mixed_data = [\"Asad\", \"ullah\", 18, 65]"
   ]
  },
  {
   "cell_type": "code",
   "execution_count": 28,
   "id": "398f37e1",
   "metadata": {},
   "outputs": [
    {
     "name": "stdout",
     "output_type": "stream",
     "text": [
      "18\n",
      "65\n"
     ]
    }
   ],
   "source": [
    "for data in mixed_data:\n",
    "    if isinstance(data, int) :\n",
    "        print(data)"
   ]
  },
  {
   "cell_type": "code",
   "execution_count": 29,
   "id": "980b0003",
   "metadata": {},
   "outputs": [],
   "source": [
    "# make a list of numbers.\n",
    "numbers = [1, 4 ,5, 6, 8, 12]"
   ]
  },
  {
   "cell_type": "code",
   "execution_count": 48,
   "id": "83bb82bf",
   "metadata": {},
   "outputs": [
    {
     "name": "stdout",
     "output_type": "stream",
     "text": [
      "1\n",
      "num: 1\n",
      "1 is a odd number.\n",
      "4\n",
      "num: 16\n",
      "4 is a even number.\n",
      "5\n",
      "num: 25\n",
      "5 is a odd number.\n",
      "6\n",
      "num: 36\n",
      "6 is a even number.\n",
      "8\n",
      "num: 64\n",
      "8 is a even number.\n",
      "12\n",
      "num: 144\n",
      "12 is a even number.\n",
      "total sum of numbers are 36\n"
     ]
    }
   ],
   "source": [
    "# using for loop to iterate through each number\n",
    "for num in numbers:\n",
    "    print(num)\n",
    "# square of the numbers.\n",
    "    print('num:', num ** 2)\n",
    "# print even numbers if in a list of numbers  \n",
    "    if num % 2 == 0:\n",
    "        print(f'{num} is a even number.')\n",
    "# print odd numbers if in a list of numbers    \n",
    "    else:\n",
    "        print(f'{num} is a odd number.')\n",
    "# total sum of numbers \n",
    "total_sum = sum(numbers)\n",
    "print(f'total sum of numbers are {total_sum}')"
   ]
  }
 ],
 "metadata": {
  "kernelspec": {
   "display_name": "Python 3 (ipykernel)",
   "language": "python",
   "name": "python3"
  },
  "language_info": {
   "codemirror_mode": {
    "name": "ipython",
    "version": 3
   },
   "file_extension": ".py",
   "mimetype": "text/x-python",
   "name": "python",
   "nbconvert_exporter": "python",
   "pygments_lexer": "ipython3",
   "version": "3.11.5"
  }
 },
 "nbformat": 4,
 "nbformat_minor": 5
}
