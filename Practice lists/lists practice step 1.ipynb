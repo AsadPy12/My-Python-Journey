{
 "cells": [
  {
   "cell_type": "markdown",
   "id": "60654415",
   "metadata": {},
   "source": [
    "#### List And Its Methods:"
   ]
  },
  {
   "cell_type": "code",
   "execution_count": 14,
   "id": "61f5c79e",
   "metadata": {},
   "outputs": [],
   "source": [
    "# make a list \n",
    "grocery_list = ['apple','mango', 'rice', 'sugar', 'cooking oil' ']"
   ]
  },
  {
   "cell_type": "code",
   "execution_count": 30,
   "id": "22463ca2",
   "metadata": {},
   "outputs": [
    {
     "data": {
      "text/plain": [
       "['apple', 'mango', 'rice', 'sugar', 'cooking oil', 'bread']"
      ]
     },
     "execution_count": 30,
     "metadata": {},
     "output_type": "execute_result"
    }
   ],
   "source": [
    "# add any object in last of list we use append method.\n",
    "grocery_list.append(\"bread\")\n",
    "# show the list again\n",
    "grocery_list"
   ]
  },
  {
   "cell_type": "raw",
   "id": "880abfc1",
   "metadata": {},
   "source": [
    "# to remove all list we use clear method.\n",
    "grocery_list.clear()"
   ]
  },
  {
   "cell_type": "code",
   "execution_count": 32,
   "id": "d8f7e640",
   "metadata": {},
   "outputs": [
    {
     "data": {
      "text/plain": [
       "['apple', 'mango', 'rice', 'sugar', 'cooking oil', 'bread']"
      ]
     },
     "execution_count": 32,
     "metadata": {},
     "output_type": "execute_result"
    }
   ],
   "source": [
    "# to make copy of any list we use copy method.\n",
    "grocery_list.copy()"
   ]
  },
  {
   "cell_type": "code",
   "execution_count": 37,
   "id": "5cd12509",
   "metadata": {},
   "outputs": [
    {
     "data": {
      "text/plain": [
       "1"
      ]
     },
     "execution_count": 37,
     "metadata": {},
     "output_type": "execute_result"
    }
   ],
   "source": [
    "# counting words in list.\n",
    "grocery_list.count('apple')"
   ]
  },
  {
   "cell_type": "code",
   "execution_count": 40,
   "id": "421961f3",
   "metadata": {},
   "outputs": [
    {
     "data": {
      "text/plain": [
       "['apple',\n",
       " 'mango',\n",
       " 'rice',\n",
       " 'sugar',\n",
       " 'cooking oil',\n",
       " 'bread',\n",
       " 'a',\n",
       " 'p',\n",
       " 'p',\n",
       " 'l',\n",
       " 'e',\n",
       " 'a',\n",
       " 'p',\n",
       " 'p',\n",
       " 'l',\n",
       " 'e']"
      ]
     },
     "execution_count": 40,
     "metadata": {},
     "output_type": "execute_result"
    }
   ],
   "source": [
    "# for extending alphabets in one by one place.\n",
    "grocery_list.extend('apple')\n",
    "grocery_list"
   ]
  },
  {
   "cell_type": "code",
   "execution_count": 9,
   "id": "8ee0bcad",
   "metadata": {},
   "outputs": [],
   "source": [
    "grocery_list = ['apple','mango', 'rice', 'sugar', 'cooking oil']"
   ]
  },
  {
   "cell_type": "code",
   "execution_count": 11,
   "id": "422a2e17",
   "metadata": {},
   "outputs": [
    {
     "data": {
      "text/plain": [
       "1"
      ]
     },
     "execution_count": 11,
     "metadata": {},
     "output_type": "execute_result"
    }
   ],
   "source": [
    "# index method is used to know what is the index of object in list we want to see.\n",
    "grocery_list.index('mango',)"
   ]
  },
  {
   "cell_type": "code",
   "execution_count": 12,
   "id": "8eea78c1",
   "metadata": {},
   "outputs": [],
   "source": [
    "# for insert any forgotten object in particular index we use this method.\n",
    "grocery_list.insert(3, 'milk')"
   ]
  },
  {
   "cell_type": "code",
   "execution_count": 13,
   "id": "376032fe",
   "metadata": {},
   "outputs": [
    {
     "data": {
      "text/plain": [
       "['apple', 'mango', 'rice', 'milk', 'sugar', 'cooking oil']"
      ]
     },
     "execution_count": 13,
     "metadata": {},
     "output_type": "execute_result"
    }
   ],
   "source": [
    "grocery_list"
   ]
  },
  {
   "cell_type": "code",
   "execution_count": 15,
   "id": "c7bdb21e",
   "metadata": {},
   "outputs": [
    {
     "data": {
      "text/plain": [
       "['apple', 'mango', 'rice', 'cooking oil']"
      ]
     },
     "execution_count": 15,
     "metadata": {},
     "output_type": "execute_result"
    }
   ],
   "source": [
    "# to take out any object from list we use pop method. \n",
    "grocery_list.pop(3)\n",
    "grocery_list"
   ]
  },
  {
   "cell_type": "code",
   "execution_count": 26,
   "id": "6215b8ee",
   "metadata": {},
   "outputs": [],
   "source": [
    "shoppinglist = []"
   ]
  },
  {
   "cell_type": "code",
   "execution_count": 31,
   "id": "c977507f",
   "metadata": {},
   "outputs": [
    {
     "ename": "TypeError",
     "evalue": "list indices must be integers or slices, not list",
     "output_type": "error",
     "traceback": [
      "\u001b[1;31m---------------------------------------------------------------------------\u001b[0m",
      "\u001b[1;31mTypeError\u001b[0m                                 Traceback (most recent call last)",
      "Cell \u001b[1;32mIn[31], line 3\u001b[0m\n\u001b[0;32m      1\u001b[0m shoppinglist \u001b[38;5;241m=\u001b[39m shoppinglist \u001b[38;5;241m+\u001b[39m grocery_list\n\u001b[0;32m      2\u001b[0m shoppinglist\n\u001b[1;32m----> 3\u001b[0m \u001b[38;5;28;01mdel\u001b[39;00m shoppinglist[shoppinglist]\n",
      "\u001b[1;31mTypeError\u001b[0m: list indices must be integers or slices, not list"
     ]
    }
   ],
   "source": [
    "# we cannot deleting list by using del method.\n",
    "shoppinglist = shoppinglist + grocery_list\n",
    "shoppinglist\n",
    "del shoppinglist[shoppinglist]"
   ]
  },
  {
   "cell_type": "code",
   "execution_count": 16,
   "id": "c492b2b0",
   "metadata": {},
   "outputs": [
    {
     "data": {
      "text/plain": [
       "['apple', 'mango', 'cooking oil']"
      ]
     },
     "execution_count": 16,
     "metadata": {},
     "output_type": "execute_result"
    }
   ],
   "source": [
    "# to remove any object we use remove method.\n",
    "grocery_list.remove('rice')\n",
    "grocery_list"
   ]
  },
  {
   "cell_type": "code",
   "execution_count": 25,
   "id": "2cc7850d",
   "metadata": {},
   "outputs": [
    {
     "data": {
      "text/plain": [
       "['apple', 'cooking oil', 'rice', 'bread', 'yogurt']"
      ]
     },
     "execution_count": 25,
     "metadata": {},
     "output_type": "execute_result"
    }
   ],
   "source": [
    "# another way to deleting values from list.\n",
    "del grocery_list[2]\n",
    "grocery_list"
   ]
  },
  {
   "cell_type": "code",
   "execution_count": 17,
   "id": "b5152ec7",
   "metadata": {},
   "outputs": [
    {
     "data": {
      "text/plain": [
       "['cooking oil', 'mango', 'apple']"
      ]
     },
     "execution_count": 17,
     "metadata": {},
     "output_type": "execute_result"
    }
   ],
   "source": [
    "# reverse the list.\n",
    "grocery_list.reverse()\n",
    "grocery_list"
   ]
  },
  {
   "cell_type": "code",
   "execution_count": 18,
   "id": "398b9524",
   "metadata": {},
   "outputs": [
    {
     "data": {
      "text/plain": [
       "['apple', 'cooking oil', 'mango']"
      ]
     },
     "execution_count": 18,
     "metadata": {},
     "output_type": "execute_result"
    }
   ],
   "source": [
    "# sort the list in alphabatical manners.\n",
    "grocery_list.sort()\n",
    "grocery_list"
   ]
  },
  {
   "cell_type": "code",
   "execution_count": 19,
   "id": "4db8a356",
   "metadata": {},
   "outputs": [
    {
     "data": {
      "text/plain": [
       "['apple', 'cooking oil', 'mango', 'rice', 'bread', 'yogurt']"
      ]
     },
     "execution_count": 19,
     "metadata": {},
     "output_type": "execute_result"
    }
   ],
   "source": [
    "# another way or method to add objects in list without using append method.\n",
    "grocery_list = grocery_list + ['rice', 'bread', 'yogurt']\n",
    "grocery_list"
   ]
  },
  {
   "cell_type": "code",
   "execution_count": null,
   "id": "56b26cfd",
   "metadata": {},
   "outputs": [],
   "source": [
    "# Here are the all functions and method of list completed."
   ]
  },
  {
   "cell_type": "markdown",
   "id": "d64364dc",
   "metadata": {},
   "source": [
    "#### Slicing in List:"
   ]
  },
  {
   "cell_type": "code",
   "execution_count": 20,
   "id": "bbcd4f6a",
   "metadata": {},
   "outputs": [
    {
     "data": {
      "text/plain": [
       "['apple', 'cooking oil', 'mango', 'rice', 'bread', 'yogurt']"
      ]
     },
     "execution_count": 20,
     "metadata": {},
     "output_type": "execute_result"
    }
   ],
   "source": [
    "grocery_list"
   ]
  },
  {
   "cell_type": "code",
   "execution_count": 21,
   "id": "d4509e01",
   "metadata": {},
   "outputs": [
    {
     "data": {
      "text/plain": [
       "['cooking oil', 'mango']"
      ]
     },
     "execution_count": 21,
     "metadata": {},
     "output_type": "execute_result"
    }
   ],
   "source": [
    "# 1 2 3 4 -> 1(include), 3(exclude)\n",
    "# index starts from 0 \n",
    "slicedlist = grocery_list[1:3]\n",
    "slicedlist"
   ]
  },
  {
   "cell_type": "code",
   "execution_count": 22,
   "id": "e9a6b034",
   "metadata": {},
   "outputs": [
    {
     "data": {
      "text/plain": [
       "['apple', 'cooking oil', 'mango', 'rice']"
      ]
     },
     "execution_count": 22,
     "metadata": {},
     "output_type": "execute_result"
    }
   ],
   "source": [
    "# slicing from 0 to 3 (4 exclude)\n",
    "slicedlist = grocery_list[:4]\n",
    "slicedlist"
   ]
  },
  {
   "cell_type": "code",
   "execution_count": 23,
   "id": "ead89ff8",
   "metadata": {},
   "outputs": [
    {
     "data": {
      "text/plain": [
       "['apple', 'cooking oil', 'mango', 'rice', 'bread', 'yogurt']"
      ]
     },
     "execution_count": 23,
     "metadata": {},
     "output_type": "execute_result"
    }
   ],
   "source": [
    "# full list are shown \n",
    "slicedlist = grocery_list[:]\n",
    "slicedlist"
   ]
  },
  {
   "cell_type": "code",
   "execution_count": 24,
   "id": "d4e28eac",
   "metadata": {},
   "outputs": [
    {
     "data": {
      "text/plain": [
       "['apple', 'cooking oil']"
      ]
     },
     "execution_count": 24,
     "metadata": {},
     "output_type": "execute_result"
    }
   ],
   "source": [
    "#                   -6         -5          -4       -3       -2        -1 \n",
    "#grocery_list = ['apple', 'cooking oil', 'mango', 'rice', 'bread', 'yogurt']\n",
    "#slicing in negative index like\n",
    "slicedlist = grocery_list[:-4]\n",
    "slicedlist"
   ]
  },
  {
   "cell_type": "code",
   "execution_count": 34,
   "id": "0da474d8",
   "metadata": {},
   "outputs": [],
   "source": [
    "purchased = []"
   ]
  },
  {
   "cell_type": "code",
   "execution_count": 32,
   "id": "86a6ca36",
   "metadata": {},
   "outputs": [
    {
     "data": {
      "text/plain": [
       "['apple', 'cooking oil', 'rice', 'bread', 'yogurt']"
      ]
     },
     "execution_count": 32,
     "metadata": {},
     "output_type": "execute_result"
    }
   ],
   "source": [
    "grocery_list"
   ]
  },
  {
   "cell_type": "code",
   "execution_count": 35,
   "id": "bf63a8f9",
   "metadata": {},
   "outputs": [],
   "source": [
    "purchased.insert(0, grocery_list.pop(3))"
   ]
  },
  {
   "cell_type": "code",
   "execution_count": 36,
   "id": "d7cd47c8",
   "metadata": {},
   "outputs": [
    {
     "data": {
      "text/plain": [
       "['bread']"
      ]
     },
     "execution_count": 36,
     "metadata": {},
     "output_type": "execute_result"
    }
   ],
   "source": [
    "purchased"
   ]
  },
  {
   "cell_type": "code",
   "execution_count": 38,
   "id": "a35e4c9e",
   "metadata": {},
   "outputs": [
    {
     "data": {
      "text/plain": [
       "1"
      ]
     },
     "execution_count": 38,
     "metadata": {},
     "output_type": "execute_result"
    }
   ],
   "source": [
    "grocery_list.index('cooking oil')"
   ]
  },
  {
   "cell_type": "code",
   "execution_count": 40,
   "id": "927e0d56",
   "metadata": {},
   "outputs": [],
   "source": [
    "purchased.insert(1, grocery_list.pop(0))"
   ]
  },
  {
   "cell_type": "code",
   "execution_count": 41,
   "id": "83d7f470",
   "metadata": {},
   "outputs": [
    {
     "data": {
      "text/plain": [
       "['bread', 'apple']"
      ]
     },
     "execution_count": 41,
     "metadata": {},
     "output_type": "execute_result"
    }
   ],
   "source": [
    "purchased"
   ]
  },
  {
   "cell_type": "code",
   "execution_count": 3,
   "id": "a5863d70",
   "metadata": {},
   "outputs": [
    {
     "ename": "NameError",
     "evalue": "name 'list3insert' is not defined",
     "output_type": "error",
     "traceback": [
      "\u001b[1;31m---------------------------------------------------------------------------\u001b[0m",
      "\u001b[1;31mNameError\u001b[0m                                 Traceback (most recent call last)",
      "Cell \u001b[1;32mIn[3], line 7\u001b[0m\n\u001b[0;32m      5\u001b[0m list5 \u001b[38;5;241m=\u001b[39m []\n\u001b[0;32m      6\u001b[0m finale \u001b[38;5;241m=\u001b[39m []\n\u001b[1;32m----> 7\u001b[0m list3insert(\u001b[38;5;241m0\u001b[39m, list1\u001b[38;5;241m.\u001b[39mpop(\u001b[38;5;241m0\u001b[39m))\n\u001b[0;32m      8\u001b[0m list3insert(\u001b[38;5;241m1\u001b[39m, list2\u001b[38;5;241m.\u001b[39mpop(\u001b[38;5;241m0\u001b[39m))\n\u001b[0;32m      9\u001b[0m list4insert(\u001b[38;5;241m0\u001b[39m, list1\u001b[38;5;241m.\u001b[39mpop(\u001b[38;5;241m1\u001b[39m))\n",
      "\u001b[1;31mNameError\u001b[0m: name 'list3insert' is not defined"
     ]
    }
   ],
   "source": [
    "list1 = ['BMW', 'Ferrari', 'Supra']\n",
    "list2 = [2010, 2015, 2018]\n",
    "list3 = []\n",
    "list4 = []\n",
    "list5 = []\n",
    "finale = []\n"
   ]
  },
  {
   "cell_type": "markdown",
   "id": "6eab41a3",
   "metadata": {},
   "source": [
    "#### Assignment: Grocery List Analyzer\n",
    "\n",
    "Create a Python script that analyzes a grocery list and provides some insights.\n",
    "\n",
    "Requirements:\n",
    "\n",
    "Grocery List:\n",
    "\n",
    "Create a list named grocery_list containing at least 5 items commonly found in a grocery store (e.g., apples, bread, milk, eggs, etc.).\n",
    "\n",
    "Item Counter:\n",
    "\n",
    "Use a for loop to iterate through the grocery_list and count the number of items.\n",
    "\n",
    "Item Length Check:\n",
    "\n",
    "For each item in the list, use an if statement to check if the length of the item's name is greater than 5 characters. Print a message for each item that meets this condition.\n",
    "\n",
    "Item Modification:\n",
    "\n",
    "Modify one item in the list by adding the word \"organic\" to its name. Print the updated grocery list.\n",
    "\n",
    "Shopping Priority:\n",
    "\n",
    "Create a new list named priority_items containing two items that you consider essential. Check if any of these priority items are in the grocery_list, and print a message indicating their importance."
   ]
  },
  {
   "cell_type": "markdown",
   "id": "a4f1cd8a",
   "metadata": {},
   "source": [
    "#### Grocery List Analyzer"
   ]
  },
  {
   "cell_type": "code",
   "execution_count": 2,
   "id": "ec655e18",
   "metadata": {},
   "outputs": [],
   "source": [
    "# grocery list\n",
    "grocery_list = ['apple','mango', 'rice', 'sugar', 'cooking oil']"
   ]
  },
  {
   "cell_type": "code",
   "execution_count": 6,
   "id": "c5f5ffe7",
   "metadata": {},
   "outputs": [
    {
     "name": "stdout",
     "output_type": "stream",
     "text": [
      "5\n"
     ]
    }
   ],
   "source": [
    "# item counter\n",
    "for _ in grocery_list:\n",
    "    items = len(grocery_list)\n",
    "print(items)"
   ]
  },
  {
   "cell_type": "code",
   "execution_count": 15,
   "id": "72a1f9b9",
   "metadata": {},
   "outputs": [
    {
     "name": "stdout",
     "output_type": "stream",
     "text": [
      "apple length meets the condition\n",
      "mango length meets the condition\n",
      "rice not length meets the condition\n",
      "sugar length meets the condition\n",
      "cooking oil length meets the condition\n"
     ]
    }
   ],
   "source": [
    "# Item length check\n",
    "for item in grocery_list:\n",
    "    if len(item) >= 5:\n",
    "        print(f'{item} length meets the condition')\n",
    "    else:\n",
    "         print(f'{item} not length meets the condition')"
   ]
  },
  {
   "cell_type": "code",
   "execution_count": 24,
   "id": "1da6eabb",
   "metadata": {},
   "outputs": [
    {
     "name": "stdout",
     "output_type": "stream",
     "text": [
      "grocery list after modification:\n",
      "['apple', 'mango', 'poonamrice', 'sugar', 'cooking oil']\n"
     ]
    }
   ],
   "source": [
    "# item modification\n",
    "items_modify = 2\n",
    "grocery_list[items_modify] = 'poonam' +  grocery_list[items_modify]\n",
    "print(f'grocery list after modification:\\n{grocery_list}')"
   ]
  },
  {
   "cell_type": "code",
   "execution_count": 25,
   "id": "97e657d3",
   "metadata": {},
   "outputs": [
    {
     "name": "stdout",
     "output_type": "stream",
     "text": [
      "\n",
      "Shopping Priority\n",
      "sugar is a very important item.\n"
     ]
    }
   ],
   "source": [
    "# Shopping Priority\n",
    "priority_items = ['sugar', 'eggs']\n",
    "print('\\nShopping Priority Item -')\n",
    "for item in priority_items:\n",
    "    if item in grocery_list:\n",
    "        print(f'{item} is a very important item.')"
   ]
  },
  {
   "cell_type": "markdown",
   "id": "d2e5efee",
   "metadata": {},
   "source": [
    "#### Scenario 1: Grocery Shopping List\n",
    "You are creating a program to manage a grocery shopping list. Users should be able to add items,\n",
    "remove items, and display the current list.\n"
   ]
  },
  {
   "cell_type": "code",
   "execution_count": 1,
   "id": "e6368e2f",
   "metadata": {},
   "outputs": [],
   "source": []
  },
  {
   "cell_type": "code",
   "execution_count": null,
   "id": "f159bc98",
   "metadata": {},
   "outputs": [],
   "source": []
  },
  {
   "cell_type": "code",
   "execution_count": null,
   "id": "4fafd90d",
   "metadata": {},
   "outputs": [],
   "source": []
  },
  {
   "cell_type": "code",
   "execution_count": null,
   "id": "29e87764",
   "metadata": {},
   "outputs": [],
   "source": []
  }
 ],
 "metadata": {
  "kernelspec": {
   "display_name": "Python 3 (ipykernel)",
   "language": "python",
   "name": "python3"
  },
  "language_info": {
   "codemirror_mode": {
    "name": "ipython",
    "version": 3
   },
   "file_extension": ".py",
   "mimetype": "text/x-python",
   "name": "python",
   "nbconvert_exporter": "python",
   "pygments_lexer": "ipython3",
   "version": "3.11.5"
  }
 },
 "nbformat": 4,
 "nbformat_minor": 5
}
