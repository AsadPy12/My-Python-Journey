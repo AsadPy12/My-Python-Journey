{
 "cells": [
  {
   "cell_type": "code",
   "execution_count": 1,
   "id": "16a61d36",
   "metadata": {},
   "outputs": [],
   "source": [
    "# for functions we use:\n",
    "def calc_percentage():\n",
    "    bio = int(input(\"Enter bio marks: \"))\n",
    "    maths = int(input(\"Enter maths marks: \"))\n",
    "    eng = int(input(\"Enter eng marks: \"))\n",
    "\n",
    "    total_marks = 300\n",
    "    obtain_marks = bio+maths+eng\n",
    "    percentage = (obtain_marks * 100)/ total_marks\n",
    "    print(f'Your Percentage is {percentage}')"
   ]
  },
  {
   "cell_type": "code",
   "execution_count": 2,
   "id": "1b814efe",
   "metadata": {},
   "outputs": [
    {
     "name": "stdout",
     "output_type": "stream",
     "text": [
      "Enter bio marks: 25\n",
      "Enter maths marks: 52\n",
      "Enter eng marks: 54\n",
      "Your Percentage is 43.666666666666664\n"
     ]
    }
   ],
   "source": [
    "calc_percentage()"
   ]
  },
  {
   "cell_type": "code",
   "execution_count": 3,
   "id": "be2677e2",
   "metadata": {},
   "outputs": [],
   "source": [
    "def cal_percentage_with_parameters(bio, maths, eng):\n",
    "    total_marks = 300\n",
    "    obtain_marks = bio+maths+eng\n",
    "    percentage = (obtain_marks * 100)/ total_marks\n",
    "    print(f'Your Percentage is {percentage}')\n",
    " "
   ]
  },
  {
   "cell_type": "code",
   "execution_count": 4,
   "id": "c608d8fe",
   "metadata": {},
   "outputs": [
    {
     "name": "stdout",
     "output_type": "stream",
     "text": [
      "Your Percentage is 65.0\n"
     ]
    }
   ],
   "source": [
    "cal_percentage_with_parameters(65, 52, 78)"
   ]
  },
  {
   "cell_type": "markdown",
   "id": "a2810563",
   "metadata": {},
   "source": [
    "#### Task: Area of square"
   ]
  },
  {
   "cell_type": "code",
   "execution_count": 13,
   "id": "5c052c0e",
   "metadata": {},
   "outputs": [],
   "source": [
    "# without params\n",
    "def calc_area():\n",
    "    len_square = int(input(\"Input the length of Square: \"))\n",
    "    area = len_square * len_square\n",
    "    print(area,'sq units')"
   ]
  },
  {
   "cell_type": "code",
   "execution_count": 14,
   "id": "ecdda94c",
   "metadata": {},
   "outputs": [
    {
     "name": "stdout",
     "output_type": "stream",
     "text": [
      "Input the length of Square: 5\n",
      "25 sq units\n"
     ]
    }
   ],
   "source": [
    "calc_area()"
   ]
  },
  {
   "cell_type": "markdown",
   "id": "00f1b3a8",
   "metadata": {},
   "source": [
    "#### Task: Volume"
   ]
  },
  {
   "cell_type": "code",
   "execution_count": 15,
   "id": "8141fe8c",
   "metadata": {},
   "outputs": [],
   "source": [
    "def calc_vol(length, breadth, height):\n",
    "    vol_cb = length * breadth * height\n",
    "    print(f'The vol of cube is: {vol_cb}')"
   ]
  },
  {
   "cell_type": "code",
   "execution_count": 16,
   "id": "2ac68e84",
   "metadata": {},
   "outputs": [
    {
     "name": "stdout",
     "output_type": "stream",
     "text": [
      "The vol of cube is: 6708\n"
     ]
    }
   ],
   "source": [
    "calc_vol(13, 12, 43)"
   ]
  },
  {
   "cell_type": "code",
   "execution_count": 17,
   "id": "59b80928",
   "metadata": {},
   "outputs": [],
   "source": [
    "def calc_vol(length, breadth, height):\n",
    "    vol_cb = length * breadth * height\n",
    "    return vol_cb"
   ]
  },
  {
   "cell_type": "code",
   "execution_count": 18,
   "id": "01bd418b",
   "metadata": {},
   "outputs": [
    {
     "data": {
      "text/plain": [
       "6708"
      ]
     },
     "execution_count": 18,
     "metadata": {},
     "output_type": "execute_result"
    }
   ],
   "source": [
    "calc_vol(13, 12, 43)"
   ]
  },
  {
   "cell_type": "code",
   "execution_count": 19,
   "id": "776fc098",
   "metadata": {},
   "outputs": [
    {
     "ename": "SyntaxError",
     "evalue": "non-default argument follows default argument (2285832264.py, line 1)",
     "output_type": "error",
     "traceback": [
      "\u001b[1;36m  Cell \u001b[1;32mIn[19], line 1\u001b[1;36m\u001b[0m\n\u001b[1;33m    def complete_name(first_name, middle_name = '', last_name):\u001b[0m\n\u001b[1;37m                                                    ^\u001b[0m\n\u001b[1;31mSyntaxError\u001b[0m\u001b[1;31m:\u001b[0m non-default argument follows default argument\n"
     ]
    }
   ],
   "source": [
    "def complete_name(first_name, middle_name = '', last_name):\n",
    "    return f'{first_name} {middle_name} {last_name}'"
   ]
  },
  {
   "cell_type": "code",
   "execution_count": 20,
   "id": "69f34e78",
   "metadata": {},
   "outputs": [],
   "source": [
    "def complete_name(first_name, last_name, middle_name = '' ):\n",
    "    return f'{first_name} {middle_name} {last_name}'"
   ]
  },
  {
   "cell_type": "code",
   "execution_count": 21,
   "id": "7206dc6d",
   "metadata": {},
   "outputs": [
    {
     "data": {
      "text/plain": [
       "'Qasim  Hassan'"
      ]
     },
     "execution_count": 21,
     "metadata": {},
     "output_type": "execute_result"
    }
   ],
   "source": [
    "complete_name('Qasim', 'Hassan',)"
   ]
  },
  {
   "cell_type": "code",
   "execution_count": 23,
   "id": "a2a976ae",
   "metadata": {},
   "outputs": [
    {
     "data": {
      "text/plain": [
       "'Qasim inam ul Hassan'"
      ]
     },
     "execution_count": 23,
     "metadata": {},
     "output_type": "execute_result"
    }
   ],
   "source": [
    "complete_name('Qasim', 'Hassan', 'inam ul')"
   ]
  },
  {
   "cell_type": "raw",
   "id": "bfdd07ac",
   "metadata": {},
   "source": [
    "Task:\n",
    "    1- create a function without paramter that proivide full name\n",
    "    2- introduce parameters in that fucntion\n",
    "    3- set \"middle name\" of a person as default paramter\n",
    "    4- intoruce the `return` keyword in the function definition\n",
    "    5- validate the concept of positional arguments\n",
    "    6- functions within functions\n",
    "    7- kwargs using **\n",
    "    8- args with *"
   ]
  },
  {
   "cell_type": "code",
   "execution_count": 27,
   "id": "8dd4991f",
   "metadata": {},
   "outputs": [],
   "source": [
    "def full_name():\n",
    "    first_name = input(\"Enter first name: \")\n",
    "    middle_name = input(\"Enter middle name: \")\n",
    "    last_name = input(\"Enter last name: \")\n",
    "    return f'{first_name} {middle_name} {last_name}'"
   ]
  },
  {
   "cell_type": "code",
   "execution_count": 28,
   "id": "8f83fb93",
   "metadata": {},
   "outputs": [
    {
     "name": "stdout",
     "output_type": "stream",
     "text": [
      "Enter first name: Asad\n",
      "Enter middle name: ullah\n",
      "Enter last name: shaikh\n"
     ]
    },
    {
     "data": {
      "text/plain": [
       "'Asad ullah shaikh'"
      ]
     },
     "execution_count": 28,
     "metadata": {},
     "output_type": "execute_result"
    }
   ],
   "source": [
    "full_name()"
   ]
  },
  {
   "cell_type": "code",
   "execution_count": 36,
   "id": "71cc8281",
   "metadata": {},
   "outputs": [],
   "source": [
    "def full_name(first, last, middle = ''):\n",
    "    return f'{first} {middle} {last}'"
   ]
  },
  {
   "cell_type": "code",
   "execution_count": 38,
   "id": "680f9984",
   "metadata": {},
   "outputs": [
    {
     "data": {
      "text/plain": [
       "'Shaikh Ullah Asad'"
      ]
     },
     "execution_count": 38,
     "metadata": {},
     "output_type": "execute_result"
    }
   ],
   "source": [
    "full_name('Shaikh', 'Asad', 'Ullah')"
   ]
  },
  {
   "cell_type": "code",
   "execution_count": 41,
   "id": "7947d3f3",
   "metadata": {},
   "outputs": [],
   "source": [
    "# In function within function\n",
    "def calculation(num1, num2):\n",
    "    \n",
    "    def add(num1, num2):\n",
    "        return num1 + num2\n",
    "    def sub(num1, num2):\n",
    "        return num1 - num2\n",
    "    \n",
    "    print(add(num1, num2))\n",
    "    print(sub(num1, num2))"
   ]
  },
  {
   "cell_type": "code",
   "execution_count": 42,
   "id": "d725432c",
   "metadata": {},
   "outputs": [
    {
     "name": "stdout",
     "output_type": "stream",
     "text": [
      "12\n",
      "-6\n"
     ]
    }
   ],
   "source": [
    "calculation(3, 9)"
   ]
  },
  {
   "cell_type": "code",
   "execution_count": 43,
   "id": "ed041ef0",
   "metadata": {},
   "outputs": [],
   "source": [
    "# we call function within function\n",
    "def add(num1, num2):\n",
    "    return num1 + num2\n",
    "def sub(num1, num2):\n",
    "    return num1 - num2\n"
   ]
  },
  {
   "cell_type": "code",
   "execution_count": 44,
   "id": "d1d0a6ca",
   "metadata": {},
   "outputs": [
    {
     "data": {
      "text/plain": [
       "6"
      ]
     },
     "execution_count": 44,
     "metadata": {},
     "output_type": "execute_result"
    }
   ],
   "source": [
    "add(2, 4)"
   ]
  },
  {
   "cell_type": "code",
   "execution_count": 48,
   "id": "82447d62",
   "metadata": {},
   "outputs": [
    {
     "data": {
      "text/plain": [
       "7"
      ]
     },
     "execution_count": 48,
     "metadata": {},
     "output_type": "execute_result"
    }
   ],
   "source": [
    "sub(3, -4) #==> 3 - (-4) = 3 + 4 = 7"
   ]
  },
  {
   "cell_type": "code",
   "execution_count": null,
   "id": "97745a5c",
   "metadata": {},
   "outputs": [],
   "source": []
  }
 ],
 "metadata": {
  "kernelspec": {
   "display_name": "Python 3 (ipykernel)",
   "language": "python",
   "name": "python3"
  },
  "language_info": {
   "codemirror_mode": {
    "name": "ipython",
    "version": 3
   },
   "file_extension": ".py",
   "mimetype": "text/x-python",
   "name": "python",
   "nbconvert_exporter": "python",
   "pygments_lexer": "ipython3",
   "version": "3.11.5"
  }
 },
 "nbformat": 4,
 "nbformat_minor": 5
}
