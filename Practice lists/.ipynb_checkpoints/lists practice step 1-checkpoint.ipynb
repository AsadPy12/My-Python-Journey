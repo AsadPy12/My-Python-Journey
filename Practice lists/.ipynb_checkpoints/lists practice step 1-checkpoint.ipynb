{
 "cells": [
  {
   "cell_type": "markdown",
   "id": "60654415",
   "metadata": {},
   "source": [
    "#### List And Its Methods:"
   ]
  },
  {
   "cell_type": "code",
   "execution_count": 14,
   "id": "61f5c79e",
   "metadata": {},
   "outputs": [],
   "source": [
    "# make a list \n",
    "grocery_list = ['apple','mango', 'rice', 'sugar', 'cooking oil' ']"
   ]
  },
  {
   "cell_type": "code",
   "execution_count": 30,
   "id": "22463ca2",
   "metadata": {},
   "outputs": [
    {
     "data": {
      "text/plain": [
       "['apple', 'mango', 'rice', 'sugar', 'cooking oil', 'bread']"
      ]
     },
     "execution_count": 30,
     "metadata": {},
     "output_type": "execute_result"
    }
   ],
   "source": [
    "# add any object in last of list we use append method.\n",
    "grocery_list.append(\"bread\")\n",
    "# show the list again\n",
    "grocery_list"
   ]
  },
  {
   "cell_type": "raw",
   "id": "880abfc1",
   "metadata": {},
   "source": [
    "# to remove all list we use clear method.\n",
    "grocery_list.clear()"
   ]
  },
  {
   "cell_type": "code",
   "execution_count": 32,
   "id": "d8f7e640",
   "metadata": {},
   "outputs": [
    {
     "data": {
      "text/plain": [
       "['apple', 'mango', 'rice', 'sugar', 'cooking oil', 'bread']"
      ]
     },
     "execution_count": 32,
     "metadata": {},
     "output_type": "execute_result"
    }
   ],
   "source": [
    "# to make copy of any list we use copy method.\n",
    "grocery_list.copy()"
   ]
  },
  {
   "cell_type": "code",
   "execution_count": 37,
   "id": "5cd12509",
   "metadata": {},
   "outputs": [
    {
     "data": {
      "text/plain": [
       "1"
      ]
     },
     "execution_count": 37,
     "metadata": {},
     "output_type": "execute_result"
    }
   ],
   "source": [
    "# counting words in list.\n",
    "grocery_list.count('apple')"
   ]
  },
  {
   "cell_type": "code",
   "execution_count": 40,
   "id": "421961f3",
   "metadata": {},
   "outputs": [
    {
     "data": {
      "text/plain": [
       "['apple',\n",
       " 'mango',\n",
       " 'rice',\n",
       " 'sugar',\n",
       " 'cooking oil',\n",
       " 'bread',\n",
       " 'a',\n",
       " 'p',\n",
       " 'p',\n",
       " 'l',\n",
       " 'e',\n",
       " 'a',\n",
       " 'p',\n",
       " 'p',\n",
       " 'l',\n",
       " 'e']"
      ]
     },
     "execution_count": 40,
     "metadata": {},
     "output_type": "execute_result"
    }
   ],
   "source": [
    "# for extending alphabets in one by one place.\n",
    "grocery_list.extend('apple')\n",
    "grocery_list"
   ]
  },
  {
   "cell_type": "code",
   "execution_count": 9,
   "id": "8ee0bcad",
   "metadata": {},
   "outputs": [],
   "source": [
    "grocery_list = ['apple','mango', 'rice', 'sugar', 'cooking oil']"
   ]
  },
  {
   "cell_type": "code",
   "execution_count": 11,
   "id": "422a2e17",
   "metadata": {},
   "outputs": [
    {
     "data": {
      "text/plain": [
       "1"
      ]
     },
     "execution_count": 11,
     "metadata": {},
     "output_type": "execute_result"
    }
   ],
   "source": [
    "# index method is used to know what is the index of object in list we want to see.\n",
    "grocery_list.index('mango',)"
   ]
  },
  {
   "cell_type": "code",
   "execution_count": 12,
   "id": "8eea78c1",
   "metadata": {},
   "outputs": [],
   "source": [
    "# for insert any forgotten object in particular index we use this method.\n",
    "grocery_list.insert(3, 'milk')"
   ]
  },
  {
   "cell_type": "code",
   "execution_count": 13,
   "id": "376032fe",
   "metadata": {},
   "outputs": [
    {
     "data": {
      "text/plain": [
       "['apple', 'mango', 'rice', 'milk', 'sugar', 'cooking oil']"
      ]
     },
     "execution_count": 13,
     "metadata": {},
     "output_type": "execute_result"
    }
   ],
   "source": [
    "grocery_list"
   ]
  },
  {
   "cell_type": "code",
   "execution_count": 15,
   "id": "c7bdb21e",
   "metadata": {},
   "outputs": [
    {
     "data": {
      "text/plain": [
       "['apple', 'mango', 'rice', 'cooking oil']"
      ]
     },
     "execution_count": 15,
     "metadata": {},
     "output_type": "execute_result"
    }
   ],
   "source": [
    "# to take out any object from list we use pop method. \n",
    "grocery_list.pop(3)\n",
    "grocery_list"
   ]
  },
  {
   "cell_type": "code",
   "execution_count": 26,
   "id": "6215b8ee",
   "metadata": {},
   "outputs": [],
   "source": [
    "shoppinglist = []"
   ]
  },
  {
   "cell_type": "code",
   "execution_count": 31,
   "id": "c977507f",
   "metadata": {},
   "outputs": [
    {
     "ename": "TypeError",
     "evalue": "list indices must be integers or slices, not list",
     "output_type": "error",
     "traceback": [
      "\u001b[1;31m---------------------------------------------------------------------------\u001b[0m",
      "\u001b[1;31mTypeError\u001b[0m                                 Traceback (most recent call last)",
      "Cell \u001b[1;32mIn[31], line 3\u001b[0m\n\u001b[0;32m      1\u001b[0m shoppinglist \u001b[38;5;241m=\u001b[39m shoppinglist \u001b[38;5;241m+\u001b[39m grocery_list\n\u001b[0;32m      2\u001b[0m shoppinglist\n\u001b[1;32m----> 3\u001b[0m \u001b[38;5;28;01mdel\u001b[39;00m shoppinglist[shoppinglist]\n",
      "\u001b[1;31mTypeError\u001b[0m: list indices must be integers or slices, not list"
     ]
    }
   ],
   "source": [
    "# we cannot deleting list by using del method.\n",
    "shoppinglist = shoppinglist + grocery_list\n",
    "shoppinglist\n",
    "del shoppinglist[shoppinglist]"
   ]
  },
  {
   "cell_type": "code",
   "execution_count": 16,
   "id": "c492b2b0",
   "metadata": {},
   "outputs": [
    {
     "data": {
      "text/plain": [
       "['apple', 'mango', 'cooking oil']"
      ]
     },
     "execution_count": 16,
     "metadata": {},
     "output_type": "execute_result"
    }
   ],
   "source": [
    "# to remove any object we use remove method.\n",
    "grocery_list.remove('rice')\n",
    "grocery_list"
   ]
  },
  {
   "cell_type": "code",
   "execution_count": 25,
   "id": "2cc7850d",
   "metadata": {},
   "outputs": [
    {
     "data": {
      "text/plain": [
       "['apple', 'cooking oil', 'rice', 'bread', 'yogurt']"
      ]
     },
     "execution_count": 25,
     "metadata": {},
     "output_type": "execute_result"
    }
   ],
   "source": [
    "# another way to deleting values from list.\n",
    "del grocery_list[2]\n",
    "grocery_list"
   ]
  },
  {
   "cell_type": "code",
   "execution_count": 17,
   "id": "b5152ec7",
   "metadata": {},
   "outputs": [
    {
     "data": {
      "text/plain": [
       "['cooking oil', 'mango', 'apple']"
      ]
     },
     "execution_count": 17,
     "metadata": {},
     "output_type": "execute_result"
    }
   ],
   "source": [
    "# reverse the list.\n",
    "grocery_list.reverse()\n",
    "grocery_list"
   ]
  },
  {
   "cell_type": "code",
   "execution_count": 18,
   "id": "398b9524",
   "metadata": {},
   "outputs": [
    {
     "data": {
      "text/plain": [
       "['apple', 'cooking oil', 'mango']"
      ]
     },
     "execution_count": 18,
     "metadata": {},
     "output_type": "execute_result"
    }
   ],
   "source": [
    "# sort the list in alphabatical manners.\n",
    "grocery_list.sort()\n",
    "grocery_list"
   ]
  },
  {
   "cell_type": "code",
   "execution_count": 19,
   "id": "4db8a356",
   "metadata": {},
   "outputs": [
    {
     "data": {
      "text/plain": [
       "['apple', 'cooking oil', 'mango', 'rice', 'bread', 'yogurt']"
      ]
     },
     "execution_count": 19,
     "metadata": {},
     "output_type": "execute_result"
    }
   ],
   "source": [
    "# another way or method to add objects in list without using append method.\n",
    "grocery_list = grocery_list + ['rice', 'bread', 'yogurt']\n",
    "grocery_list"
   ]
  },
  {
   "cell_type": "code",
   "execution_count": null,
   "id": "56b26cfd",
   "metadata": {},
   "outputs": [],
   "source": [
    "# Here are the all functions and method of list completed."
   ]
  },
  {
   "cell_type": "markdown",
   "id": "d64364dc",
   "metadata": {},
   "source": [
    "#### Slicing in List:"
   ]
  },
  {
   "cell_type": "code",
   "execution_count": 20,
   "id": "bbcd4f6a",
   "metadata": {},
   "outputs": [
    {
     "data": {
      "text/plain": [
       "['apple', 'cooking oil', 'mango', 'rice', 'bread', 'yogurt']"
      ]
     },
     "execution_count": 20,
     "metadata": {},
     "output_type": "execute_result"
    }
   ],
   "source": [
    "grocery_list"
   ]
  },
  {
   "cell_type": "code",
   "execution_count": 21,
   "id": "d4509e01",
   "metadata": {},
   "outputs": [
    {
     "data": {
      "text/plain": [
       "['cooking oil', 'mango']"
      ]
     },
     "execution_count": 21,
     "metadata": {},
     "output_type": "execute_result"
    }
   ],
   "source": [
    "# 1 2 3 4 -> 1(include), 3(exclude)\n",
    "# index starts from 0 \n",
    "slicedlist = grocery_list[1:3]\n",
    "slicedlist"
   ]
  },
  {
   "cell_type": "code",
   "execution_count": 22,
   "id": "e9a6b034",
   "metadata": {},
   "outputs": [
    {
     "data": {
      "text/plain": [
       "['apple', 'cooking oil', 'mango', 'rice']"
      ]
     },
     "execution_count": 22,
     "metadata": {},
     "output_type": "execute_result"
    }
   ],
   "source": [
    "# slicing from 0 to 3 (4 exclude)\n",
    "slicedlist = grocery_list[:4]\n",
    "slicedlist"
   ]
  },
  {
   "cell_type": "code",
   "execution_count": 23,
   "id": "ead89ff8",
   "metadata": {},
   "outputs": [
    {
     "data": {
      "text/plain": [
       "['apple', 'cooking oil', 'mango', 'rice', 'bread', 'yogurt']"
      ]
     },
     "execution_count": 23,
     "metadata": {},
     "output_type": "execute_result"
    }
   ],
   "source": [
    "# full list are shown \n",
    "slicedlist = grocery_list[:]\n",
    "slicedlist"
   ]
  },
  {
   "cell_type": "code",
   "execution_count": 24,
   "id": "d4e28eac",
   "metadata": {},
   "outputs": [
    {
     "data": {
      "text/plain": [
       "['apple', 'cooking oil']"
      ]
     },
     "execution_count": 24,
     "metadata": {},
     "output_type": "execute_result"
    }
   ],
   "source": [
    "#                   -6         -5          -4       -3       -2        -1 \n",
    "#grocery_list = ['apple', 'cooking oil', 'mango', 'rice', 'bread', 'yogurt']\n",
    "#slicing in negative index like\n",
    "slicedlist = grocery_list[:-4]\n",
    "slicedlist"
   ]
  },
  {
   "cell_type": "code",
   "execution_count": 34,
   "id": "0da474d8",
   "metadata": {},
   "outputs": [],
   "source": [
    "purchased = []"
   ]
  },
  {
   "cell_type": "code",
   "execution_count": 32,
   "id": "86a6ca36",
   "metadata": {},
   "outputs": [
    {
     "data": {
      "text/plain": [
       "['apple', 'cooking oil', 'rice', 'bread', 'yogurt']"
      ]
     },
     "execution_count": 32,
     "metadata": {},
     "output_type": "execute_result"
    }
   ],
   "source": [
    "grocery_list"
   ]
  },
  {
   "cell_type": "code",
   "execution_count": 35,
   "id": "bf63a8f9",
   "metadata": {},
   "outputs": [],
   "source": [
    "purchased.insert(0, grocery_list.pop(3))"
   ]
  },
  {
   "cell_type": "code",
   "execution_count": 36,
   "id": "d7cd47c8",
   "metadata": {},
   "outputs": [
    {
     "data": {
      "text/plain": [
       "['bread']"
      ]
     },
     "execution_count": 36,
     "metadata": {},
     "output_type": "execute_result"
    }
   ],
   "source": [
    "purchased"
   ]
  },
  {
   "cell_type": "code",
   "execution_count": 38,
   "id": "a35e4c9e",
   "metadata": {},
   "outputs": [
    {
     "data": {
      "text/plain": [
       "1"
      ]
     },
     "execution_count": 38,
     "metadata": {},
     "output_type": "execute_result"
    }
   ],
   "source": [
    "grocery_list.index('cooking oil')"
   ]
  },
  {
   "cell_type": "code",
   "execution_count": 40,
   "id": "927e0d56",
   "metadata": {},
   "outputs": [],
   "source": [
    "purchased.insert(1, grocery_list.pop(0))"
   ]
  },
  {
   "cell_type": "code",
   "execution_count": 41,
   "id": "83d7f470",
   "metadata": {},
   "outputs": [
    {
     "data": {
      "text/plain": [
       "['bread', 'apple']"
      ]
     },
     "execution_count": 41,
     "metadata": {},
     "output_type": "execute_result"
    }
   ],
   "source": [
    "purchased"
   ]
  },
  {
   "cell_type": "code",
   "execution_count": 3,
   "id": "a5863d70",
   "metadata": {},
   "outputs": [
    {
     "ename": "NameError",
     "evalue": "name 'list3insert' is not defined",
     "output_type": "error",
     "traceback": [
      "\u001b[1;31m---------------------------------------------------------------------------\u001b[0m",
      "\u001b[1;31mNameError\u001b[0m                                 Traceback (most recent call last)",
      "Cell \u001b[1;32mIn[3], line 7\u001b[0m\n\u001b[0;32m      5\u001b[0m list5 \u001b[38;5;241m=\u001b[39m []\n\u001b[0;32m      6\u001b[0m finale \u001b[38;5;241m=\u001b[39m []\n\u001b[1;32m----> 7\u001b[0m list3insert(\u001b[38;5;241m0\u001b[39m, list1\u001b[38;5;241m.\u001b[39mpop(\u001b[38;5;241m0\u001b[39m))\n\u001b[0;32m      8\u001b[0m list3insert(\u001b[38;5;241m1\u001b[39m, list2\u001b[38;5;241m.\u001b[39mpop(\u001b[38;5;241m0\u001b[39m))\n\u001b[0;32m      9\u001b[0m list4insert(\u001b[38;5;241m0\u001b[39m, list1\u001b[38;5;241m.\u001b[39mpop(\u001b[38;5;241m1\u001b[39m))\n",
      "\u001b[1;31mNameError\u001b[0m: name 'list3insert' is not defined"
     ]
    }
   ],
   "source": [
    "list1 = ['BMW', 'Ferrari', 'Supra']\n",
    "list2 = [2010, 2015, 2018]\n",
    "list3 = []\n",
    "list4 = []\n",
    "list5 = []\n",
    "finale = []\n"
   ]
  },
  {
   "cell_type": "markdown",
   "id": "6eab41a3",
   "metadata": {},
   "source": [
    "#### Assignment: Grocery List Analyzer\n",
    "\n",
    "Create a Python script that analyzes a grocery list and provides some insights.\n",
    "\n",
    "Requirements:\n",
    "\n",
    "Grocery List:\n",
    "\n",
    "Create a list named grocery_list containing at least 5 items commonly found in a grocery store (e.g., apples, bread, milk, eggs, etc.).\n",
    "\n",
    "Item Counter:\n",
    "\n",
    "Use a for loop to iterate through the grocery_list and count the number of items.\n",
    "\n",
    "Item Length Check:\n",
    "\n",
    "For each item in the list, use an if statement to check if the length of the item's name is greater than 5 characters. Print a message for each item that meets this condition.\n",
    "\n",
    "Item Modification:\n",
    "\n",
    "Modify one item in the list by adding the word \"organic\" to its name. Print the updated grocery list.\n",
    "\n",
    "Shopping Priority:\n",
    "\n",
    "Create a new list named priority_items containing two items that you consider essential. Check if any of these priority items are in the grocery_list, and print a message indicating their importance."
   ]
  },
  {
   "cell_type": "markdown",
   "id": "a4f1cd8a",
   "metadata": {},
   "source": [
    "#### Grocery List Analyzer"
   ]
  },
  {
   "cell_type": "code",
   "execution_count": 2,
   "id": "ec655e18",
   "metadata": {},
   "outputs": [],
   "source": [
    "# grocery list\n",
    "grocery_list = ['apple','mango', 'rice', 'sugar', 'cooking oil']"
   ]
  },
  {
   "cell_type": "code",
   "execution_count": 6,
   "id": "c5f5ffe7",
   "metadata": {},
   "outputs": [
    {
     "name": "stdout",
     "output_type": "stream",
     "text": [
      "5\n"
     ]
    }
   ],
   "source": [
    "# item counter\n",
    "for _ in grocery_list:\n",
    "    items = len(grocery_list)\n",
    "print(items)"
   ]
  },
  {
   "cell_type": "code",
   "execution_count": 15,
   "id": "72a1f9b9",
   "metadata": {},
   "outputs": [
    {
     "name": "stdout",
     "output_type": "stream",
     "text": [
      "apple length meets the condition\n",
      "mango length meets the condition\n",
      "rice not length meets the condition\n",
      "sugar length meets the condition\n",
      "cooking oil length meets the condition\n"
     ]
    }
   ],
   "source": [
    "# Item length check\n",
    "for item in grocery_list:\n",
    "    if len(item) >= 5:\n",
    "        print(f'{item} length meets the condition')\n",
    "    else:\n",
    "         print(f'{item} not length meets the condition')"
   ]
  },
  {
   "cell_type": "code",
   "execution_count": 24,
   "id": "1da6eabb",
   "metadata": {},
   "outputs": [
    {
     "name": "stdout",
     "output_type": "stream",
     "text": [
      "grocery list after modification:\n",
      "['apple', 'mango', 'poonamrice', 'sugar', 'cooking oil']\n"
     ]
    }
   ],
   "source": [
    "# item modification\n",
    "items_modify = 2\n",
    "grocery_list[items_modify] = 'poonam' +  grocery_list[items_modify]\n",
    "print(f'grocery list after modification:\\n{grocery_list}')"
   ]
  },
  {
   "cell_type": "code",
   "execution_count": 25,
   "id": "97e657d3",
   "metadata": {},
   "outputs": [
    {
     "name": "stdout",
     "output_type": "stream",
     "text": [
      "\n",
      "Shopping Priority\n",
      "sugar is a very important item.\n"
     ]
    }
   ],
   "source": [
    "# Shopping Priority\n",
    "priority_items = ['sugar', 'eggs']\n",
    "print('\\nShopping Priority Item -')\n",
    "for item in priority_items:\n",
    "    if item in grocery_list:\n",
    "        print(f'{item} is a very important item.')"
   ]
  },
  {
   "cell_type": "markdown",
   "id": "c799b9e9",
   "metadata": {},
   "source": [
    "### Scenario 3: Password Strength Checker\n",
    "You are creating a program to check the strength of passwords based on certain criteria.\n",
    "• Password should be at least 8 characters long.\n",
    "• Password should contain at least one digit.\n",
    "• Password should contain at least one letter."
   ]
  },
  {
   "cell_type": "code",
   "execution_count": 5,
   "id": "fc2984d9",
   "metadata": {},
   "outputs": [
    {
     "name": "stdout",
     "output_type": "stream",
     "text": [
      "conditions are: \n",
      "1- Password should be at least 8 characters long.\n",
      "2- Password should contain at least one digit.\n",
      "3- Password should contain at least one letter.\n",
      "Enter Password: asad\n",
      "a is strong.\n",
      "s is strong.\n",
      "a is strong.\n",
      "d is strong.\n"
     ]
    }
   ],
   "source": [
    "print(\"conditions are: \")\n",
    "print(\"1- Password should be at least 8 characters long.\")\n",
    "print(\"2- Password should contain at least one digit.\")\n",
    "print(\"3- Password should contain at least one letter.\")\n",
    "password = input(\"Enter Password: \")\n",
    "\n",
    "for pas in password:\n",
    "    if str(password) > str(8):\n",
    "        print(f'{pas} is strong.')\n",
    "    else:\n",
    "        print('Password is not meet the conditions.')\n"
   ]
  },
  {
   "cell_type": "code",
   "execution_count": null,
   "id": "637a06fc",
   "metadata": {},
   "outputs": [],
   "source": []
  },
  {
   "cell_type": "code",
   "execution_count": null,
   "id": "ae339935",
   "metadata": {},
   "outputs": [],
   "source": []
  },
  {
   "cell_type": "code",
   "execution_count": null,
   "id": "29dd225d",
   "metadata": {},
   "outputs": [],
   "source": []
  },
  {
   "cell_type": "code",
   "execution_count": 4,
   "id": "e6368e2f",
   "metadata": {},
   "outputs": [
    {
     "name": "stdout",
     "output_type": "stream",
     "text": [
      "0\n",
      "1\n",
      "2\n",
      "3\n",
      "4\n",
      "5\n",
      "6\n",
      "7\n",
      "8\n",
      "9\n",
      "10\n",
      "11\n",
      "12\n",
      "13\n",
      "14\n",
      "15\n",
      "16\n",
      "17\n",
      "18\n",
      "19\n",
      "20\n",
      "21\n",
      "22\n",
      "23\n",
      "24\n",
      "25\n",
      "26\n",
      "27\n",
      "28\n",
      "29\n",
      "30\n",
      "31\n",
      "32\n",
      "33\n",
      "34\n",
      "35\n",
      "36\n",
      "37\n",
      "38\n",
      "39\n",
      "40\n",
      "41\n",
      "42\n",
      "43\n",
      "44\n",
      "45\n",
      "46\n",
      "47\n",
      "48\n",
      "49\n",
      "50\n",
      "51\n",
      "52\n",
      "53\n",
      "54\n",
      "55\n",
      "56\n",
      "57\n",
      "58\n",
      "59\n",
      "60\n",
      "61\n",
      "62\n",
      "63\n",
      "64\n",
      "65\n",
      "66\n",
      "67\n",
      "68\n",
      "69\n",
      "70\n",
      "71\n",
      "72\n",
      "73\n",
      "74\n",
      "75\n",
      "76\n",
      "77\n",
      "78\n",
      "79\n",
      "80\n",
      "81\n",
      "82\n",
      "83\n",
      "84\n",
      "85\n",
      "86\n",
      "87\n",
      "88\n",
      "89\n",
      "90\n",
      "91\n",
      "92\n",
      "93\n",
      "94\n",
      "95\n",
      "96\n",
      "97\n",
      "98\n",
      "99\n",
      "100\n",
      "101\n",
      "102\n",
      "103\n",
      "104\n",
      "105\n",
      "106\n",
      "107\n",
      "108\n",
      "109\n",
      "110\n",
      "111\n",
      "112\n",
      "113\n",
      "114\n",
      "115\n",
      "116\n",
      "117\n",
      "118\n",
      "119\n",
      "120\n",
      "121\n",
      "122\n",
      "123\n",
      "124\n",
      "125\n",
      "126\n",
      "127\n",
      "128\n",
      "129\n",
      "130\n",
      "131\n",
      "132\n",
      "133\n",
      "134\n",
      "135\n",
      "136\n",
      "137\n",
      "138\n",
      "139\n",
      "140\n",
      "141\n",
      "142\n",
      "143\n",
      "144\n",
      "145\n",
      "146\n",
      "147\n",
      "148\n",
      "149\n",
      "150\n",
      "151\n",
      "152\n",
      "153\n",
      "154\n",
      "155\n",
      "156\n",
      "157\n",
      "158\n",
      "159\n",
      "160\n",
      "161\n",
      "162\n",
      "163\n",
      "164\n",
      "165\n",
      "166\n",
      "167\n",
      "168\n",
      "169\n",
      "170\n",
      "171\n",
      "172\n",
      "173\n",
      "174\n",
      "175\n",
      "176\n",
      "177\n",
      "178\n",
      "179\n",
      "180\n",
      "181\n",
      "182\n",
      "183\n",
      "184\n",
      "185\n",
      "186\n",
      "187\n",
      "188\n",
      "189\n",
      "190\n",
      "191\n",
      "192\n",
      "193\n",
      "194\n",
      "195\n",
      "196\n",
      "197\n",
      "198\n",
      "199\n",
      "200\n",
      "201\n",
      "202\n",
      "203\n",
      "204\n",
      "205\n",
      "206\n",
      "207\n",
      "208\n",
      "209\n",
      "210\n",
      "211\n",
      "212\n",
      "213\n",
      "214\n",
      "215\n",
      "216\n",
      "217\n",
      "218\n",
      "219\n",
      "220\n",
      "221\n",
      "222\n",
      "223\n",
      "224\n",
      "225\n",
      "226\n",
      "227\n",
      "228\n",
      "229\n",
      "230\n",
      "231\n",
      "232\n",
      "233\n",
      "234\n",
      "235\n",
      "236\n",
      "237\n",
      "238\n",
      "239\n",
      "240\n",
      "241\n",
      "242\n",
      "243\n",
      "244\n",
      "245\n",
      "246\n",
      "247\n",
      "248\n",
      "249\n",
      "250\n",
      "251\n",
      "252\n",
      "253\n",
      "254\n",
      "255\n",
      "256\n",
      "257\n",
      "258\n",
      "259\n",
      "260\n",
      "261\n",
      "262\n",
      "263\n",
      "264\n",
      "265\n",
      "266\n",
      "267\n",
      "268\n",
      "269\n",
      "270\n",
      "271\n",
      "272\n",
      "273\n",
      "274\n",
      "275\n",
      "276\n",
      "277\n",
      "278\n",
      "279\n",
      "280\n",
      "281\n",
      "282\n",
      "283\n",
      "284\n",
      "285\n",
      "286\n",
      "287\n",
      "288\n",
      "289\n",
      "290\n",
      "291\n",
      "292\n",
      "293\n",
      "294\n",
      "295\n",
      "296\n",
      "297\n",
      "298\n",
      "299\n",
      "300\n",
      "301\n",
      "302\n",
      "303\n",
      "304\n",
      "305\n",
      "306\n",
      "307\n",
      "308\n",
      "309\n",
      "310\n",
      "311\n",
      "312\n",
      "313\n",
      "314\n",
      "315\n",
      "316\n",
      "317\n",
      "318\n",
      "319\n",
      "320\n",
      "321\n",
      "322\n",
      "323\n",
      "324\n",
      "325\n",
      "326\n",
      "327\n",
      "328\n",
      "329\n",
      "330\n",
      "331\n",
      "332\n",
      "333\n",
      "334\n",
      "335\n",
      "336\n",
      "337\n",
      "338\n",
      "339\n",
      "340\n",
      "341\n",
      "342\n",
      "343\n",
      "344\n",
      "345\n",
      "346\n",
      "347\n",
      "348\n",
      "349\n",
      "350\n",
      "351\n",
      "352\n",
      "353\n",
      "354\n",
      "355\n",
      "356\n",
      "357\n",
      "358\n",
      "359\n",
      "360\n",
      "361\n",
      "362\n",
      "363\n",
      "364\n",
      "365\n",
      "366\n",
      "367\n",
      "368\n",
      "369\n",
      "370\n",
      "371\n",
      "372\n",
      "373\n",
      "374\n",
      "375\n",
      "376\n",
      "377\n",
      "378\n",
      "379\n",
      "380\n",
      "381\n",
      "382\n",
      "383\n",
      "384\n",
      "385\n",
      "386\n",
      "387\n",
      "388\n",
      "389\n",
      "390\n",
      "391\n",
      "392\n",
      "393\n",
      "394\n",
      "395\n",
      "396\n",
      "397\n",
      "398\n",
      "399\n",
      "400\n",
      "401\n",
      "402\n",
      "403\n",
      "404\n",
      "405\n",
      "406\n",
      "407\n",
      "408\n",
      "409\n",
      "410\n",
      "411\n",
      "412\n",
      "413\n",
      "414\n",
      "415\n",
      "416\n",
      "417\n",
      "418\n",
      "419\n",
      "420\n",
      "421\n",
      "422\n",
      "423\n",
      "424\n",
      "425\n",
      "426\n",
      "427\n",
      "428\n",
      "429\n",
      "430\n",
      "431\n",
      "432\n",
      "433\n",
      "434\n",
      "435\n",
      "436\n",
      "437\n",
      "438\n",
      "439\n",
      "440\n",
      "441\n",
      "442\n",
      "443\n",
      "444\n",
      "445\n",
      "446\n",
      "447\n",
      "448\n",
      "449\n",
      "450\n",
      "451\n",
      "452\n",
      "453\n",
      "454\n",
      "455\n",
      "456\n",
      "457\n",
      "458\n",
      "459\n",
      "460\n",
      "461\n",
      "462\n",
      "463\n",
      "464\n",
      "465\n",
      "466\n",
      "467\n",
      "468\n",
      "469\n",
      "470\n",
      "471\n",
      "472\n",
      "473\n",
      "474\n",
      "475\n",
      "476\n",
      "477\n",
      "478\n",
      "479\n",
      "480\n",
      "481\n",
      "482\n",
      "483\n",
      "484\n",
      "485\n",
      "486\n",
      "487\n",
      "488\n",
      "489\n",
      "490\n",
      "491\n",
      "492\n",
      "493\n",
      "494\n",
      "495\n",
      "496\n",
      "497\n",
      "498\n",
      "499\n",
      "500\n"
     ]
    }
   ],
   "source": [
    "count = 0\n",
    "for i in range(0,501):\n",
    "    print(i)"
   ]
  },
  {
   "cell_type": "code",
   "execution_count": 24,
   "id": "4fafd90d",
   "metadata": {},
   "outputs": [
    {
     "name": "stdout",
     "output_type": "stream",
     "text": [
      "1 2 3 4 5 6 7 8 9 10 11 12 13 14 15 16 17 18 19 20 21 22 23 24 25 26 27 28 29 30 31 32 33 34 35 36 37 38 39 40 41 42 43 44 45 46 47 48 49 50 51 52 53 54 55 56 57 58 59 60 61 62 63 64 65 66 67 68 69 70 71 72 73 74 75 76 77 78 79 80 81 82 83 84 85 86 87 88 89 90 91 92 93 94 95 96 97 98 99 100 101 102 103 104 105 106 107 108 109 110 111 112 113 114 115 116 117 118 119 120 121 122 123 124 125 126 127 128 129 130 131 132 133 134 135 136 137 138 139 140 141 142 143 144 145 146 147 148 149 150 151 152 153 154 155 156 157 158 159 160 161 162 163 164 165 166 167 168 169 170 171 172 173 174 175 176 177 178 179 180 181 182 183 184 185 186 187 188 189 190 191 192 193 194 195 196 197 198 199 200 201 202 203 204 205 206 207 208 209 210 211 212 213 214 215 216 217 218 219 220 221 222 223 224 225 226 227 228 229 230 231 232 233 234 235 236 237 238 239 240 241 242 243 244 245 246 247 248 249 250 251 252 253 254 255 256 257 258 259 260 261 262 263 264 265 266 267 268 269 270 271 272 273 274 275 276 277 278 279 280 281 282 283 284 285 286 287 288 289 290 291 292 293 294 295 296 297 298 299 300 301 302 303 304 305 306 307 308 309 310 311 312 313 314 315 316 317 318 319 320 321 322 323 324 325 326 327 328 329 330 331 332 333 334 335 336 337 338 339 340 341 342 343 344 345 346 347 348 349 350 351 352 353 354 355 356 357 358 359 360 361 362 363 364 365 366 367 368 369 370 371 372 373 374 375 376 377 378 379 380 381 382 383 384 385 386 387 388 389 390 391 392 393 394 395 396 397 398 399 400 401 402 403 404 405 406 407 408 409 410 411 412 413 414 415 416 417 418 419 420 421 422 423 424 425 426 427 428 429 430 431 432 433 434 435 436 437 438 439 440 441 442 443 444 445 446 447 448 449 450 451 452 453 454 455 456 457 458 459 460 461 462 463 464 465 466 467 468 469 470 471 472 473 474 475 476 477 478 479 480 481 482 483 484 485 486 487 488 489 490 491 492 493 494 495 496 497 498 499 500 "
     ]
    }
   ],
   "source": [
    "def printNos(n):\n",
    "    if n > 0:\n",
    "        printNos(n - 1)\n",
    "        print(n, end = ' ')\n",
    "printNos(500)"
   ]
  },
  {
   "cell_type": "code",
   "execution_count": 28,
   "id": "29e87764",
   "metadata": {},
   "outputs": [
    {
     "name": "stdout",
     "output_type": "stream",
     "text": [
      "137\n"
     ]
    }
   ],
   "source": [
    "answer = 77\n",
    "if answer == 'Yes':\n",
    "    result = 100 - 37\n",
    "else:\n",
    "    result = 100 + 37\n",
    "print(result)"
   ]
  },
  {
   "cell_type": "code",
   "execution_count": null,
   "id": "fc701293",
   "metadata": {},
   "outputs": [],
   "source": []
  }
 ],
 "metadata": {
  "kernelspec": {
   "display_name": "Python 3 (ipykernel)",
   "language": "python",
   "name": "python3"
  },
  "language_info": {
   "codemirror_mode": {
    "name": "ipython",
    "version": 3
   },
   "file_extension": ".py",
   "mimetype": "text/x-python",
   "name": "python",
   "nbconvert_exporter": "python",
   "pygments_lexer": "ipython3",
   "version": "3.11.5"
  }
 },
 "nbformat": 4,
 "nbformat_minor": 5
}
