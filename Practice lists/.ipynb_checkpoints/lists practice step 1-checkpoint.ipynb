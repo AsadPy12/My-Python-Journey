{
 "cells": [
  {
   "cell_type": "markdown",
   "id": "60654415",
   "metadata": {},
   "source": [
    "#### List And Its Methods:"
   ]
  },
  {
   "cell_type": "code",
   "execution_count": 14,
   "id": "61f5c79e",
   "metadata": {},
   "outputs": [],
   "source": [
    "# make a list \n",
    "grocery_list = ['apple','mango', 'rice', 'sugar', 'cooking oil' ']"
   ]
  },
  {
   "cell_type": "code",
   "execution_count": 30,
   "id": "22463ca2",
   "metadata": {},
   "outputs": [
    {
     "data": {
      "text/plain": [
       "['apple', 'mango', 'rice', 'sugar', 'cooking oil', 'bread']"
      ]
     },
     "execution_count": 30,
     "metadata": {},
     "output_type": "execute_result"
    }
   ],
   "source": [
    "# add any object in last of list we use append method.\n",
    "grocery_list.append(\"bread\")\n",
    "# show the list again\n",
    "grocery_list"
   ]
  },
  {
   "cell_type": "raw",
   "id": "880abfc1",
   "metadata": {},
   "source": [
    "# to remove all list we use clear method.\n",
    "grocery_list.clear()"
   ]
  },
  {
   "cell_type": "code",
   "execution_count": 32,
   "id": "d8f7e640",
   "metadata": {},
   "outputs": [
    {
     "data": {
      "text/plain": [
       "['apple', 'mango', 'rice', 'sugar', 'cooking oil', 'bread']"
      ]
     },
     "execution_count": 32,
     "metadata": {},
     "output_type": "execute_result"
    }
   ],
   "source": [
    "# to make copy of any list we use copy method.\n",
    "grocery_list.copy()"
   ]
  },
  {
   "cell_type": "code",
   "execution_count": 37,
   "id": "5cd12509",
   "metadata": {},
   "outputs": [
    {
     "data": {
      "text/plain": [
       "1"
      ]
     },
     "execution_count": 37,
     "metadata": {},
     "output_type": "execute_result"
    }
   ],
   "source": [
    "# counting words in list.\n",
    "grocery_list.count('apple')"
   ]
  },
  {
   "cell_type": "code",
   "execution_count": null,
   "id": "dc5609d3",
   "metadata": {},
   "outputs": [],
   "source": [
    "grocery_list."
   ]
  },
  {
   "cell_type": "code",
   "execution_count": 40,
   "id": "421961f3",
   "metadata": {},
   "outputs": [
    {
     "data": {
      "text/plain": [
       "['apple',\n",
       " 'mango',\n",
       " 'rice',\n",
       " 'sugar',\n",
       " 'cooking oil',\n",
       " 'bread',\n",
       " 'a',\n",
       " 'p',\n",
       " 'p',\n",
       " 'l',\n",
       " 'e',\n",
       " 'a',\n",
       " 'p',\n",
       " 'p',\n",
       " 'l',\n",
       " 'e']"
      ]
     },
     "execution_count": 40,
     "metadata": {},
     "output_type": "execute_result"
    }
   ],
   "source": [
    "# for extending alphabets in one by one place.\n",
    "grocery_list.extend('apple')\n",
    "grocery_list"
   ]
  },
  {
   "cell_type": "code",
   "execution_count": null,
   "id": "919d38c3",
   "metadata": {},
   "outputs": [],
   "source": []
  },
  {
   "cell_type": "code",
   "execution_count": null,
   "id": "961cdaf8",
   "metadata": {},
   "outputs": [],
   "source": []
  },
  {
   "cell_type": "code",
   "execution_count": null,
   "id": "a9b73fde",
   "metadata": {},
   "outputs": [],
   "source": []
  },
  {
   "cell_type": "code",
   "execution_count": null,
   "id": "9a365cbf",
   "metadata": {},
   "outputs": [],
   "source": []
  },
  {
   "cell_type": "code",
   "execution_count": null,
   "id": "ef64042a",
   "metadata": {},
   "outputs": [],
   "source": []
  },
  {
   "cell_type": "markdown",
   "id": "a4f1cd8a",
   "metadata": {},
   "source": [
    "#### Grocery List Analyzer"
   ]
  },
  {
   "cell_type": "code",
   "execution_count": 3,
   "id": "ec655e18",
   "metadata": {},
   "outputs": [],
   "source": [
    "grocery_list = ['apple','mango', 'rice', 'sugar', 'cooking oil']"
   ]
  },
  {
   "cell_type": "code",
   "execution_count": 4,
   "id": "c5f5ffe7",
   "metadata": {},
   "outputs": [],
   "source": [
    "for _ in grocery_list:\n",
    "    grocery_list"
   ]
  },
  {
   "cell_type": "code",
   "execution_count": null,
   "id": "72a1f9b9",
   "metadata": {},
   "outputs": [],
   "source": []
  }
 ],
 "metadata": {
  "kernelspec": {
   "display_name": "Python 3 (ipykernel)",
   "language": "python",
   "name": "python3"
  },
  "language_info": {
   "codemirror_mode": {
    "name": "ipython",
    "version": 3
   },
   "file_extension": ".py",
   "mimetype": "text/x-python",
   "name": "python",
   "nbconvert_exporter": "python",
   "pygments_lexer": "ipython3",
   "version": "3.11.5"
  }
 },
 "nbformat": 4,
 "nbformat_minor": 5
}
